{
 "cells": [
  {
   "cell_type": "markdown",
   "id": "497ba77b",
   "metadata": {},
   "source": [
    "# This notebook file is used aligning fitbit for the PA protocol"
   ]
  },
  {
   "cell_type": "code",
   "execution_count": 38,
   "id": "d93b3ec7",
   "metadata": {},
   "outputs": [],
   "source": [
    "import pandas as pd\n",
    "import numpy as np\n",
    "from datetime import datetime, time, timedelta\n",
    "from matplotlib import pyplot as plt\n",
    "import glob\n",
    "import os"
   ]
  },
  {
   "cell_type": "markdown",
   "id": "866980ad",
   "metadata": {},
   "source": [
    "## The block of code below reads in the fitbit-hr and fitabase. Then it plots them\n",
    "<p>Please be sure to change the first line of code in the block below. You should change the participant number to the current participant that you are trying to process. For example the end of the line may read something like '\\\\2989\\\\'. If you wanted to process participant 3000 you would change the 2989 to 3000.</p>"
   ]
  },
  {
   "cell_type": "code",
   "execution_count": 39,
   "id": "703fb497",
   "metadata": {},
   "outputs": [
    {
     "name": "stdout",
     "output_type": "stream",
     "text": [
      "Enter the number of parts: 2\n",
      "Enter participant 0: 7518042423\n",
      "Enter participant 1: 7517042523\n",
      "Processing Participant 7518042423\n",
      "Processing Participant 7517042523\n"
     ]
    }
   ],
   "source": []
  },
  {
   "cell_type": "code",
   "execution_count": null,
   "id": "a69a1b67",
   "metadata": {},
   "outputs": [],
   "source": []
  },
  {
   "cell_type": "code",
   "execution_count": null,
   "id": "ed832f0a",
   "metadata": {},
   "outputs": [],
   "source": []
  }
 ],
 "metadata": {
  "kernelspec": {
   "display_name": "Python 3 (ipykernel)",
   "language": "python",
   "name": "python3"
  },
  "language_info": {
   "codemirror_mode": {
    "name": "ipython",
    "version": 3
   },
   "file_extension": ".py",
   "mimetype": "text/x-python",
   "name": "python",
   "nbconvert_exporter": "python",
   "pygments_lexer": "ipython3",
   "version": "3.10.9"
  }
 },
 "nbformat": 4,
 "nbformat_minor": 5
}
