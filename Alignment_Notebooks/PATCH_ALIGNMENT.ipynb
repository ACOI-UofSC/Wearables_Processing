{
 "cells": [
  {
   "cell_type": "code",
   "execution_count": 1,
   "id": "e68d3529",
   "metadata": {},
   "outputs": [],
   "source": [
    "import pandas as pd\n",
    "from datetime import datetime, time, timedelta\n",
    "from matplotlib import pyplot as plt\n",
    "import glob\n",
    "import os"
   ]
  },
  {
   "cell_type": "code",
   "execution_count": 5,
   "id": "ecc2caa4",
   "metadata": {},
   "outputs": [],
   "source": [
    "patch_path=\"C:/Users/sambit/University of South Carolina/Armstrong, Bridget - PATCH project/2_Child Protocol/PATCH 2.0/Energy Expenditure/Raw data_\"\n",
    "\n",
    "output_path=\"C:/Users/sambit/Desktop/DeleteFolder/\"\n",
    "patch_participants=glob.glob(patch_path+\"[0-9][0-9][0-9][0-9]/\")\n",
    "for participant in patch_participants:\n",
    "    part_id=participant[len(patch_path):len(patch_path)+4]\n",
    "    #print(participant+f\"{part_id}_K5_clean.xlsx\")\n",
    "    try:\n",
    "        xl_file=pd.read_excel(participant+f\"{part_id}_K5_simple.xlsx\")\n",
    "        # Get the list of sheet names in the Excel file\n",
    "        sheet_names = xl_file.sheet_names\n",
    "\n",
    "        # Check if there is more than one sheet\n",
    "        if len(sheet_names) > 1:\n",
    "            print(part_id)\n",
    "    except:pass\n",
    "    \n",
    "        \n",
    "    "
   ]
  },
  {
   "cell_type": "code",
   "execution_count": null,
   "id": "a93f3866",
   "metadata": {},
   "outputs": [],
   "source": []
  }
 ],
 "metadata": {
  "kernelspec": {
   "display_name": "Python 3 (ipykernel)",
   "language": "python",
   "name": "python3"
  },
  "language_info": {
   "codemirror_mode": {
    "name": "ipython",
    "version": 3
   },
   "file_extension": ".py",
   "mimetype": "text/x-python",
   "name": "python",
   "nbconvert_exporter": "python",
   "pygments_lexer": "ipython3",
   "version": "3.10.9"
  }
 },
 "nbformat": 4,
 "nbformat_minor": 5
}
