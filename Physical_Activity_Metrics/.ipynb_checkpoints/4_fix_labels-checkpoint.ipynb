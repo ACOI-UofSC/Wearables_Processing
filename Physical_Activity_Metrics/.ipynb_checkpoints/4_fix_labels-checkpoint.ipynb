{
 "cells": [
  {
   "cell_type": "code",
   "execution_count": 3,
   "id": "a021bf57",
   "metadata": {},
   "outputs": [],
   "source": [
    "import glob\n",
    "import pandas as pd\n",
    "from datetime import datetime"
   ]
  },
  {
   "cell_type": "code",
   "execution_count": 41,
   "id": "c9126806",
   "metadata": {},
   "outputs": [],
   "source": [
    "dir_path = \"C:/Users/ntindall/Wearables/Physical Activity/Rahul_Accelerometer_Metrics/Final_Metrics/Final_Metrics/\"\n",
    "file_paths = glob.glob(dir_path + \"*.csv\")"
   ]
  },
  {
   "cell_type": "code",
   "execution_count": 3,
   "id": "b6a244ee",
   "metadata": {},
   "outputs": [],
   "source": [
    "dir_path = \"C:/Users/sambit/Desktop/Apple/Combined_Apple_Metrics_With_Agg_20_seconds/\"\n",
    "out_path = \"C:/Users/sambit/Desktop/Apple/Combined_Apple_Metrics_With_Agg_20_seconds/\"\n",
    "file_paths = glob.glob(dir_path + \"0444.csv\")"
   ]
  },
  {
   "cell_type": "code",
   "execution_count": 2,
   "id": "29115a28",
   "metadata": {},
   "outputs": [],
   "source": [
    "dir_path = \"C:/Users/ntindall/Wearables/Physical Activity/Rahul_Accelerometer_Metrics/Fitbit_Metrics/Labeled_Metrics/\"\n",
    "out_path = \"C:/Users/ntindall/Wearables/Physical Activity/Rahul_Accelerometer_Metrics/Fitbit_Metrics/Corrected_Labels_Metrics/\"\n",
    "file_paths = glob.glob(dir_path + \"*.csv\")"
   ]
  },
  {
   "cell_type": "code",
   "execution_count": 3,
   "id": "412eccc4",
   "metadata": {},
   "outputs": [],
   "source": [
    "for file in file_paths:\n",
    "    file_name = file.split(\"\\\\\")[-1]\n",
    "    data = pd.read_csv(file)\n",
    "    data['Activity'] = data['Activity'].apply(lambda x: x.lower())\n",
    "    data.loc[data['Activity'] == 'Obstacle course', 'Activity'] = \"don’t drop the egg\"\n",
    "    data.to_csv(out_path + file_name, index=False)"
   ]
  },
  {
   "cell_type": "code",
   "execution_count": 12,
   "id": "6f7120fe",
   "metadata": {},
   "outputs": [],
   "source": [
    "bad_boi1 = \"C:/Users/sambit/Desktop/Apple/Combined_Apple_Metrics_With_Agg_20_seconds/0967_combined_metrics.csv\"\n",
    "df = pd.read_csv(bad_boi1)\n",
    "df.loc[df['Activity'] == 'Obstacle course', 'Activity'] = \"Intense Obstacle course\"\n",
    "df.to_csv(bad_boi1, index=False)"
   ]
  },
  {
   "cell_type": "code",
   "execution_count": 14,
   "id": "a9d41188",
   "metadata": {
    "scrolled": true
   },
   "outputs": [
    {
     "ename": "TypeError",
     "evalue": "'>=' not supported between instances of 'str' and 'datetime.datetime'",
     "output_type": "error",
     "traceback": [
      "\u001b[1;31m---------------------------------------------------------------------------\u001b[0m",
      "\u001b[1;31mTypeError\u001b[0m                                 Traceback (most recent call last)",
      "Cell \u001b[1;32mIn[14], line 5\u001b[0m\n\u001b[0;32m      3\u001b[0m int_start \u001b[38;5;241m=\u001b[39m datetime(year\u001b[38;5;241m=\u001b[39m\u001b[38;5;241m2022\u001b[39m, month\u001b[38;5;241m=\u001b[39m\u001b[38;5;241m7\u001b[39m, day\u001b[38;5;241m=\u001b[39m\u001b[38;5;241m8\u001b[39m, hour\u001b[38;5;241m=\u001b[39m\u001b[38;5;241m10\u001b[39m, minute\u001b[38;5;241m=\u001b[39m\u001b[38;5;241m32\u001b[39m, second\u001b[38;5;241m=\u001b[39m\u001b[38;5;241m25\u001b[39m)\n\u001b[0;32m      4\u001b[0m int_end \u001b[38;5;241m=\u001b[39m datetime(year\u001b[38;5;241m=\u001b[39m\u001b[38;5;241m2022\u001b[39m, month\u001b[38;5;241m=\u001b[39m\u001b[38;5;241m7\u001b[39m, day\u001b[38;5;241m=\u001b[39m\u001b[38;5;241m8\u001b[39m, hour\u001b[38;5;241m=\u001b[39m\u001b[38;5;241m10\u001b[39m, minute\u001b[38;5;241m=\u001b[39m\u001b[38;5;241m37\u001b[39m, second\u001b[38;5;241m=\u001b[39m\u001b[38;5;241m25\u001b[39m)\n\u001b[1;32m----> 5\u001b[0m df\u001b[38;5;241m.\u001b[39mloc[(\u001b[43mdf\u001b[49m\u001b[43m[\u001b[49m\u001b[38;5;124;43m'\u001b[39;49m\u001b[38;5;124;43mTime\u001b[39;49m\u001b[38;5;124;43m'\u001b[39;49m\u001b[43m]\u001b[49m\u001b[43m \u001b[49m\u001b[38;5;241;43m>\u001b[39;49m\u001b[38;5;241;43m=\u001b[39;49m\u001b[43m \u001b[49m\u001b[43mint_start\u001b[49m) \u001b[38;5;241m&\u001b[39m (df[\u001b[38;5;124m'\u001b[39m\u001b[38;5;124mTime\u001b[39m\u001b[38;5;124m'\u001b[39m] \u001b[38;5;241m<\u001b[39m\u001b[38;5;241m=\u001b[39m int_end)] \n\u001b[0;32m      6\u001b[0m df\n",
      "File \u001b[1;32m~\\AppData\\Local\\anaconda3\\lib\\site-packages\\pandas\\core\\ops\\common.py:72\u001b[0m, in \u001b[0;36m_unpack_zerodim_and_defer.<locals>.new_method\u001b[1;34m(self, other)\u001b[0m\n\u001b[0;32m     68\u001b[0m             \u001b[38;5;28;01mreturn\u001b[39;00m \u001b[38;5;28mNotImplemented\u001b[39m\n\u001b[0;32m     70\u001b[0m other \u001b[38;5;241m=\u001b[39m item_from_zerodim(other)\n\u001b[1;32m---> 72\u001b[0m \u001b[38;5;28;01mreturn\u001b[39;00m \u001b[43mmethod\u001b[49m\u001b[43m(\u001b[49m\u001b[38;5;28;43mself\u001b[39;49m\u001b[43m,\u001b[49m\u001b[43m \u001b[49m\u001b[43mother\u001b[49m\u001b[43m)\u001b[49m\n",
      "File \u001b[1;32m~\\AppData\\Local\\anaconda3\\lib\\site-packages\\pandas\\core\\arraylike.py:62\u001b[0m, in \u001b[0;36mOpsMixin.__ge__\u001b[1;34m(self, other)\u001b[0m\n\u001b[0;32m     60\u001b[0m \u001b[38;5;129m@unpack_zerodim_and_defer\u001b[39m(\u001b[38;5;124m\"\u001b[39m\u001b[38;5;124m__ge__\u001b[39m\u001b[38;5;124m\"\u001b[39m)\n\u001b[0;32m     61\u001b[0m \u001b[38;5;28;01mdef\u001b[39;00m \u001b[38;5;21m__ge__\u001b[39m(\u001b[38;5;28mself\u001b[39m, other):\n\u001b[1;32m---> 62\u001b[0m     \u001b[38;5;28;01mreturn\u001b[39;00m \u001b[38;5;28;43mself\u001b[39;49m\u001b[38;5;241;43m.\u001b[39;49m\u001b[43m_cmp_method\u001b[49m\u001b[43m(\u001b[49m\u001b[43mother\u001b[49m\u001b[43m,\u001b[49m\u001b[43m \u001b[49m\u001b[43moperator\u001b[49m\u001b[38;5;241;43m.\u001b[39;49m\u001b[43mge\u001b[49m\u001b[43m)\u001b[49m\n",
      "File \u001b[1;32m~\\AppData\\Local\\anaconda3\\lib\\site-packages\\pandas\\core\\series.py:6243\u001b[0m, in \u001b[0;36mSeries._cmp_method\u001b[1;34m(self, other, op)\u001b[0m\n\u001b[0;32m   6240\u001b[0m rvalues \u001b[38;5;241m=\u001b[39m extract_array(other, extract_numpy\u001b[38;5;241m=\u001b[39m\u001b[38;5;28;01mTrue\u001b[39;00m, extract_range\u001b[38;5;241m=\u001b[39m\u001b[38;5;28;01mTrue\u001b[39;00m)\n\u001b[0;32m   6242\u001b[0m \u001b[38;5;28;01mwith\u001b[39;00m np\u001b[38;5;241m.\u001b[39merrstate(\u001b[38;5;28mall\u001b[39m\u001b[38;5;241m=\u001b[39m\u001b[38;5;124m\"\u001b[39m\u001b[38;5;124mignore\u001b[39m\u001b[38;5;124m\"\u001b[39m):\n\u001b[1;32m-> 6243\u001b[0m     res_values \u001b[38;5;241m=\u001b[39m \u001b[43mops\u001b[49m\u001b[38;5;241;43m.\u001b[39;49m\u001b[43mcomparison_op\u001b[49m\u001b[43m(\u001b[49m\u001b[43mlvalues\u001b[49m\u001b[43m,\u001b[49m\u001b[43m \u001b[49m\u001b[43mrvalues\u001b[49m\u001b[43m,\u001b[49m\u001b[43m \u001b[49m\u001b[43mop\u001b[49m\u001b[43m)\u001b[49m\n\u001b[0;32m   6245\u001b[0m \u001b[38;5;28;01mreturn\u001b[39;00m \u001b[38;5;28mself\u001b[39m\u001b[38;5;241m.\u001b[39m_construct_result(res_values, name\u001b[38;5;241m=\u001b[39mres_name)\n",
      "File \u001b[1;32m~\\AppData\\Local\\anaconda3\\lib\\site-packages\\pandas\\core\\ops\\array_ops.py:287\u001b[0m, in \u001b[0;36mcomparison_op\u001b[1;34m(left, right, op)\u001b[0m\n\u001b[0;32m    284\u001b[0m     \u001b[38;5;28;01mreturn\u001b[39;00m invalid_comparison(lvalues, rvalues, op)\n\u001b[0;32m    286\u001b[0m \u001b[38;5;28;01melif\u001b[39;00m is_object_dtype(lvalues\u001b[38;5;241m.\u001b[39mdtype) \u001b[38;5;129;01mor\u001b[39;00m \u001b[38;5;28misinstance\u001b[39m(rvalues, \u001b[38;5;28mstr\u001b[39m):\n\u001b[1;32m--> 287\u001b[0m     res_values \u001b[38;5;241m=\u001b[39m \u001b[43mcomp_method_OBJECT_ARRAY\u001b[49m\u001b[43m(\u001b[49m\u001b[43mop\u001b[49m\u001b[43m,\u001b[49m\u001b[43m \u001b[49m\u001b[43mlvalues\u001b[49m\u001b[43m,\u001b[49m\u001b[43m \u001b[49m\u001b[43mrvalues\u001b[49m\u001b[43m)\u001b[49m\n\u001b[0;32m    289\u001b[0m \u001b[38;5;28;01melse\u001b[39;00m:\n\u001b[0;32m    290\u001b[0m     res_values \u001b[38;5;241m=\u001b[39m _na_arithmetic_op(lvalues, rvalues, op, is_cmp\u001b[38;5;241m=\u001b[39m\u001b[38;5;28;01mTrue\u001b[39;00m)\n",
      "File \u001b[1;32m~\\AppData\\Local\\anaconda3\\lib\\site-packages\\pandas\\core\\ops\\array_ops.py:75\u001b[0m, in \u001b[0;36mcomp_method_OBJECT_ARRAY\u001b[1;34m(op, x, y)\u001b[0m\n\u001b[0;32m     73\u001b[0m     result \u001b[38;5;241m=\u001b[39m libops\u001b[38;5;241m.\u001b[39mvec_compare(x\u001b[38;5;241m.\u001b[39mravel(), y\u001b[38;5;241m.\u001b[39mravel(), op)\n\u001b[0;32m     74\u001b[0m \u001b[38;5;28;01melse\u001b[39;00m:\n\u001b[1;32m---> 75\u001b[0m     result \u001b[38;5;241m=\u001b[39m \u001b[43mlibops\u001b[49m\u001b[38;5;241;43m.\u001b[39;49m\u001b[43mscalar_compare\u001b[49m\u001b[43m(\u001b[49m\u001b[43mx\u001b[49m\u001b[38;5;241;43m.\u001b[39;49m\u001b[43mravel\u001b[49m\u001b[43m(\u001b[49m\u001b[43m)\u001b[49m\u001b[43m,\u001b[49m\u001b[43m \u001b[49m\u001b[43my\u001b[49m\u001b[43m,\u001b[49m\u001b[43m \u001b[49m\u001b[43mop\u001b[49m\u001b[43m)\u001b[49m\n\u001b[0;32m     76\u001b[0m \u001b[38;5;28;01mreturn\u001b[39;00m result\u001b[38;5;241m.\u001b[39mreshape(x\u001b[38;5;241m.\u001b[39mshape)\n",
      "File \u001b[1;32m~\\AppData\\Local\\anaconda3\\lib\\site-packages\\pandas\\_libs\\ops.pyx:107\u001b[0m, in \u001b[0;36mpandas._libs.ops.scalar_compare\u001b[1;34m()\u001b[0m\n",
      "\u001b[1;31mTypeError\u001b[0m: '>=' not supported between instances of 'str' and 'datetime.datetime'"
     ]
    }
   ],
   "source": [
    "bad_boi1 = \"C:/Users/sambit/Desktop/Apple/Combined_Apple_Metrics_With_Agg_20_seconds/0967_combined_metrics.csv\"\n",
    "df = pd.read_csv(bad_boi1)\n",
    "int_start = datetime(year=2022, month=7, day=8, hour=10, minute=32, second=25)\n",
    "int_end = datetime(year=2022, month=7, day=8, hour=10, minute=37, second=25)\n",
    "df.loc[(df['Time'] >= int_start) & (df['Time'] <= int_end), 'Activity'] \n",
    "df"
   ]
  },
  {
   "cell_type": "code",
   "execution_count": 26,
   "id": "3a56f1f1",
   "metadata": {},
   "outputs": [],
   "source": [
    "bad_boi2 = \"C:/Users/sambit/Desktop/Apple/Combined_Apple_Metrics_With_Agg_60_seconds//0967_combined_metrics.csv\"\n",
    "df2 = pd.read_csv(bad_boi2, parse_dates=['Time'], infer_datetime_format=True)\n",
    "df2['Time'] = pd.to_datetime(df2['Time'], format='%Y-%m-%d %H:%M:%S')  \n",
    "int_start = datetime(year=2022, month=7, day=8, hour=10, minute=32, second=25)\n",
    "int_end = datetime(year=2022, month=7, day=8, hour=10, minute=37, second=25)\n",
    "df2.loc[((df['Activity'] == 'Obstacle course')&(df2['Time'] >= int_start) & (df2['Time'] <= int_end)),'Activity'] = 'Intense Obstacle course'\n",
    "light_start = datetime(year=2022, month=7, day=8, hour=10, minute=46, second=44)\n",
    "light_end = datetime(year=2022, month=7, day=8, hour=10, minute=51, second=44)\n",
    "df2.loc[((df2['Activity'] == 'Obstacle course')&(df2['Time'] >= light_start) & (df2['Time'] <= light_end)),'Activity'] = 'Light Obstacle course'\n",
    "df2.to_csv(bad_boi2)"
   ]
  },
  {
   "cell_type": "code",
   "execution_count": 4,
   "id": "e31340a1",
   "metadata": {},
   "outputs": [],
   "source": [
    "corrected_paths = glob.glob(out_path + \"*.csv\")\n",
    "df_list = []\n",
    "for file in corrected_paths:\n",
    "    df_list.append(pd.read_csv(file, usecols=['Activity']))\n",
    "    if df_list[-1].loc[df_list[-1]['Activity'] == 'obstacle course', 'Activity'].shape[0] > 0:\n",
    "        print(file)"
   ]
  },
  {
   "cell_type": "code",
   "execution_count": 5,
   "id": "af5ae19d",
   "metadata": {},
   "outputs": [
    {
     "data": {
      "text/html": [
       "<div>\n",
       "<style scoped>\n",
       "    .dataframe tbody tr th:only-of-type {\n",
       "        vertical-align: middle;\n",
       "    }\n",
       "\n",
       "    .dataframe tbody tr th {\n",
       "        vertical-align: top;\n",
       "    }\n",
       "\n",
       "    .dataframe thead th {\n",
       "        text-align: right;\n",
       "    }\n",
       "</style>\n",
       "<table border=\"1\" class=\"dataframe\">\n",
       "  <thead>\n",
       "    <tr style=\"text-align: right;\">\n",
       "      <th></th>\n",
       "      <th>Activity</th>\n",
       "    </tr>\n",
       "  </thead>\n",
       "  <tbody>\n",
       "    <tr>\n",
       "      <th>0</th>\n",
       "      <td>before protocol</td>\n",
       "    </tr>\n",
       "    <tr>\n",
       "      <th>1</th>\n",
       "      <td>before protocol</td>\n",
       "    </tr>\n",
       "    <tr>\n",
       "      <th>2</th>\n",
       "      <td>before protocol</td>\n",
       "    </tr>\n",
       "    <tr>\n",
       "      <th>3</th>\n",
       "      <td>before protocol</td>\n",
       "    </tr>\n",
       "    <tr>\n",
       "      <th>4</th>\n",
       "      <td>before protocol</td>\n",
       "    </tr>\n",
       "    <tr>\n",
       "      <th>...</th>\n",
       "      <td>...</td>\n",
       "    </tr>\n",
       "    <tr>\n",
       "      <th>4685</th>\n",
       "      <td>don’t drop the egg</td>\n",
       "    </tr>\n",
       "    <tr>\n",
       "      <th>4686</th>\n",
       "      <td>don’t drop the egg</td>\n",
       "    </tr>\n",
       "    <tr>\n",
       "      <th>4687</th>\n",
       "      <td>don’t drop the egg</td>\n",
       "    </tr>\n",
       "    <tr>\n",
       "      <th>4688</th>\n",
       "      <td>don’t drop the egg</td>\n",
       "    </tr>\n",
       "    <tr>\n",
       "      <th>4689</th>\n",
       "      <td>don’t drop the egg</td>\n",
       "    </tr>\n",
       "  </tbody>\n",
       "</table>\n",
       "<p>271662 rows × 1 columns</p>\n",
       "</div>"
      ],
      "text/plain": [
       "                Activity\n",
       "0        before protocol\n",
       "1        before protocol\n",
       "2        before protocol\n",
       "3        before protocol\n",
       "4        before protocol\n",
       "...                  ...\n",
       "4685  don’t drop the egg\n",
       "4686  don’t drop the egg\n",
       "4687  don’t drop the egg\n",
       "4688  don’t drop the egg\n",
       "4689  don’t drop the egg\n",
       "\n",
       "[271662 rows x 1 columns]"
      ]
     },
     "execution_count": 5,
     "metadata": {},
     "output_type": "execute_result"
    }
   ],
   "source": [
    "data = pd.concat(df_list)\n",
    "data"
   ]
  },
  {
   "cell_type": "code",
   "execution_count": 6,
   "id": "c0f36f3a",
   "metadata": {
    "scrolled": false
   },
   "outputs": [
    {
     "data": {
      "text/plain": [
       "Activity               \n",
       "transition                 41754\n",
       "resting, lying down        39957\n",
       "break                      21620\n",
       "intense obstacle course    20486\n",
       "walking casual             20155\n",
       "video viewing              20047\n",
       "walking brisk              19749\n",
       "gather the flags            8399\n",
       "card game                   7692\n",
       "coloring                    7594\n",
       "trampoline jumping          7565\n",
       "light obstacle course       7290\n",
       "cross the pond              7264\n",
       "don’t drop the egg          7234\n",
       "cleaning up                 6862\n",
       "soccer                      5470\n",
       "class activity              5460\n",
       "building blocks             5450\n",
       "trash collector             5191\n",
       "before protocol             3981\n",
       "after protocol              2442\n",
       "dtype: int64"
      ]
     },
     "execution_count": 6,
     "metadata": {},
     "output_type": "execute_result"
    }
   ],
   "source": [
    "data.value_counts()"
   ]
  },
  {
   "cell_type": "code",
   "execution_count": 7,
   "id": "63c88aa3",
   "metadata": {},
   "outputs": [
    {
     "data": {
      "text/plain": [
       "Activity    21\n",
       "dtype: int64"
      ]
     },
     "execution_count": 7,
     "metadata": {},
     "output_type": "execute_result"
    }
   ],
   "source": [
    "data.nunique()"
   ]
  },
  {
   "cell_type": "markdown",
   "id": "69a72646",
   "metadata": {},
   "source": [
    "## Streamline the column names"
   ]
  },
  {
   "cell_type": "code",
   "execution_count": 5,
   "id": "32507de7",
   "metadata": {},
   "outputs": [
    {
     "data": {
      "text/plain": [
       "'0118'"
      ]
     },
     "execution_count": 5,
     "metadata": {},
     "output_type": "execute_result"
    }
   ],
   "source": [
    "agg_dir=\"C:/Users/sambit/Desktop/Apple/Combined_Apple_Metrics_With_Agg_60_seconds/\"\n",
    "participant_paths = glob.glob(agg_dir + \"[0-9][0-9][0-9][0-9]_combined_metrics.csv\")\n",
    "total_participant = len(participant_paths)\n",
    "curr_participant = 1\n",
    "\n",
    "\n",
    "for participant in participant_paths:\n",
    "    p_id = participant[-25:-21]\n",
    "    print(f\"Agg file {p_id} {curr_participant}/{total_participant}\")\n",
    "    agg_file_path = participant + f\"{p_id}_agg.csv\"\n",
    "    if os.path.exists(agg_file_path):\n",
    "        with open(agg_file_path, 'r') as file:\n",
    "            file_contents = file.readline()\n",
    "            agg_df = pd.read_csv(agg_file_path)\n",
    "            \n",
    "            if \"Dominant Frequency_x\" in file_contents:\n",
    "                agg_df.rename(columns={\"Dominant Frequency_x\": 'Dominant Frequency'}, inplace=True)\n",
    "            if \"Power_x\" in file_contents:\n",
    "                agg_df.rename(columns={\"Power_x\": 'Power'}, inplace=True)\n",
    "            if \"Mag Mean_x\" in file_contents:\n",
    "                agg_df.rename(columns={\"Mag Mean_x\": 'Mag Mean'}, inplace=True)\n",
    "            if \"Mag STD_x\" in file_contents:\n",
    "                agg_df.rename(columns={\"Mag STD_x\": 'Mag STD'}, inplace=True)\n",
    "            if \"Mag Min_x\" in file_contents:\n",
    "                agg_df.rename(columns={\"Mag Min_x\": 'Mag Min'}, inplace=True)\n",
    "            if \"Mag 10th Percentile_x\" in file_contents:\n",
    "                agg_df.rename(columns={\"Mag 10th Percentile_x\": 'Mag 10th Percentile'}, inplace=True)\n",
    "            if \"Mag 25th Percentile_x\" in file_contents:\n",
    "                agg_df.rename(columns={\"Mag 25th Percentile_x\": 'Mag 25th Percentile'}, inplace=True)\n",
    "            if \"Mag 50th Percentile_x\" in file_contents:\n",
    "                agg_df.rename(columns={\"Mag 50th Percentile_x\": 'Mag 50th Percentile'}, inplace=True)\n",
    "            if \"Mag 75th Percentile_x\" in file_contents:\n",
    "                agg_df.rename(columns={\"Mag 75th Percentile_x\": 'Mag 75th Percentile'}, inplace=True)\n",
    "            if \"Mag 90th Percentile_x\" in file_contents:\n",
    "                agg_df.rename(columns={\"Mag 90th Percentile_x\": 'Mag 90th Percentile'}, inplace=True)\n",
    "            if \"Mag 3rd Moment_y\" in file_contents:\n",
    "                agg_df.rename(columns={\"Mag 3rd Moment_y\": 'Mag 3rd Moment'}, inplace=True)\n",
    "            if \"Mag 4th Moment_y\" in file_contents:\n",
    "                agg_df.rename(columns={\"Mag 4th Moment_y\": 'Mag 4th Moment'}, inplace=True)\n",
    "            if \"Mag Skewness_y\" in file_contents:\n",
    "                agg_df.rename(columns={\"Mag Skewness_y\": 'Mag Skewness'}, inplace=True)\n",
    "            if \"Mag Kurtosis_y\" in file_contents:\n",
    "                agg_df.rename(columns={\"Mag Kurtosis_y\": 'Mag Kurtosis'}, inplace=True)\n",
    "            if \"Mag 1sec Autocorrelation_x\" in file_contents:\n",
    "                agg_df.rename(columns={\"Mag 1sec Autocorrelation_x\": 'Mag 1sec Autocorrelation'}, inplace=True)\n",
    "            if \"XY Correlation_y\" in file_contents:\n",
    "                agg_df.rename(columns={\"XY Correlation_y\": 'XY Correlation'}, inplace=True)\n",
    "            if \"XZ Correlation_y\" in file_contents:\n",
    "                agg_df.rename(columns={\"XZ Correlation_y\": 'XZ Correlation'}, inplace=True)\n",
    "            if \"YZ Correlation_y\" in file_contents:\n",
    "                agg_df.rename(columns={\"YZ Correlation_y\": 'YZ Correlation'}, inplace=True)\n",
    "            \n",
    "            \n",
    "            \n",
    "                \n",
    "            agg_df.to_csv(agg_file_path, index=False)\n",
    "            \n",
    "    else:\n",
    "        print(\"No Agg File\")\n",
    "\n",
    "    curr_participant += 1"
   ]
  },
  {
   "cell_type": "code",
   "execution_count": null,
   "id": "8027f59c",
   "metadata": {},
   "outputs": [],
   "source": []
  }
 ],
 "metadata": {
  "kernelspec": {
   "display_name": "Python 3 (ipykernel)",
   "language": "python",
   "name": "python3"
  },
  "language_info": {
   "codemirror_mode": {
    "name": "ipython",
    "version": 3
   },
   "file_extension": ".py",
   "mimetype": "text/x-python",
   "name": "python",
   "nbconvert_exporter": "python",
   "pygments_lexer": "ipython3",
   "version": "3.10.9"
  }
 },
 "nbformat": 4,
 "nbformat_minor": 5
}
