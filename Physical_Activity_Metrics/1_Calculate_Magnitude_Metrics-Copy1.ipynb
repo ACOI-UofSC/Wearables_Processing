{
 "cells": [
  {
   "cell_type": "code",
   "execution_count": 1,
   "id": "290a2fe9",
   "metadata": {},
   "outputs": [],
   "source": [
    "from glob import glob\n",
    "from datetime import datetime, timedelta\n",
    "import pandas as pd\n",
    "import numpy as np\n",
    "from scipy.fft import fft, fftfreq, fftshift\n",
    "from scipy.signal import periodogram\n",
    "from scipy.stats import skew, moment, kurtosis\n",
    "from matplotlib import pyplot as plt\n",
    "import math\n",
    "from statsmodels.tsa.stattools import acf "
   ]
  },
  {
   "cell_type": "code",
   "execution_count": 2,
   "id": "3605773b",
   "metadata": {},
   "outputs": [],
   "source": [
    "def parser_apple(aDate, aMicro):\n",
    "    if not pd.isna(aDate):\n",
    "        full_date = datetime.fromisoformat(aDate)\n",
    "        full_date = full_date.replace(microsecond=int(aMicro))\n",
    "    else :\n",
    "        full_date = np.NaN\n",
    "    return full_date"
   ]
  },
  {
   "cell_type": "code",
   "execution_count": 3,
   "id": "924dfb06",
   "metadata": {},
   "outputs": [],
   "source": [
    "def read_apple(data_path):\n",
    "    # First check if Apple Data exists in the file\n",
    "    file = open(data_path, 'r')\n",
    "    apple_exist = False\n",
    "    if \"Apple\" in file.readline():\n",
    "        #print(\"Apple Data Found\")\n",
    "        apple_data = pd.read_csv(data_path, usecols=['Apple Time', 'Apple Second Fraction', 'Apple X', 'Apple Y', 'Apple Z', 'Apple Magnitude'], parse_dates=[[0,1]], date_parser=parser_apple).dropna()\n",
    "        apple_data = apple_data.rename(columns={apple_data.columns[0]: 'Apple Time'})\n",
    "        apple_data = apple_data.sort_values(by='Apple Time')\n",
    "        apple_data['Apple Time'] = apple_data['Apple Time'].apply(lambda x : int(x.timestamp()*1000))\n",
    "        start = apple_data.iloc[0,0]\n",
    "        apple_data[\"Apple Time\"] = apple_data['Apple Time'].apply(lambda x: x - start)\n",
    "        apple_data = apple_data.values\n",
    "    else:\n",
    "        #print(\"No Apple Data\")\n",
    "        apple_data = None\n",
    "        start = None\n",
    "    file.close()\n",
    "    return apple_data, start"
   ]
  },
  {
   "cell_type": "code",
   "execution_count": 4,
   "id": "a6975a53",
   "metadata": {},
   "outputs": [],
   "source": [
    "def read_garmin(data_path):\n",
    "    # First check if Garmin Data exists in the file\n",
    "    file = open(data_path, 'r')\n",
    "    Garmin_exist = False\n",
    "    if \"Garmin\" in file.readline():\n",
    "        #print(\"Garmin Data Found\")\n",
    "        garmin_data = pd.read_csv(data_path, usecols=['Garmin Time', 'Garmin X', 'Garmin Y', 'Garmin Z', 'Garmin Magnitude'], parse_dates=[0], infer_datetime_format=True).dropna()\n",
    "        garmin_data['Garmin Time'] = garmin_data['Garmin Time'].apply(lambda x : int(x.timestamp()*1000))\n",
    "        start = garmin_data.iloc[0,0]\n",
    "        garmin_data[\"Garmin Time\"] = garmin_data['Garmin Time'].apply(lambda x: x - start)\n",
    "        garmin_data = garmin_data.values\n",
    "    else:\n",
    "        #print(\"No Garmin Data\")\n",
    "        garmin_data = None\n",
    "        start = None\n",
    "    file.close()\n",
    "    return garmin_data, start"
   ]
  },
  {
   "cell_type": "code",
   "execution_count": 5,
   "id": "f330a0ae",
   "metadata": {},
   "outputs": [],
   "source": [
    "def read_fitbit(data_path):\n",
    "    # First check if Fitbit Data exists in the file\n",
    "    file = open(data_path, 'r')\n",
    "    fitbit_exist = False\n",
    "    if \"Fitbit\" in file.readline():\n",
    "        #print(\"Fitbit Data Found\")\n",
    "        fitbit_data = pd.read_csv(data_path, usecols=['Fitbit Time', 'Fitbit Second Fraction', 'Fitbit X', 'Fitbit Y', 'Fitbit Z', 'Fitbit Magnitude'], parse_dates=[[0,1]], date_parser=parser_apple).dropna()\n",
    "        if fitbit_data.shape[0] > 0:\n",
    "            fitbit_data = fitbit_data.rename(columns={fitbit_data.columns[0]: 'Fitbit Time'})\n",
    "            fitbit_data = fitbit_data.sort_values(by='Fitbit Time')\n",
    "            fitbit_data['Fitbit Time'] = fitbit_data['Fitbit Time'].apply(lambda x : int(x.timestamp()*1000))\n",
    "            start = fitbit_data.iloc[0,0]\n",
    "            fitbit_data[\"Fitbit Time\"] = fitbit_data['Fitbit Time'].apply(lambda x: x - start)\n",
    "            fitbit_data = fitbit_data.values\n",
    "        else:\n",
    "            fitbit_data = None\n",
    "            start = None\n",
    "    else:\n",
    "        #print(\"No Fitbit Data\")\n",
    "        fitbit_data = None\n",
    "        start = None\n",
    "    file.close()\n",
    "    return fitbit_data, start"
   ]
  },
  {
   "cell_type": "code",
   "execution_count": 6,
   "id": "fe7c0a06",
   "metadata": {},
   "outputs": [],
   "source": [
    "def read_actigraph(data_path):\n",
    "    # First check if Actigraph Data exists in the file\n",
    "    file = open(data_path, 'r')\n",
    "    actigraph_exist = False\n",
    "    if \"Actigraph\" in file.readline():\n",
    "        #print(\"Fitbit Data Found\")\n",
    "        actigraph_data = pd.read_csv(data_path, usecols=['Actigraph Time', 'Actigraph Second Fraction', 'Actigraph X', 'Actigraph Y', 'Actigraph Z', 'Actigraph Magnitude'], parse_dates=[[0,1]], date_parser=parser_apple).dropna()\n",
    "        if actigraph_data.shape[0] > 0:\n",
    "            actigraph_data = actigraph_data.rename(columns={actigraph_data.columns[0]: 'Actigraph Time'})\n",
    "            actigraph_data = actigraph_data.sort_values(by='Actigraph Time')\n",
    "            actigraph_data['Actigraph Time'] = actigraph_data['Actigraph Time'].apply(lambda x : int(x.timestamp()*1000))\n",
    "            start = actigraph_data.iloc[0,0]\n",
    "            actigraph_data[\"Actigraph Time\"] = actigraph_data['Actigraph Time'].apply(lambda x: x - start)\n",
    "            actigraph_data = actigraph_data.values\n",
    "        else:\n",
    "            actigraph_data = None\n",
    "            start = None\n",
    "    else:\n",
    "        #print(\"No Actigraph Data\")\n",
    "        actigraph_data = None\n",
    "        start = None\n",
    "    file.close()\n",
    "    return actigraph_data, start\n",
    "    "
   ]
  },
  {
   "cell_type": "code",
   "execution_count": 7,
   "id": "5586e5ee",
   "metadata": {},
   "outputs": [],
   "source": [
    "def read_actiheart(data_path):\n",
    "    # First check if Fitbit Data exists in the file\n",
    "    file = open(data_path, 'r')\n",
    "    actiheart_exist = False\n",
    "    if \"Actiheart\" in file.readline():\n",
    "        #print(\"Actiheart Data Found\")\n",
    "        actiheart_data = pd.read_csv(data_path, usecols=['Actiheart ECG Time', 'Actiheart Second Fraction','Actiheart ECG (uV)','Actiheart X', 'Actiheart Y', 'Actiheart Z'], parse_dates=[0], infer_datetime_format=True).dropna()\n",
    "        actiheart_data['Actiheart ECG Time'] = actiheart_data['Actiheart ECG Time'].apply(lambda x : int(x.timestamp()*1000))\n",
    "        start = actiheart_data.iloc[0,0]\n",
    "        actiheart_data[\"Actiheart ECG Time\"] = actiheart_data['Actiheart ECG Time'].apply(lambda x: x - start)\n",
    "        actiheart_data = actiheart_data.values\n",
    "    else:\n",
    "        #print(\"No Actiheart Data\")\n",
    "        actiheart_data = None\n",
    "        start = None\n",
    "    file.close()\n",
    "    return actiheart_data, start"
   ]
  },
  {
   "cell_type": "code",
   "execution_count": 8,
   "id": "25917bc1",
   "metadata": {},
   "outputs": [],
   "source": [
    "# This function calculates the dominant acceleration frequency and returns that frequency and it's power\n",
    "def dom_freq(aWindow):\n",
    "    # Subtract the mean from signal to get rid of DC offset\n",
    "    no_dc = aWindow - np.mean(aWindow)\n",
    "    # Use periodogram to calculate the power of each frequency\n",
    "    freq, power = periodogram(no_dc, 50) # 50 is the sampling rate of the Apple Watches Accelerometer\n",
    "    # Select the dominant frequency and power\n",
    "    max_index = np.argmax(power)\n",
    "    dom = freq[max_index]\n",
    "    max_pow = power[max_index]\n",
    "    return dom, max_pow"
   ]
  },
  {
   "cell_type": "code",
   "execution_count": 9,
   "id": "7ff3226c",
   "metadata": {
    "scrolled": true
   },
   "outputs": [],
   "source": [
    "def accel_metrics(some_data, start_time, out_path,secagg):\n",
    "    # Start and stop of daylight savings for 2022\n",
    "    ds_begin_2022 = datetime(year=2022, month=3, day=13)\n",
    "    ds_end_2022 = datetime(year=2022, month=11, day=6)\n",
    "    ds_begin_2023 = datetime(year=2023, month=3, day=12)\n",
    "    ds_end_2023 = datetime(year=2023, month=11, day=5)\n",
    "    \n",
    "    win_size = (secagg+1) * 1000 # Window should be (secagg+1) seconds long. Apple Time is in millisecond\n",
    "    # Initialize beginning of first window as 0\n",
    "    win_start = 0\n",
    "    win_end = (secagg+1)*1000\n",
    "\n",
    "    # Initialize hash table to store indicies of each second since the sample rate\n",
    "    # Isn't perfect\n",
    "    win_start_table = {0: 0}\n",
    "    cur_sec = 1000\n",
    "    # Initialize array for output\n",
    "    output = np.zeros([int(some_data[-1,0]//1000)-secagg, 21])\n",
    "    output_iter = 0\n",
    "    for i in range(some_data.shape[0] - 1):\n",
    "        # CHeck if a second has passed. If so, update win_start_table\n",
    "        if some_data[i, 0] >= cur_sec:\n",
    "            # Add the index that the current second begins. Set it's key value\n",
    "            # To be the corresponding second number.\n",
    "            win_start_table[cur_sec//1000] = i\n",
    "            cur_sec += 1000\n",
    "\n",
    "\n",
    "        if some_data[i+1,0] > win_end :\n",
    "            # Get 31 second window of data\n",
    "            rows = win_start_table[win_start]\n",
    "            x_win= some_data[rows:i+1, 1]\n",
    "            y_win= some_data[rows:i+1, 2]\n",
    "            z_win= some_data[rows:i+1, 3]\n",
    "            mag_win= some_data[rows:i+1, 4]\n",
    "            # Timestamp output\n",
    "            output[output_iter, 0] = some_data[win_start_table[int(win_end//1000 - (secagg/2))],0]\n",
    "            # Caclulate dominant frequency and power\n",
    "            freq, power = dom_freq(mag_win)\n",
    "            # Add calc to output\n",
    "            output[output_iter, 1] = freq\n",
    "            output[output_iter, 2] = power\n",
    "            # Calculate MEAN\n",
    "            output[output_iter, 3] = np.mean(mag_win)\n",
    "            # Calculate STD\n",
    "            output[output_iter, 4] = np.std(mag_win)\n",
    "            # Coefficeint of Variation\n",
    "            output[output_iter, 5] = output[output_iter, 4] / output[output_iter, 3]\n",
    "            # Calculate Min\n",
    "            output[output_iter, 6] = np.min(mag_win)\n",
    "            # Calculate Max\n",
    "            output[output_iter, 7] = np.max(mag_win)\n",
    "            # Calculate 10th Percentile\n",
    "            output[output_iter, 8] = np.percentile(mag_win, 10)\n",
    "            # Calculate the 25th Percentile\n",
    "            output[output_iter, 9] = np.percentile(mag_win, 25)\n",
    "            # Calculate the 50th Percentile\n",
    "            output[output_iter, 10] = np.percentile(mag_win, 50)\n",
    "            # Calculate the 75th Percentile\n",
    "            output[output_iter, 11] = np.percentile(mag_win, 75)\n",
    "            # Calculate the 90th Percentile \n",
    "            output[output_iter, 12] = np.percentile(mag_win, 90)\n",
    "            # Calculate the 3rd Moment\n",
    "            output[output_iter, 13] = moment(mag_win, 3)\n",
    "            # Calculate the 4th Moment\n",
    "            output[output_iter, 14] = moment(mag_win, 4)\n",
    "            # Calculate Skewness\n",
    "            output[output_iter, 15] = skew(mag_win)\n",
    "            # Calculate Kurtosis\n",
    "            output[output_iter, 16] = kurtosis(mag_win)\n",
    "            # Calculate the autocorrelation with second lag\n",
    "            output[output_iter, 17] = acf(mag_win, nlags=50)[-1]\n",
    "            # Correlate X with Y\n",
    "            output[output_iter, 18] = np.correlate(x_win, y_win)\n",
    "            # Correlate X with Z\n",
    "            output[output_iter, 19] = np.correlate(x_win, z_win)\n",
    "            # Correlate Y with Z\n",
    "            output[output_iter, 20] = np.correlate(y_win, z_win)\n",
    "            # Advance window by a second\n",
    "            win_start += 1\n",
    "            win_end += 1000\n",
    "            output_iter += 1\n",
    "\n",
    "    names = ['Time', 'Dominant Frequency', 'Power', 'Mag Mean', 'Mag STD', 'Mag CoV', 'Mag Min', 'Mag Max', 'Mag 10th Percentile',\n",
    "               'Mag 25th Percentile', 'Mag 50th Percentile', 'Mag 75th Percentile', 'Mag 90th Percentile', 'Mag 3rd Moment',\n",
    "               'Mag 4th Moment', 'Mag Skewness', 'Mag Kurtosis', 'Mag 1sec Autocorrelation', 'XY Correlation', 'XZ Correlation', \n",
    "               'YZ Correlation']\n",
    "    out_df = pd.DataFrame(output, columns=names)\n",
    "    out_df['Time'] = out_df['Time'].apply(lambda x: datetime.fromtimestamp((x+ start_time)//1000))\n",
    "    if ds_begin_2022 <= out_df.iloc[0,0] <= ds_end_2022 or ds_begin_2023 <= out_df.iloc[0,0] <= ds_end_2023:\n",
    "        out_df['Time'] = out_df['Time'].apply(lambda x: x + timedelta(hours=4))\n",
    "    else:\n",
    "        out_df['Time'] = out_df['Time'].apply(lambda x: x + timedelta(hours=5))\n",
    "    out_df.to_csv(out_path, index=False)"
   ]
  },
  {
   "cell_type": "markdown",
   "id": "54328fb7",
   "metadata": {},
   "source": [
    "## RUN BELOW TO CALCULATE APPLE METRICS"
   ]
  },
  {
   "cell_type": "code",
   "execution_count": 10,
   "id": "c7c33f52",
   "metadata": {},
   "outputs": [
    {
     "name": "stdout",
     "output_type": "stream",
     "text": [
      "Processing Participant 0118 1/191\n"
     ]
    },
    {
     "name": "stderr",
     "output_type": "stream",
     "text": [
      "C:\\Users\\sambit\\AppData\\Local\\Temp\\ipykernel_8856\\4022689757.py:7: FutureWarning: \n",
      "        Use pd.to_datetime instead.\n",
      "\n",
      "  apple_data = pd.read_csv(data_path, usecols=['Apple Time', 'Apple Second Fraction', 'Apple X', 'Apple Y', 'Apple Z', 'Apple Magnitude'], parse_dates=[[0,1]], date_parser=parser_apple).dropna()\n"
     ]
    },
    {
     "name": "stdout",
     "output_type": "stream",
     "text": [
      "(210978, 5)\n",
      "Processing Participant 0231 2/191\n"
     ]
    },
    {
     "name": "stderr",
     "output_type": "stream",
     "text": [
      "C:\\Users\\sambit\\AppData\\Local\\Temp\\ipykernel_8856\\4022689757.py:7: FutureWarning: \n",
      "        Use pd.to_datetime instead.\n",
      "\n",
      "  apple_data = pd.read_csv(data_path, usecols=['Apple Time', 'Apple Second Fraction', 'Apple X', 'Apple Y', 'Apple Z', 'Apple Magnitude'], parse_dates=[[0,1]], date_parser=parser_apple).dropna()\n"
     ]
    },
    {
     "name": "stdout",
     "output_type": "stream",
     "text": [
      "(189871, 5)\n",
      "Processing Participant 0444 3/191\n"
     ]
    },
    {
     "name": "stderr",
     "output_type": "stream",
     "text": [
      "C:\\Users\\sambit\\AppData\\Local\\Temp\\ipykernel_8856\\4022689757.py:7: FutureWarning: \n",
      "        Use pd.to_datetime instead.\n",
      "\n",
      "  apple_data = pd.read_csv(data_path, usecols=['Apple Time', 'Apple Second Fraction', 'Apple X', 'Apple Y', 'Apple Z', 'Apple Magnitude'], parse_dates=[[0,1]], date_parser=parser_apple).dropna()\n"
     ]
    },
    {
     "name": "stdout",
     "output_type": "stream",
     "text": [
      "(203148, 5)\n",
      "Processing Participant 0601 4/191\n"
     ]
    },
    {
     "name": "stderr",
     "output_type": "stream",
     "text": [
      "C:\\Users\\sambit\\AppData\\Local\\Temp\\ipykernel_8856\\4022689757.py:7: FutureWarning: \n",
      "        Use pd.to_datetime instead.\n",
      "\n",
      "  apple_data = pd.read_csv(data_path, usecols=['Apple Time', 'Apple Second Fraction', 'Apple X', 'Apple Y', 'Apple Z', 'Apple Magnitude'], parse_dates=[[0,1]], date_parser=parser_apple).dropna()\n"
     ]
    },
    {
     "name": "stdout",
     "output_type": "stream",
     "text": [
      "(215975, 5)\n",
      "Processing Participant 0618 5/191\n"
     ]
    },
    {
     "name": "stderr",
     "output_type": "stream",
     "text": [
      "C:\\Users\\sambit\\AppData\\Local\\Temp\\ipykernel_8856\\4022689757.py:7: FutureWarning: \n",
      "        Use pd.to_datetime instead.\n",
      "\n",
      "  apple_data = pd.read_csv(data_path, usecols=['Apple Time', 'Apple Second Fraction', 'Apple X', 'Apple Y', 'Apple Z', 'Apple Magnitude'], parse_dates=[[0,1]], date_parser=parser_apple).dropna()\n"
     ]
    },
    {
     "name": "stdout",
     "output_type": "stream",
     "text": [
      "(182984, 5)\n",
      "Processing Participant 0632 6/191\n"
     ]
    },
    {
     "name": "stderr",
     "output_type": "stream",
     "text": [
      "C:\\Users\\sambit\\AppData\\Local\\Temp\\ipykernel_8856\\4022689757.py:7: FutureWarning: \n",
      "        Use pd.to_datetime instead.\n",
      "\n",
      "  apple_data = pd.read_csv(data_path, usecols=['Apple Time', 'Apple Second Fraction', 'Apple X', 'Apple Y', 'Apple Z', 'Apple Magnitude'], parse_dates=[[0,1]], date_parser=parser_apple).dropna()\n"
     ]
    },
    {
     "name": "stdout",
     "output_type": "stream",
     "text": [
      "(197807, 5)\n",
      "Processing Participant 0695 7/191\n"
     ]
    },
    {
     "name": "stderr",
     "output_type": "stream",
     "text": [
      "C:\\Users\\sambit\\AppData\\Local\\Temp\\ipykernel_8856\\4022689757.py:7: FutureWarning: \n",
      "        Use pd.to_datetime instead.\n",
      "\n",
      "  apple_data = pd.read_csv(data_path, usecols=['Apple Time', 'Apple Second Fraction', 'Apple X', 'Apple Y', 'Apple Z', 'Apple Magnitude'], parse_dates=[[0,1]], date_parser=parser_apple).dropna()\n"
     ]
    },
    {
     "name": "stdout",
     "output_type": "stream",
     "text": [
      "(179791, 5)\n",
      "Processing Participant 0819 8/191\n",
      "No Apple Data for 0819\n",
      "Processing Participant 0967 9/191\n"
     ]
    },
    {
     "name": "stderr",
     "output_type": "stream",
     "text": [
      "C:\\Users\\sambit\\AppData\\Local\\Temp\\ipykernel_8856\\4022689757.py:7: FutureWarning: \n",
      "        Use pd.to_datetime instead.\n",
      "\n",
      "  apple_data = pd.read_csv(data_path, usecols=['Apple Time', 'Apple Second Fraction', 'Apple X', 'Apple Y', 'Apple Z', 'Apple Magnitude'], parse_dates=[[0,1]], date_parser=parser_apple).dropna()\n"
     ]
    },
    {
     "name": "stdout",
     "output_type": "stream",
     "text": [
      "(184507, 5)\n",
      "Processing Participant 1333 10/191\n",
      "No Apple Data for 1333\n",
      "Processing Participant 1760 11/191\n",
      "No Apple Data for 1760\n",
      "Processing Participant 1772 12/191\n",
      "No Apple Data for 1772\n",
      "Processing Participant 1779 13/191\n"
     ]
    },
    {
     "name": "stderr",
     "output_type": "stream",
     "text": [
      "C:\\Users\\sambit\\AppData\\Local\\Temp\\ipykernel_8856\\4022689757.py:7: FutureWarning: \n",
      "        Use pd.to_datetime instead.\n",
      "\n",
      "  apple_data = pd.read_csv(data_path, usecols=['Apple Time', 'Apple Second Fraction', 'Apple X', 'Apple Y', 'Apple Z', 'Apple Magnitude'], parse_dates=[[0,1]], date_parser=parser_apple).dropna()\n"
     ]
    },
    {
     "name": "stdout",
     "output_type": "stream",
     "text": [
      "(195470, 5)\n",
      "Processing Participant 1799 14/191\n",
      "No Apple Data for 1799\n",
      "Processing Participant 1854 15/191\n"
     ]
    },
    {
     "name": "stderr",
     "output_type": "stream",
     "text": [
      "C:\\Users\\sambit\\AppData\\Local\\Temp\\ipykernel_8856\\4022689757.py:7: FutureWarning: \n",
      "        Use pd.to_datetime instead.\n",
      "\n",
      "  apple_data = pd.read_csv(data_path, usecols=['Apple Time', 'Apple Second Fraction', 'Apple X', 'Apple Y', 'Apple Z', 'Apple Magnitude'], parse_dates=[[0,1]], date_parser=parser_apple).dropna()\n"
     ]
    },
    {
     "name": "stdout",
     "output_type": "stream",
     "text": [
      "(186735, 5)\n",
      "Processing Participant 1974 16/191\n"
     ]
    },
    {
     "name": "stderr",
     "output_type": "stream",
     "text": [
      "C:\\Users\\sambit\\AppData\\Local\\Temp\\ipykernel_8856\\4022689757.py:7: FutureWarning: \n",
      "        Use pd.to_datetime instead.\n",
      "\n",
      "  apple_data = pd.read_csv(data_path, usecols=['Apple Time', 'Apple Second Fraction', 'Apple X', 'Apple Y', 'Apple Z', 'Apple Magnitude'], parse_dates=[[0,1]], date_parser=parser_apple).dropna()\n"
     ]
    },
    {
     "name": "stdout",
     "output_type": "stream",
     "text": [
      "(211038, 5)\n",
      "Processing Participant 1991 17/191\n"
     ]
    },
    {
     "name": "stderr",
     "output_type": "stream",
     "text": [
      "C:\\Users\\sambit\\AppData\\Local\\Temp\\ipykernel_8856\\4022689757.py:7: FutureWarning: \n",
      "        Use pd.to_datetime instead.\n",
      "\n",
      "  apple_data = pd.read_csv(data_path, usecols=['Apple Time', 'Apple Second Fraction', 'Apple X', 'Apple Y', 'Apple Z', 'Apple Magnitude'], parse_dates=[[0,1]], date_parser=parser_apple).dropna()\n"
     ]
    },
    {
     "name": "stdout",
     "output_type": "stream",
     "text": [
      "(355810, 5)\n",
      "Processing Participant 2007 18/191\n"
     ]
    },
    {
     "name": "stderr",
     "output_type": "stream",
     "text": [
      "C:\\Users\\sambit\\AppData\\Local\\Temp\\ipykernel_8856\\4022689757.py:7: FutureWarning: \n",
      "        Use pd.to_datetime instead.\n",
      "\n",
      "  apple_data = pd.read_csv(data_path, usecols=['Apple Time', 'Apple Second Fraction', 'Apple X', 'Apple Y', 'Apple Z', 'Apple Magnitude'], parse_dates=[[0,1]], date_parser=parser_apple).dropna()\n"
     ]
    },
    {
     "name": "stdout",
     "output_type": "stream",
     "text": [
      "(189725, 5)\n",
      "Processing Participant 2031 19/191\n",
      "No Apple Data for 2031\n",
      "Processing Participant 2069 20/191\n"
     ]
    },
    {
     "name": "stderr",
     "output_type": "stream",
     "text": [
      "C:\\Users\\sambit\\AppData\\Local\\Temp\\ipykernel_8856\\4022689757.py:7: FutureWarning: \n",
      "        Use pd.to_datetime instead.\n",
      "\n",
      "  apple_data = pd.read_csv(data_path, usecols=['Apple Time', 'Apple Second Fraction', 'Apple X', 'Apple Y', 'Apple Z', 'Apple Magnitude'], parse_dates=[[0,1]], date_parser=parser_apple).dropna()\n"
     ]
    },
    {
     "name": "stdout",
     "output_type": "stream",
     "text": [
      "(228066, 5)\n",
      "Processing Participant 2113 21/191\n"
     ]
    },
    {
     "name": "stderr",
     "output_type": "stream",
     "text": [
      "C:\\Users\\sambit\\AppData\\Local\\Temp\\ipykernel_8856\\4022689757.py:7: FutureWarning: \n",
      "        Use pd.to_datetime instead.\n",
      "\n",
      "  apple_data = pd.read_csv(data_path, usecols=['Apple Time', 'Apple Second Fraction', 'Apple X', 'Apple Y', 'Apple Z', 'Apple Magnitude'], parse_dates=[[0,1]], date_parser=parser_apple).dropna()\n"
     ]
    },
    {
     "name": "stdout",
     "output_type": "stream",
     "text": [
      "(67350, 5)\n",
      "Processing Participant 2186 22/191\n"
     ]
    },
    {
     "name": "stderr",
     "output_type": "stream",
     "text": [
      "C:\\Users\\sambit\\AppData\\Local\\Temp\\ipykernel_8856\\4022689757.py:7: FutureWarning: \n",
      "        Use pd.to_datetime instead.\n",
      "\n",
      "  apple_data = pd.read_csv(data_path, usecols=['Apple Time', 'Apple Second Fraction', 'Apple X', 'Apple Y', 'Apple Z', 'Apple Magnitude'], parse_dates=[[0,1]], date_parser=parser_apple).dropna()\n"
     ]
    },
    {
     "name": "stdout",
     "output_type": "stream",
     "text": [
      "(211853, 5)\n",
      "Processing Participant 2187 23/191\n"
     ]
    },
    {
     "name": "stderr",
     "output_type": "stream",
     "text": [
      "C:\\Users\\sambit\\AppData\\Local\\Temp\\ipykernel_8856\\4022689757.py:7: FutureWarning: \n",
      "        Use pd.to_datetime instead.\n",
      "\n",
      "  apple_data = pd.read_csv(data_path, usecols=['Apple Time', 'Apple Second Fraction', 'Apple X', 'Apple Y', 'Apple Z', 'Apple Magnitude'], parse_dates=[[0,1]], date_parser=parser_apple).dropna()\n"
     ]
    },
    {
     "name": "stdout",
     "output_type": "stream",
     "text": [
      "(229421, 5)\n",
      "Processing Participant 2271 24/191\n"
     ]
    },
    {
     "name": "stderr",
     "output_type": "stream",
     "text": [
      "C:\\Users\\sambit\\AppData\\Local\\Temp\\ipykernel_8856\\4022689757.py:7: FutureWarning: \n",
      "        Use pd.to_datetime instead.\n",
      "\n",
      "  apple_data = pd.read_csv(data_path, usecols=['Apple Time', 'Apple Second Fraction', 'Apple X', 'Apple Y', 'Apple Z', 'Apple Magnitude'], parse_dates=[[0,1]], date_parser=parser_apple).dropna()\n"
     ]
    },
    {
     "name": "stdout",
     "output_type": "stream",
     "text": [
      "(200039, 5)\n",
      "Processing Participant 2272 25/191\n"
     ]
    },
    {
     "name": "stderr",
     "output_type": "stream",
     "text": [
      "C:\\Users\\sambit\\AppData\\Local\\Temp\\ipykernel_8856\\4022689757.py:7: FutureWarning: \n",
      "        Use pd.to_datetime instead.\n",
      "\n",
      "  apple_data = pd.read_csv(data_path, usecols=['Apple Time', 'Apple Second Fraction', 'Apple X', 'Apple Y', 'Apple Z', 'Apple Magnitude'], parse_dates=[[0,1]], date_parser=parser_apple).dropna()\n"
     ]
    },
    {
     "name": "stdout",
     "output_type": "stream",
     "text": [
      "(197511, 5)\n",
      "Processing Participant 2321 26/191\n"
     ]
    },
    {
     "name": "stderr",
     "output_type": "stream",
     "text": [
      "C:\\Users\\sambit\\AppData\\Local\\Temp\\ipykernel_8856\\4022689757.py:7: FutureWarning: \n",
      "        Use pd.to_datetime instead.\n",
      "\n",
      "  apple_data = pd.read_csv(data_path, usecols=['Apple Time', 'Apple Second Fraction', 'Apple X', 'Apple Y', 'Apple Z', 'Apple Magnitude'], parse_dates=[[0,1]], date_parser=parser_apple).dropna()\n"
     ]
    },
    {
     "name": "stdout",
     "output_type": "stream",
     "text": [
      "(209955, 5)\n",
      "Processing Participant 2355 27/191\n"
     ]
    },
    {
     "name": "stderr",
     "output_type": "stream",
     "text": [
      "C:\\Users\\sambit\\AppData\\Local\\Temp\\ipykernel_8856\\4022689757.py:7: FutureWarning: \n",
      "        Use pd.to_datetime instead.\n",
      "\n",
      "  apple_data = pd.read_csv(data_path, usecols=['Apple Time', 'Apple Second Fraction', 'Apple X', 'Apple Y', 'Apple Z', 'Apple Magnitude'], parse_dates=[[0,1]], date_parser=parser_apple).dropna()\n"
     ]
    },
    {
     "name": "stdout",
     "output_type": "stream",
     "text": [
      "(185308, 5)\n",
      "Processing Participant 2433 28/191\n"
     ]
    },
    {
     "name": "stderr",
     "output_type": "stream",
     "text": [
      "C:\\Users\\sambit\\AppData\\Local\\Temp\\ipykernel_8856\\4022689757.py:7: FutureWarning: \n",
      "        Use pd.to_datetime instead.\n",
      "\n",
      "  apple_data = pd.read_csv(data_path, usecols=['Apple Time', 'Apple Second Fraction', 'Apple X', 'Apple Y', 'Apple Z', 'Apple Magnitude'], parse_dates=[[0,1]], date_parser=parser_apple).dropna()\n"
     ]
    },
    {
     "name": "stdout",
     "output_type": "stream",
     "text": [
      "(194057, 5)\n",
      "Processing Participant 2453 29/191\n"
     ]
    },
    {
     "name": "stderr",
     "output_type": "stream",
     "text": [
      "C:\\Users\\sambit\\AppData\\Local\\Temp\\ipykernel_8856\\4022689757.py:7: FutureWarning: \n",
      "        Use pd.to_datetime instead.\n",
      "\n",
      "  apple_data = pd.read_csv(data_path, usecols=['Apple Time', 'Apple Second Fraction', 'Apple X', 'Apple Y', 'Apple Z', 'Apple Magnitude'], parse_dates=[[0,1]], date_parser=parser_apple).dropna()\n"
     ]
    },
    {
     "name": "stdout",
     "output_type": "stream",
     "text": [
      "(191016, 5)\n",
      "Processing Participant 2454 30/191\n"
     ]
    },
    {
     "name": "stderr",
     "output_type": "stream",
     "text": [
      "C:\\Users\\sambit\\AppData\\Local\\Temp\\ipykernel_8856\\4022689757.py:7: FutureWarning: \n",
      "        Use pd.to_datetime instead.\n",
      "\n",
      "  apple_data = pd.read_csv(data_path, usecols=['Apple Time', 'Apple Second Fraction', 'Apple X', 'Apple Y', 'Apple Z', 'Apple Magnitude'], parse_dates=[[0,1]], date_parser=parser_apple).dropna()\n"
     ]
    },
    {
     "name": "stdout",
     "output_type": "stream",
     "text": [
      "(193251, 5)\n",
      "Processing Participant 2455 31/191\n"
     ]
    },
    {
     "name": "stderr",
     "output_type": "stream",
     "text": [
      "C:\\Users\\sambit\\AppData\\Local\\Temp\\ipykernel_8856\\4022689757.py:7: FutureWarning: \n",
      "        Use pd.to_datetime instead.\n",
      "\n",
      "  apple_data = pd.read_csv(data_path, usecols=['Apple Time', 'Apple Second Fraction', 'Apple X', 'Apple Y', 'Apple Z', 'Apple Magnitude'], parse_dates=[[0,1]], date_parser=parser_apple).dropna()\n"
     ]
    },
    {
     "name": "stdout",
     "output_type": "stream",
     "text": [
      "(202509, 5)\n",
      "Processing Participant 2456 32/191\n"
     ]
    },
    {
     "name": "stderr",
     "output_type": "stream",
     "text": [
      "C:\\Users\\sambit\\AppData\\Local\\Temp\\ipykernel_8856\\4022689757.py:7: FutureWarning: \n",
      "        Use pd.to_datetime instead.\n",
      "\n",
      "  apple_data = pd.read_csv(data_path, usecols=['Apple Time', 'Apple Second Fraction', 'Apple X', 'Apple Y', 'Apple Z', 'Apple Magnitude'], parse_dates=[[0,1]], date_parser=parser_apple).dropna()\n"
     ]
    },
    {
     "name": "stdout",
     "output_type": "stream",
     "text": [
      "(193510, 5)\n",
      "Processing Participant 2457 33/191\n"
     ]
    },
    {
     "name": "stderr",
     "output_type": "stream",
     "text": [
      "C:\\Users\\sambit\\AppData\\Local\\Temp\\ipykernel_8856\\4022689757.py:7: FutureWarning: \n",
      "        Use pd.to_datetime instead.\n",
      "\n",
      "  apple_data = pd.read_csv(data_path, usecols=['Apple Time', 'Apple Second Fraction', 'Apple X', 'Apple Y', 'Apple Z', 'Apple Magnitude'], parse_dates=[[0,1]], date_parser=parser_apple).dropna()\n"
     ]
    },
    {
     "name": "stdout",
     "output_type": "stream",
     "text": [
      "(213637, 5)\n",
      "Processing Participant 2458 34/191\n"
     ]
    },
    {
     "name": "stderr",
     "output_type": "stream",
     "text": [
      "C:\\Users\\sambit\\AppData\\Local\\Temp\\ipykernel_8856\\4022689757.py:7: FutureWarning: \n",
      "        Use pd.to_datetime instead.\n",
      "\n",
      "  apple_data = pd.read_csv(data_path, usecols=['Apple Time', 'Apple Second Fraction', 'Apple X', 'Apple Y', 'Apple Z', 'Apple Magnitude'], parse_dates=[[0,1]], date_parser=parser_apple).dropna()\n"
     ]
    },
    {
     "name": "stdout",
     "output_type": "stream",
     "text": [
      "(187441, 5)\n",
      "Processing Participant 2470 35/191\n"
     ]
    },
    {
     "name": "stderr",
     "output_type": "stream",
     "text": [
      "C:\\Users\\sambit\\AppData\\Local\\Temp\\ipykernel_8856\\4022689757.py:7: FutureWarning: \n",
      "        Use pd.to_datetime instead.\n",
      "\n",
      "  apple_data = pd.read_csv(data_path, usecols=['Apple Time', 'Apple Second Fraction', 'Apple X', 'Apple Y', 'Apple Z', 'Apple Magnitude'], parse_dates=[[0,1]], date_parser=parser_apple).dropna()\n"
     ]
    },
    {
     "name": "stdout",
     "output_type": "stream",
     "text": [
      "(49080, 5)\n",
      "Processing Participant 2471 36/191\n"
     ]
    },
    {
     "name": "stderr",
     "output_type": "stream",
     "text": [
      "C:\\Users\\sambit\\AppData\\Local\\Temp\\ipykernel_8856\\4022689757.py:7: FutureWarning: \n",
      "        Use pd.to_datetime instead.\n",
      "\n",
      "  apple_data = pd.read_csv(data_path, usecols=['Apple Time', 'Apple Second Fraction', 'Apple X', 'Apple Y', 'Apple Z', 'Apple Magnitude'], parse_dates=[[0,1]], date_parser=parser_apple).dropna()\n"
     ]
    },
    {
     "name": "stdout",
     "output_type": "stream",
     "text": [
      "(201297, 5)\n",
      "Processing Participant 2473 37/191\n"
     ]
    },
    {
     "name": "stderr",
     "output_type": "stream",
     "text": [
      "C:\\Users\\sambit\\AppData\\Local\\Temp\\ipykernel_8856\\4022689757.py:7: FutureWarning: \n",
      "        Use pd.to_datetime instead.\n",
      "\n",
      "  apple_data = pd.read_csv(data_path, usecols=['Apple Time', 'Apple Second Fraction', 'Apple X', 'Apple Y', 'Apple Z', 'Apple Magnitude'], parse_dates=[[0,1]], date_parser=parser_apple).dropna()\n"
     ]
    },
    {
     "name": "stdout",
     "output_type": "stream",
     "text": [
      "(215160, 5)\n",
      "Processing Participant 2474 38/191\n"
     ]
    },
    {
     "name": "stderr",
     "output_type": "stream",
     "text": [
      "C:\\Users\\sambit\\AppData\\Local\\Temp\\ipykernel_8856\\4022689757.py:7: FutureWarning: \n",
      "        Use pd.to_datetime instead.\n",
      "\n",
      "  apple_data = pd.read_csv(data_path, usecols=['Apple Time', 'Apple Second Fraction', 'Apple X', 'Apple Y', 'Apple Z', 'Apple Magnitude'], parse_dates=[[0,1]], date_parser=parser_apple).dropna()\n"
     ]
    },
    {
     "name": "stdout",
     "output_type": "stream",
     "text": [
      "(186078, 5)\n",
      "Processing Participant 2475 39/191\n"
     ]
    },
    {
     "name": "stderr",
     "output_type": "stream",
     "text": [
      "C:\\Users\\sambit\\AppData\\Local\\Temp\\ipykernel_8856\\4022689757.py:7: FutureWarning: \n",
      "        Use pd.to_datetime instead.\n",
      "\n",
      "  apple_data = pd.read_csv(data_path, usecols=['Apple Time', 'Apple Second Fraction', 'Apple X', 'Apple Y', 'Apple Z', 'Apple Magnitude'], parse_dates=[[0,1]], date_parser=parser_apple).dropna()\n"
     ]
    },
    {
     "name": "stdout",
     "output_type": "stream",
     "text": [
      "(183443, 5)\n",
      "Processing Participant 2476 40/191\n"
     ]
    },
    {
     "name": "stderr",
     "output_type": "stream",
     "text": [
      "C:\\Users\\sambit\\AppData\\Local\\Temp\\ipykernel_8856\\4022689757.py:7: FutureWarning: \n",
      "        Use pd.to_datetime instead.\n",
      "\n",
      "  apple_data = pd.read_csv(data_path, usecols=['Apple Time', 'Apple Second Fraction', 'Apple X', 'Apple Y', 'Apple Z', 'Apple Magnitude'], parse_dates=[[0,1]], date_parser=parser_apple).dropna()\n"
     ]
    },
    {
     "name": "stdout",
     "output_type": "stream",
     "text": [
      "(188496, 5)\n",
      "Processing Participant 2479 41/191\n"
     ]
    },
    {
     "name": "stderr",
     "output_type": "stream",
     "text": [
      "C:\\Users\\sambit\\AppData\\Local\\Temp\\ipykernel_8856\\4022689757.py:7: FutureWarning: \n",
      "        Use pd.to_datetime instead.\n",
      "\n",
      "  apple_data = pd.read_csv(data_path, usecols=['Apple Time', 'Apple Second Fraction', 'Apple X', 'Apple Y', 'Apple Z', 'Apple Magnitude'], parse_dates=[[0,1]], date_parser=parser_apple).dropna()\n"
     ]
    },
    {
     "name": "stdout",
     "output_type": "stream",
     "text": [
      "(179859, 5)\n",
      "Processing Participant 2480 42/191\n"
     ]
    },
    {
     "name": "stderr",
     "output_type": "stream",
     "text": [
      "C:\\Users\\sambit\\AppData\\Local\\Temp\\ipykernel_8856\\4022689757.py:7: FutureWarning: \n",
      "        Use pd.to_datetime instead.\n",
      "\n",
      "  apple_data = pd.read_csv(data_path, usecols=['Apple Time', 'Apple Second Fraction', 'Apple X', 'Apple Y', 'Apple Z', 'Apple Magnitude'], parse_dates=[[0,1]], date_parser=parser_apple).dropna()\n"
     ]
    },
    {
     "name": "stdout",
     "output_type": "stream",
     "text": [
      "(181173, 5)\n",
      "Processing Participant 2495 43/191\n"
     ]
    },
    {
     "name": "stderr",
     "output_type": "stream",
     "text": [
      "C:\\Users\\sambit\\AppData\\Local\\Temp\\ipykernel_8856\\4022689757.py:7: FutureWarning: \n",
      "        Use pd.to_datetime instead.\n",
      "\n",
      "  apple_data = pd.read_csv(data_path, usecols=['Apple Time', 'Apple Second Fraction', 'Apple X', 'Apple Y', 'Apple Z', 'Apple Magnitude'], parse_dates=[[0,1]], date_parser=parser_apple).dropna()\n"
     ]
    },
    {
     "name": "stdout",
     "output_type": "stream",
     "text": [
      "(187292, 5)\n",
      "Processing Participant 2496 44/191\n"
     ]
    },
    {
     "name": "stderr",
     "output_type": "stream",
     "text": [
      "C:\\Users\\sambit\\AppData\\Local\\Temp\\ipykernel_8856\\4022689757.py:7: FutureWarning: \n",
      "        Use pd.to_datetime instead.\n",
      "\n",
      "  apple_data = pd.read_csv(data_path, usecols=['Apple Time', 'Apple Second Fraction', 'Apple X', 'Apple Y', 'Apple Z', 'Apple Magnitude'], parse_dates=[[0,1]], date_parser=parser_apple).dropna()\n"
     ]
    },
    {
     "name": "stdout",
     "output_type": "stream",
     "text": [
      "(228526, 5)\n",
      "Processing Participant 2497 45/191\n"
     ]
    },
    {
     "name": "stderr",
     "output_type": "stream",
     "text": [
      "C:\\Users\\sambit\\AppData\\Local\\Temp\\ipykernel_8856\\4022689757.py:7: FutureWarning: \n",
      "        Use pd.to_datetime instead.\n",
      "\n",
      "  apple_data = pd.read_csv(data_path, usecols=['Apple Time', 'Apple Second Fraction', 'Apple X', 'Apple Y', 'Apple Z', 'Apple Magnitude'], parse_dates=[[0,1]], date_parser=parser_apple).dropna()\n"
     ]
    },
    {
     "name": "stdout",
     "output_type": "stream",
     "text": [
      "(202208, 5)\n",
      "Processing Participant 2498 46/191\n"
     ]
    },
    {
     "name": "stderr",
     "output_type": "stream",
     "text": [
      "C:\\Users\\sambit\\AppData\\Local\\Temp\\ipykernel_8856\\4022689757.py:7: FutureWarning: \n",
      "        Use pd.to_datetime instead.\n",
      "\n",
      "  apple_data = pd.read_csv(data_path, usecols=['Apple Time', 'Apple Second Fraction', 'Apple X', 'Apple Y', 'Apple Z', 'Apple Magnitude'], parse_dates=[[0,1]], date_parser=parser_apple).dropna()\n"
     ]
    },
    {
     "name": "stdout",
     "output_type": "stream",
     "text": [
      "(187932, 5)\n",
      "Processing Participant 2499 47/191\n"
     ]
    },
    {
     "name": "stderr",
     "output_type": "stream",
     "text": [
      "C:\\Users\\sambit\\AppData\\Local\\Temp\\ipykernel_8856\\4022689757.py:7: FutureWarning: \n",
      "        Use pd.to_datetime instead.\n",
      "\n",
      "  apple_data = pd.read_csv(data_path, usecols=['Apple Time', 'Apple Second Fraction', 'Apple X', 'Apple Y', 'Apple Z', 'Apple Magnitude'], parse_dates=[[0,1]], date_parser=parser_apple).dropna()\n"
     ]
    },
    {
     "name": "stdout",
     "output_type": "stream",
     "text": [
      "(177411, 5)\n",
      "Processing Participant 2500 48/191\n"
     ]
    },
    {
     "name": "stderr",
     "output_type": "stream",
     "text": [
      "C:\\Users\\sambit\\AppData\\Local\\Temp\\ipykernel_8856\\4022689757.py:7: FutureWarning: \n",
      "        Use pd.to_datetime instead.\n",
      "\n",
      "  apple_data = pd.read_csv(data_path, usecols=['Apple Time', 'Apple Second Fraction', 'Apple X', 'Apple Y', 'Apple Z', 'Apple Magnitude'], parse_dates=[[0,1]], date_parser=parser_apple).dropna()\n"
     ]
    },
    {
     "name": "stdout",
     "output_type": "stream",
     "text": [
      "(189003, 5)\n",
      "Processing Participant 2501 49/191\n"
     ]
    },
    {
     "name": "stderr",
     "output_type": "stream",
     "text": [
      "C:\\Users\\sambit\\AppData\\Local\\Temp\\ipykernel_8856\\4022689757.py:7: FutureWarning: \n",
      "        Use pd.to_datetime instead.\n",
      "\n",
      "  apple_data = pd.read_csv(data_path, usecols=['Apple Time', 'Apple Second Fraction', 'Apple X', 'Apple Y', 'Apple Z', 'Apple Magnitude'], parse_dates=[[0,1]], date_parser=parser_apple).dropna()\n"
     ]
    },
    {
     "name": "stdout",
     "output_type": "stream",
     "text": [
      "(187487, 5)\n",
      "Processing Participant 2502 50/191\n"
     ]
    },
    {
     "name": "stderr",
     "output_type": "stream",
     "text": [
      "C:\\Users\\sambit\\AppData\\Local\\Temp\\ipykernel_8856\\4022689757.py:7: FutureWarning: \n",
      "        Use pd.to_datetime instead.\n",
      "\n",
      "  apple_data = pd.read_csv(data_path, usecols=['Apple Time', 'Apple Second Fraction', 'Apple X', 'Apple Y', 'Apple Z', 'Apple Magnitude'], parse_dates=[[0,1]], date_parser=parser_apple).dropna()\n"
     ]
    },
    {
     "name": "stdout",
     "output_type": "stream",
     "text": [
      "(206891, 5)\n",
      "Processing Participant 2503 51/191\n"
     ]
    },
    {
     "name": "stderr",
     "output_type": "stream",
     "text": [
      "C:\\Users\\sambit\\AppData\\Local\\Temp\\ipykernel_8856\\4022689757.py:7: FutureWarning: \n",
      "        Use pd.to_datetime instead.\n",
      "\n",
      "  apple_data = pd.read_csv(data_path, usecols=['Apple Time', 'Apple Second Fraction', 'Apple X', 'Apple Y', 'Apple Z', 'Apple Magnitude'], parse_dates=[[0,1]], date_parser=parser_apple).dropna()\n"
     ]
    },
    {
     "name": "stdout",
     "output_type": "stream",
     "text": [
      "(187350, 5)\n",
      "Processing Participant 2504 52/191\n"
     ]
    },
    {
     "name": "stderr",
     "output_type": "stream",
     "text": [
      "C:\\Users\\sambit\\AppData\\Local\\Temp\\ipykernel_8856\\4022689757.py:7: FutureWarning: \n",
      "        Use pd.to_datetime instead.\n",
      "\n",
      "  apple_data = pd.read_csv(data_path, usecols=['Apple Time', 'Apple Second Fraction', 'Apple X', 'Apple Y', 'Apple Z', 'Apple Magnitude'], parse_dates=[[0,1]], date_parser=parser_apple).dropna()\n"
     ]
    },
    {
     "name": "stdout",
     "output_type": "stream",
     "text": [
      "(194214, 5)\n",
      "Processing Participant 2505 53/191\n"
     ]
    },
    {
     "name": "stderr",
     "output_type": "stream",
     "text": [
      "C:\\Users\\sambit\\AppData\\Local\\Temp\\ipykernel_8856\\4022689757.py:7: FutureWarning: \n",
      "        Use pd.to_datetime instead.\n",
      "\n",
      "  apple_data = pd.read_csv(data_path, usecols=['Apple Time', 'Apple Second Fraction', 'Apple X', 'Apple Y', 'Apple Z', 'Apple Magnitude'], parse_dates=[[0,1]], date_parser=parser_apple).dropna()\n"
     ]
    },
    {
     "name": "stdout",
     "output_type": "stream",
     "text": [
      "(218864, 5)\n",
      "Processing Participant 2506 54/191\n"
     ]
    },
    {
     "name": "stderr",
     "output_type": "stream",
     "text": [
      "C:\\Users\\sambit\\AppData\\Local\\Temp\\ipykernel_8856\\4022689757.py:7: FutureWarning: \n",
      "        Use pd.to_datetime instead.\n",
      "\n",
      "  apple_data = pd.read_csv(data_path, usecols=['Apple Time', 'Apple Second Fraction', 'Apple X', 'Apple Y', 'Apple Z', 'Apple Magnitude'], parse_dates=[[0,1]], date_parser=parser_apple).dropna()\n"
     ]
    },
    {
     "name": "stdout",
     "output_type": "stream",
     "text": [
      "(192625, 5)\n",
      "Processing Participant 2507 55/191\n"
     ]
    },
    {
     "name": "stderr",
     "output_type": "stream",
     "text": [
      "C:\\Users\\sambit\\AppData\\Local\\Temp\\ipykernel_8856\\4022689757.py:7: FutureWarning: \n",
      "        Use pd.to_datetime instead.\n",
      "\n",
      "  apple_data = pd.read_csv(data_path, usecols=['Apple Time', 'Apple Second Fraction', 'Apple X', 'Apple Y', 'Apple Z', 'Apple Magnitude'], parse_dates=[[0,1]], date_parser=parser_apple).dropna()\n"
     ]
    },
    {
     "name": "stdout",
     "output_type": "stream",
     "text": [
      "(223812, 5)\n",
      "Processing Participant 2508 56/191\n"
     ]
    },
    {
     "name": "stderr",
     "output_type": "stream",
     "text": [
      "C:\\Users\\sambit\\AppData\\Local\\Temp\\ipykernel_8856\\4022689757.py:7: FutureWarning: \n",
      "        Use pd.to_datetime instead.\n",
      "\n",
      "  apple_data = pd.read_csv(data_path, usecols=['Apple Time', 'Apple Second Fraction', 'Apple X', 'Apple Y', 'Apple Z', 'Apple Magnitude'], parse_dates=[[0,1]], date_parser=parser_apple).dropna()\n"
     ]
    },
    {
     "name": "stdout",
     "output_type": "stream",
     "text": [
      "(177147, 5)\n",
      "Processing Participant 2517 57/191\n"
     ]
    },
    {
     "name": "stderr",
     "output_type": "stream",
     "text": [
      "C:\\Users\\sambit\\AppData\\Local\\Temp\\ipykernel_8856\\4022689757.py:7: FutureWarning: \n",
      "        Use pd.to_datetime instead.\n",
      "\n",
      "  apple_data = pd.read_csv(data_path, usecols=['Apple Time', 'Apple Second Fraction', 'Apple X', 'Apple Y', 'Apple Z', 'Apple Magnitude'], parse_dates=[[0,1]], date_parser=parser_apple).dropna()\n"
     ]
    },
    {
     "name": "stdout",
     "output_type": "stream",
     "text": [
      "(201668, 5)\n",
      "Processing Participant 2525 58/191\n"
     ]
    },
    {
     "name": "stderr",
     "output_type": "stream",
     "text": [
      "C:\\Users\\sambit\\AppData\\Local\\Temp\\ipykernel_8856\\4022689757.py:7: FutureWarning: \n",
      "        Use pd.to_datetime instead.\n",
      "\n",
      "  apple_data = pd.read_csv(data_path, usecols=['Apple Time', 'Apple Second Fraction', 'Apple X', 'Apple Y', 'Apple Z', 'Apple Magnitude'], parse_dates=[[0,1]], date_parser=parser_apple).dropna()\n"
     ]
    },
    {
     "name": "stdout",
     "output_type": "stream",
     "text": [
      "(224384, 5)\n",
      "Processing Participant 2531 59/191\n"
     ]
    },
    {
     "name": "stderr",
     "output_type": "stream",
     "text": [
      "C:\\Users\\sambit\\AppData\\Local\\Temp\\ipykernel_8856\\4022689757.py:7: FutureWarning: \n",
      "        Use pd.to_datetime instead.\n",
      "\n",
      "  apple_data = pd.read_csv(data_path, usecols=['Apple Time', 'Apple Second Fraction', 'Apple X', 'Apple Y', 'Apple Z', 'Apple Magnitude'], parse_dates=[[0,1]], date_parser=parser_apple).dropna()\n"
     ]
    },
    {
     "name": "stdout",
     "output_type": "stream",
     "text": [
      "(189531, 5)\n",
      "Processing Participant 2532 60/191\n"
     ]
    },
    {
     "name": "stderr",
     "output_type": "stream",
     "text": [
      "C:\\Users\\sambit\\AppData\\Local\\Temp\\ipykernel_8856\\4022689757.py:7: FutureWarning: \n",
      "        Use pd.to_datetime instead.\n",
      "\n",
      "  apple_data = pd.read_csv(data_path, usecols=['Apple Time', 'Apple Second Fraction', 'Apple X', 'Apple Y', 'Apple Z', 'Apple Magnitude'], parse_dates=[[0,1]], date_parser=parser_apple).dropna()\n"
     ]
    },
    {
     "name": "stdout",
     "output_type": "stream",
     "text": [
      "(194262, 5)\n",
      "Processing Participant 2533 61/191\n"
     ]
    },
    {
     "name": "stderr",
     "output_type": "stream",
     "text": [
      "C:\\Users\\sambit\\AppData\\Local\\Temp\\ipykernel_8856\\4022689757.py:7: FutureWarning: \n",
      "        Use pd.to_datetime instead.\n",
      "\n",
      "  apple_data = pd.read_csv(data_path, usecols=['Apple Time', 'Apple Second Fraction', 'Apple X', 'Apple Y', 'Apple Z', 'Apple Magnitude'], parse_dates=[[0,1]], date_parser=parser_apple).dropna()\n"
     ]
    },
    {
     "name": "stdout",
     "output_type": "stream",
     "text": [
      "(182397, 5)\n",
      "Processing Participant 2540 62/191\n"
     ]
    },
    {
     "name": "stderr",
     "output_type": "stream",
     "text": [
      "C:\\Users\\sambit\\AppData\\Local\\Temp\\ipykernel_8856\\4022689757.py:7: FutureWarning: \n",
      "        Use pd.to_datetime instead.\n",
      "\n",
      "  apple_data = pd.read_csv(data_path, usecols=['Apple Time', 'Apple Second Fraction', 'Apple X', 'Apple Y', 'Apple Z', 'Apple Magnitude'], parse_dates=[[0,1]], date_parser=parser_apple).dropna()\n"
     ]
    },
    {
     "name": "stdout",
     "output_type": "stream",
     "text": [
      "(180223, 5)\n",
      "Processing Participant 2541 63/191\n"
     ]
    },
    {
     "name": "stderr",
     "output_type": "stream",
     "text": [
      "C:\\Users\\sambit\\AppData\\Local\\Temp\\ipykernel_8856\\4022689757.py:7: FutureWarning: \n",
      "        Use pd.to_datetime instead.\n",
      "\n",
      "  apple_data = pd.read_csv(data_path, usecols=['Apple Time', 'Apple Second Fraction', 'Apple X', 'Apple Y', 'Apple Z', 'Apple Magnitude'], parse_dates=[[0,1]], date_parser=parser_apple).dropna()\n"
     ]
    },
    {
     "name": "stdout",
     "output_type": "stream",
     "text": [
      "(203715, 5)\n",
      "Processing Participant 2542 64/191\n"
     ]
    },
    {
     "name": "stderr",
     "output_type": "stream",
     "text": [
      "C:\\Users\\sambit\\AppData\\Local\\Temp\\ipykernel_8856\\4022689757.py:7: FutureWarning: \n",
      "        Use pd.to_datetime instead.\n",
      "\n",
      "  apple_data = pd.read_csv(data_path, usecols=['Apple Time', 'Apple Second Fraction', 'Apple X', 'Apple Y', 'Apple Z', 'Apple Magnitude'], parse_dates=[[0,1]], date_parser=parser_apple).dropna()\n"
     ]
    },
    {
     "name": "stdout",
     "output_type": "stream",
     "text": [
      "(218145, 5)\n",
      "Processing Participant 2543 65/191\n"
     ]
    },
    {
     "name": "stderr",
     "output_type": "stream",
     "text": [
      "C:\\Users\\sambit\\AppData\\Local\\Temp\\ipykernel_8856\\4022689757.py:7: FutureWarning: \n",
      "        Use pd.to_datetime instead.\n",
      "\n",
      "  apple_data = pd.read_csv(data_path, usecols=['Apple Time', 'Apple Second Fraction', 'Apple X', 'Apple Y', 'Apple Z', 'Apple Magnitude'], parse_dates=[[0,1]], date_parser=parser_apple).dropna()\n"
     ]
    },
    {
     "name": "stdout",
     "output_type": "stream",
     "text": [
      "(204122, 5)\n",
      "Processing Participant 2544 66/191\n"
     ]
    },
    {
     "name": "stderr",
     "output_type": "stream",
     "text": [
      "C:\\Users\\sambit\\AppData\\Local\\Temp\\ipykernel_8856\\4022689757.py:7: FutureWarning: \n",
      "        Use pd.to_datetime instead.\n",
      "\n",
      "  apple_data = pd.read_csv(data_path, usecols=['Apple Time', 'Apple Second Fraction', 'Apple X', 'Apple Y', 'Apple Z', 'Apple Magnitude'], parse_dates=[[0,1]], date_parser=parser_apple).dropna()\n"
     ]
    },
    {
     "name": "stdout",
     "output_type": "stream",
     "text": [
      "(185320, 5)\n",
      "Processing Participant 2545 67/191\n"
     ]
    },
    {
     "name": "stderr",
     "output_type": "stream",
     "text": [
      "C:\\Users\\sambit\\AppData\\Local\\Temp\\ipykernel_8856\\4022689757.py:7: FutureWarning: \n",
      "        Use pd.to_datetime instead.\n",
      "\n",
      "  apple_data = pd.read_csv(data_path, usecols=['Apple Time', 'Apple Second Fraction', 'Apple X', 'Apple Y', 'Apple Z', 'Apple Magnitude'], parse_dates=[[0,1]], date_parser=parser_apple).dropna()\n"
     ]
    },
    {
     "name": "stdout",
     "output_type": "stream",
     "text": [
      "(229877, 5)\n",
      "Processing Participant 2546 68/191\n"
     ]
    },
    {
     "name": "stderr",
     "output_type": "stream",
     "text": [
      "C:\\Users\\sambit\\AppData\\Local\\Temp\\ipykernel_8856\\4022689757.py:7: FutureWarning: \n",
      "        Use pd.to_datetime instead.\n",
      "\n",
      "  apple_data = pd.read_csv(data_path, usecols=['Apple Time', 'Apple Second Fraction', 'Apple X', 'Apple Y', 'Apple Z', 'Apple Magnitude'], parse_dates=[[0,1]], date_parser=parser_apple).dropna()\n"
     ]
    },
    {
     "name": "stdout",
     "output_type": "stream",
     "text": [
      "(112145, 5)\n",
      "Processing Participant 2557 69/191\n"
     ]
    },
    {
     "name": "stderr",
     "output_type": "stream",
     "text": [
      "C:\\Users\\sambit\\AppData\\Local\\Temp\\ipykernel_8856\\4022689757.py:7: FutureWarning: \n",
      "        Use pd.to_datetime instead.\n",
      "\n",
      "  apple_data = pd.read_csv(data_path, usecols=['Apple Time', 'Apple Second Fraction', 'Apple X', 'Apple Y', 'Apple Z', 'Apple Magnitude'], parse_dates=[[0,1]], date_parser=parser_apple).dropna()\n"
     ]
    },
    {
     "name": "stdout",
     "output_type": "stream",
     "text": [
      "(203101, 5)\n",
      "Processing Participant 2558 70/191\n"
     ]
    },
    {
     "name": "stderr",
     "output_type": "stream",
     "text": [
      "C:\\Users\\sambit\\AppData\\Local\\Temp\\ipykernel_8856\\4022689757.py:7: FutureWarning: \n",
      "        Use pd.to_datetime instead.\n",
      "\n",
      "  apple_data = pd.read_csv(data_path, usecols=['Apple Time', 'Apple Second Fraction', 'Apple X', 'Apple Y', 'Apple Z', 'Apple Magnitude'], parse_dates=[[0,1]], date_parser=parser_apple).dropna()\n"
     ]
    },
    {
     "name": "stdout",
     "output_type": "stream",
     "text": [
      "(208997, 5)\n",
      "Processing Participant 2559 71/191\n"
     ]
    },
    {
     "name": "stderr",
     "output_type": "stream",
     "text": [
      "C:\\Users\\sambit\\AppData\\Local\\Temp\\ipykernel_8856\\4022689757.py:7: FutureWarning: \n",
      "        Use pd.to_datetime instead.\n",
      "\n",
      "  apple_data = pd.read_csv(data_path, usecols=['Apple Time', 'Apple Second Fraction', 'Apple X', 'Apple Y', 'Apple Z', 'Apple Magnitude'], parse_dates=[[0,1]], date_parser=parser_apple).dropna()\n"
     ]
    },
    {
     "name": "stdout",
     "output_type": "stream",
     "text": [
      "(214485, 5)\n",
      "Processing Participant 2560 72/191\n"
     ]
    },
    {
     "name": "stderr",
     "output_type": "stream",
     "text": [
      "C:\\Users\\sambit\\AppData\\Local\\Temp\\ipykernel_8856\\4022689757.py:7: FutureWarning: \n",
      "        Use pd.to_datetime instead.\n",
      "\n",
      "  apple_data = pd.read_csv(data_path, usecols=['Apple Time', 'Apple Second Fraction', 'Apple X', 'Apple Y', 'Apple Z', 'Apple Magnitude'], parse_dates=[[0,1]], date_parser=parser_apple).dropna()\n"
     ]
    },
    {
     "name": "stdout",
     "output_type": "stream",
     "text": [
      "(151774, 5)\n",
      "Processing Participant 2566 73/191\n"
     ]
    },
    {
     "name": "stderr",
     "output_type": "stream",
     "text": [
      "C:\\Users\\sambit\\AppData\\Local\\Temp\\ipykernel_8856\\4022689757.py:7: FutureWarning: \n",
      "        Use pd.to_datetime instead.\n",
      "\n",
      "  apple_data = pd.read_csv(data_path, usecols=['Apple Time', 'Apple Second Fraction', 'Apple X', 'Apple Y', 'Apple Z', 'Apple Magnitude'], parse_dates=[[0,1]], date_parser=parser_apple).dropna()\n"
     ]
    },
    {
     "name": "stdout",
     "output_type": "stream",
     "text": [
      "(190253, 5)\n",
      "Processing Participant 2576 74/191\n"
     ]
    },
    {
     "name": "stderr",
     "output_type": "stream",
     "text": [
      "C:\\Users\\sambit\\AppData\\Local\\Temp\\ipykernel_8856\\4022689757.py:7: FutureWarning: \n",
      "        Use pd.to_datetime instead.\n",
      "\n",
      "  apple_data = pd.read_csv(data_path, usecols=['Apple Time', 'Apple Second Fraction', 'Apple X', 'Apple Y', 'Apple Z', 'Apple Magnitude'], parse_dates=[[0,1]], date_parser=parser_apple).dropna()\n"
     ]
    },
    {
     "name": "stdout",
     "output_type": "stream",
     "text": [
      "(190405, 5)\n",
      "Processing Participant 2584 75/191\n"
     ]
    },
    {
     "name": "stderr",
     "output_type": "stream",
     "text": [
      "C:\\Users\\sambit\\AppData\\Local\\Temp\\ipykernel_8856\\4022689757.py:7: FutureWarning: \n",
      "        Use pd.to_datetime instead.\n",
      "\n",
      "  apple_data = pd.read_csv(data_path, usecols=['Apple Time', 'Apple Second Fraction', 'Apple X', 'Apple Y', 'Apple Z', 'Apple Magnitude'], parse_dates=[[0,1]], date_parser=parser_apple).dropna()\n"
     ]
    },
    {
     "name": "stdout",
     "output_type": "stream",
     "text": [
      "(189727, 5)\n",
      "Processing Participant 2588 76/191\n"
     ]
    },
    {
     "name": "stderr",
     "output_type": "stream",
     "text": [
      "C:\\Users\\sambit\\AppData\\Local\\Temp\\ipykernel_8856\\4022689757.py:7: FutureWarning: \n",
      "        Use pd.to_datetime instead.\n",
      "\n",
      "  apple_data = pd.read_csv(data_path, usecols=['Apple Time', 'Apple Second Fraction', 'Apple X', 'Apple Y', 'Apple Z', 'Apple Magnitude'], parse_dates=[[0,1]], date_parser=parser_apple).dropna()\n"
     ]
    },
    {
     "name": "stdout",
     "output_type": "stream",
     "text": [
      "(210771, 5)\n",
      "Processing Participant 2589 77/191\n"
     ]
    },
    {
     "name": "stderr",
     "output_type": "stream",
     "text": [
      "C:\\Users\\sambit\\AppData\\Local\\Temp\\ipykernel_8856\\4022689757.py:7: FutureWarning: \n",
      "        Use pd.to_datetime instead.\n",
      "\n",
      "  apple_data = pd.read_csv(data_path, usecols=['Apple Time', 'Apple Second Fraction', 'Apple X', 'Apple Y', 'Apple Z', 'Apple Magnitude'], parse_dates=[[0,1]], date_parser=parser_apple).dropna()\n"
     ]
    },
    {
     "name": "stdout",
     "output_type": "stream",
     "text": [
      "(216022, 5)\n",
      "Processing Participant 2596 78/191\n",
      "No Apple Data for 2596\n",
      "Processing Participant 2601 79/191\n"
     ]
    },
    {
     "name": "stderr",
     "output_type": "stream",
     "text": [
      "C:\\Users\\sambit\\AppData\\Local\\Temp\\ipykernel_8856\\4022689757.py:7: FutureWarning: \n",
      "        Use pd.to_datetime instead.\n",
      "\n",
      "  apple_data = pd.read_csv(data_path, usecols=['Apple Time', 'Apple Second Fraction', 'Apple X', 'Apple Y', 'Apple Z', 'Apple Magnitude'], parse_dates=[[0,1]], date_parser=parser_apple).dropna()\n"
     ]
    },
    {
     "name": "stdout",
     "output_type": "stream",
     "text": [
      "(233802, 5)\n",
      "Processing Participant 2604 80/191\n"
     ]
    },
    {
     "name": "stderr",
     "output_type": "stream",
     "text": [
      "C:\\Users\\sambit\\AppData\\Local\\Temp\\ipykernel_8856\\4022689757.py:7: FutureWarning: \n",
      "        Use pd.to_datetime instead.\n",
      "\n",
      "  apple_data = pd.read_csv(data_path, usecols=['Apple Time', 'Apple Second Fraction', 'Apple X', 'Apple Y', 'Apple Z', 'Apple Magnitude'], parse_dates=[[0,1]], date_parser=parser_apple).dropna()\n"
     ]
    },
    {
     "name": "stdout",
     "output_type": "stream",
     "text": [
      "(202147, 5)\n",
      "Processing Participant 2605 81/191\n"
     ]
    },
    {
     "name": "stderr",
     "output_type": "stream",
     "text": [
      "C:\\Users\\sambit\\AppData\\Local\\Temp\\ipykernel_8856\\4022689757.py:7: FutureWarning: \n",
      "        Use pd.to_datetime instead.\n",
      "\n",
      "  apple_data = pd.read_csv(data_path, usecols=['Apple Time', 'Apple Second Fraction', 'Apple X', 'Apple Y', 'Apple Z', 'Apple Magnitude'], parse_dates=[[0,1]], date_parser=parser_apple).dropna()\n"
     ]
    },
    {
     "name": "stdout",
     "output_type": "stream",
     "text": [
      "(206257, 5)\n",
      "Processing Participant 2608 82/191\n",
      "No Apple Data for 2608\n",
      "Processing Participant 2611 83/191\n"
     ]
    },
    {
     "name": "stderr",
     "output_type": "stream",
     "text": [
      "C:\\Users\\sambit\\AppData\\Local\\Temp\\ipykernel_8856\\4022689757.py:7: FutureWarning: \n",
      "        Use pd.to_datetime instead.\n",
      "\n",
      "  apple_data = pd.read_csv(data_path, usecols=['Apple Time', 'Apple Second Fraction', 'Apple X', 'Apple Y', 'Apple Z', 'Apple Magnitude'], parse_dates=[[0,1]], date_parser=parser_apple).dropna()\n"
     ]
    },
    {
     "name": "stdout",
     "output_type": "stream",
     "text": [
      "(237605, 5)\n",
      "Processing Participant 2612 84/191\n"
     ]
    },
    {
     "name": "stderr",
     "output_type": "stream",
     "text": [
      "C:\\Users\\sambit\\AppData\\Local\\Temp\\ipykernel_8856\\4022689757.py:7: FutureWarning: \n",
      "        Use pd.to_datetime instead.\n",
      "\n",
      "  apple_data = pd.read_csv(data_path, usecols=['Apple Time', 'Apple Second Fraction', 'Apple X', 'Apple Y', 'Apple Z', 'Apple Magnitude'], parse_dates=[[0,1]], date_parser=parser_apple).dropna()\n"
     ]
    },
    {
     "name": "stdout",
     "output_type": "stream",
     "text": [
      "(220796, 5)\n",
      "Processing Participant 2613 85/191\n"
     ]
    },
    {
     "name": "stderr",
     "output_type": "stream",
     "text": [
      "C:\\Users\\sambit\\AppData\\Local\\Temp\\ipykernel_8856\\4022689757.py:7: FutureWarning: \n",
      "        Use pd.to_datetime instead.\n",
      "\n",
      "  apple_data = pd.read_csv(data_path, usecols=['Apple Time', 'Apple Second Fraction', 'Apple X', 'Apple Y', 'Apple Z', 'Apple Magnitude'], parse_dates=[[0,1]], date_parser=parser_apple).dropna()\n"
     ]
    },
    {
     "name": "stdout",
     "output_type": "stream",
     "text": [
      "(224267, 5)\n",
      "Processing Participant 2628 86/191\n"
     ]
    },
    {
     "name": "stderr",
     "output_type": "stream",
     "text": [
      "C:\\Users\\sambit\\AppData\\Local\\Temp\\ipykernel_8856\\4022689757.py:7: FutureWarning: \n",
      "        Use pd.to_datetime instead.\n",
      "\n",
      "  apple_data = pd.read_csv(data_path, usecols=['Apple Time', 'Apple Second Fraction', 'Apple X', 'Apple Y', 'Apple Z', 'Apple Magnitude'], parse_dates=[[0,1]], date_parser=parser_apple).dropna()\n"
     ]
    },
    {
     "name": "stdout",
     "output_type": "stream",
     "text": [
      "(216896, 5)\n",
      "Processing Participant 2629 87/191\n"
     ]
    },
    {
     "name": "stderr",
     "output_type": "stream",
     "text": [
      "C:\\Users\\sambit\\AppData\\Local\\Temp\\ipykernel_8856\\4022689757.py:7: FutureWarning: \n",
      "        Use pd.to_datetime instead.\n",
      "\n",
      "  apple_data = pd.read_csv(data_path, usecols=['Apple Time', 'Apple Second Fraction', 'Apple X', 'Apple Y', 'Apple Z', 'Apple Magnitude'], parse_dates=[[0,1]], date_parser=parser_apple).dropna()\n"
     ]
    },
    {
     "name": "stdout",
     "output_type": "stream",
     "text": [
      "(208102, 5)\n",
      "Processing Participant 2630 88/191\n"
     ]
    },
    {
     "name": "stderr",
     "output_type": "stream",
     "text": [
      "C:\\Users\\sambit\\AppData\\Local\\Temp\\ipykernel_8856\\4022689757.py:7: FutureWarning: \n",
      "        Use pd.to_datetime instead.\n",
      "\n",
      "  apple_data = pd.read_csv(data_path, usecols=['Apple Time', 'Apple Second Fraction', 'Apple X', 'Apple Y', 'Apple Z', 'Apple Magnitude'], parse_dates=[[0,1]], date_parser=parser_apple).dropna()\n"
     ]
    },
    {
     "name": "stdout",
     "output_type": "stream",
     "text": [
      "(89402, 5)\n",
      "Processing Participant 2631 89/191\n"
     ]
    },
    {
     "name": "stderr",
     "output_type": "stream",
     "text": [
      "C:\\Users\\sambit\\AppData\\Local\\Temp\\ipykernel_8856\\4022689757.py:7: FutureWarning: \n",
      "        Use pd.to_datetime instead.\n",
      "\n",
      "  apple_data = pd.read_csv(data_path, usecols=['Apple Time', 'Apple Second Fraction', 'Apple X', 'Apple Y', 'Apple Z', 'Apple Magnitude'], parse_dates=[[0,1]], date_parser=parser_apple).dropna()\n"
     ]
    },
    {
     "name": "stdout",
     "output_type": "stream",
     "text": [
      "(218400, 5)\n",
      "Processing Participant 2635 90/191\n",
      "No Apple Data for 2635\n",
      "Processing Participant 2637 91/191\n",
      "No Apple Data for 2637\n",
      "Processing Participant 2639 92/191\n"
     ]
    },
    {
     "name": "stderr",
     "output_type": "stream",
     "text": [
      "C:\\Users\\sambit\\AppData\\Local\\Temp\\ipykernel_8856\\4022689757.py:7: FutureWarning: \n",
      "        Use pd.to_datetime instead.\n",
      "\n",
      "  apple_data = pd.read_csv(data_path, usecols=['Apple Time', 'Apple Second Fraction', 'Apple X', 'Apple Y', 'Apple Z', 'Apple Magnitude'], parse_dates=[[0,1]], date_parser=parser_apple).dropna()\n"
     ]
    },
    {
     "name": "stdout",
     "output_type": "stream",
     "text": [
      "(256759, 5)\n",
      "Processing Participant 2640 93/191\n"
     ]
    },
    {
     "name": "stderr",
     "output_type": "stream",
     "text": [
      "C:\\Users\\sambit\\AppData\\Local\\Temp\\ipykernel_8856\\4022689757.py:7: FutureWarning: \n",
      "        Use pd.to_datetime instead.\n",
      "\n",
      "  apple_data = pd.read_csv(data_path, usecols=['Apple Time', 'Apple Second Fraction', 'Apple X', 'Apple Y', 'Apple Z', 'Apple Magnitude'], parse_dates=[[0,1]], date_parser=parser_apple).dropna()\n"
     ]
    },
    {
     "name": "stdout",
     "output_type": "stream",
     "text": [
      "(228461, 5)\n",
      "Processing Participant 2641 94/191\n"
     ]
    },
    {
     "name": "stderr",
     "output_type": "stream",
     "text": [
      "C:\\Users\\sambit\\AppData\\Local\\Temp\\ipykernel_8856\\4022689757.py:7: FutureWarning: \n",
      "        Use pd.to_datetime instead.\n",
      "\n",
      "  apple_data = pd.read_csv(data_path, usecols=['Apple Time', 'Apple Second Fraction', 'Apple X', 'Apple Y', 'Apple Z', 'Apple Magnitude'], parse_dates=[[0,1]], date_parser=parser_apple).dropna()\n"
     ]
    },
    {
     "name": "stdout",
     "output_type": "stream",
     "text": [
      "(193395, 5)\n",
      "Processing Participant 2642 95/191\n"
     ]
    },
    {
     "name": "stderr",
     "output_type": "stream",
     "text": [
      "C:\\Users\\sambit\\AppData\\Local\\Temp\\ipykernel_8856\\4022689757.py:7: FutureWarning: \n",
      "        Use pd.to_datetime instead.\n",
      "\n",
      "  apple_data = pd.read_csv(data_path, usecols=['Apple Time', 'Apple Second Fraction', 'Apple X', 'Apple Y', 'Apple Z', 'Apple Magnitude'], parse_dates=[[0,1]], date_parser=parser_apple).dropna()\n"
     ]
    },
    {
     "name": "stdout",
     "output_type": "stream",
     "text": [
      "(178438, 5)\n",
      "Processing Participant 2643 96/191\n"
     ]
    },
    {
     "name": "stderr",
     "output_type": "stream",
     "text": [
      "C:\\Users\\sambit\\AppData\\Local\\Temp\\ipykernel_8856\\4022689757.py:7: FutureWarning: \n",
      "        Use pd.to_datetime instead.\n",
      "\n",
      "  apple_data = pd.read_csv(data_path, usecols=['Apple Time', 'Apple Second Fraction', 'Apple X', 'Apple Y', 'Apple Z', 'Apple Magnitude'], parse_dates=[[0,1]], date_parser=parser_apple).dropna()\n"
     ]
    },
    {
     "name": "stdout",
     "output_type": "stream",
     "text": [
      "(205989, 5)\n",
      "Processing Participant 2644 97/191\n"
     ]
    },
    {
     "name": "stderr",
     "output_type": "stream",
     "text": [
      "C:\\Users\\sambit\\AppData\\Local\\Temp\\ipykernel_8856\\4022689757.py:7: FutureWarning: \n",
      "        Use pd.to_datetime instead.\n",
      "\n",
      "  apple_data = pd.read_csv(data_path, usecols=['Apple Time', 'Apple Second Fraction', 'Apple X', 'Apple Y', 'Apple Z', 'Apple Magnitude'], parse_dates=[[0,1]], date_parser=parser_apple).dropna()\n"
     ]
    },
    {
     "name": "stdout",
     "output_type": "stream",
     "text": [
      "(209630, 5)\n",
      "Processing Participant 2645 98/191\n"
     ]
    },
    {
     "name": "stderr",
     "output_type": "stream",
     "text": [
      "C:\\Users\\sambit\\AppData\\Local\\Temp\\ipykernel_8856\\4022689757.py:7: FutureWarning: \n",
      "        Use pd.to_datetime instead.\n",
      "\n",
      "  apple_data = pd.read_csv(data_path, usecols=['Apple Time', 'Apple Second Fraction', 'Apple X', 'Apple Y', 'Apple Z', 'Apple Magnitude'], parse_dates=[[0,1]], date_parser=parser_apple).dropna()\n"
     ]
    },
    {
     "name": "stdout",
     "output_type": "stream",
     "text": [
      "(218273, 5)\n",
      "Processing Participant 2646 99/191\n"
     ]
    },
    {
     "name": "stderr",
     "output_type": "stream",
     "text": [
      "C:\\Users\\sambit\\AppData\\Local\\Temp\\ipykernel_8856\\4022689757.py:7: FutureWarning: \n",
      "        Use pd.to_datetime instead.\n",
      "\n",
      "  apple_data = pd.read_csv(data_path, usecols=['Apple Time', 'Apple Second Fraction', 'Apple X', 'Apple Y', 'Apple Z', 'Apple Magnitude'], parse_dates=[[0,1]], date_parser=parser_apple).dropna()\n"
     ]
    },
    {
     "name": "stdout",
     "output_type": "stream",
     "text": [
      "(227342, 5)\n",
      "Processing Participant 2647 100/191\n"
     ]
    },
    {
     "name": "stderr",
     "output_type": "stream",
     "text": [
      "C:\\Users\\sambit\\AppData\\Local\\Temp\\ipykernel_8856\\4022689757.py:7: FutureWarning: \n",
      "        Use pd.to_datetime instead.\n",
      "\n",
      "  apple_data = pd.read_csv(data_path, usecols=['Apple Time', 'Apple Second Fraction', 'Apple X', 'Apple Y', 'Apple Z', 'Apple Magnitude'], parse_dates=[[0,1]], date_parser=parser_apple).dropna()\n"
     ]
    },
    {
     "name": "stdout",
     "output_type": "stream",
     "text": [
      "(217597, 5)\n",
      "Processing Participant 2648 101/191\n"
     ]
    },
    {
     "name": "stderr",
     "output_type": "stream",
     "text": [
      "C:\\Users\\sambit\\AppData\\Local\\Temp\\ipykernel_8856\\4022689757.py:7: FutureWarning: \n",
      "        Use pd.to_datetime instead.\n",
      "\n",
      "  apple_data = pd.read_csv(data_path, usecols=['Apple Time', 'Apple Second Fraction', 'Apple X', 'Apple Y', 'Apple Z', 'Apple Magnitude'], parse_dates=[[0,1]], date_parser=parser_apple).dropna()\n"
     ]
    },
    {
     "name": "stdout",
     "output_type": "stream",
     "text": [
      "(204848, 5)\n",
      "Processing Participant 2649 102/191\n"
     ]
    },
    {
     "name": "stderr",
     "output_type": "stream",
     "text": [
      "C:\\Users\\sambit\\AppData\\Local\\Temp\\ipykernel_8856\\4022689757.py:7: FutureWarning: \n",
      "        Use pd.to_datetime instead.\n",
      "\n",
      "  apple_data = pd.read_csv(data_path, usecols=['Apple Time', 'Apple Second Fraction', 'Apple X', 'Apple Y', 'Apple Z', 'Apple Magnitude'], parse_dates=[[0,1]], date_parser=parser_apple).dropna()\n"
     ]
    },
    {
     "name": "stdout",
     "output_type": "stream",
     "text": [
      "(204764, 5)\n",
      "Processing Participant 2650 103/191\n"
     ]
    },
    {
     "name": "stderr",
     "output_type": "stream",
     "text": [
      "C:\\Users\\sambit\\AppData\\Local\\Temp\\ipykernel_8856\\4022689757.py:7: FutureWarning: \n",
      "        Use pd.to_datetime instead.\n",
      "\n",
      "  apple_data = pd.read_csv(data_path, usecols=['Apple Time', 'Apple Second Fraction', 'Apple X', 'Apple Y', 'Apple Z', 'Apple Magnitude'], parse_dates=[[0,1]], date_parser=parser_apple).dropna()\n"
     ]
    },
    {
     "name": "stdout",
     "output_type": "stream",
     "text": [
      "(232894, 5)\n",
      "Processing Participant 2651 104/191\n"
     ]
    },
    {
     "name": "stderr",
     "output_type": "stream",
     "text": [
      "C:\\Users\\sambit\\AppData\\Local\\Temp\\ipykernel_8856\\4022689757.py:7: FutureWarning: \n",
      "        Use pd.to_datetime instead.\n",
      "\n",
      "  apple_data = pd.read_csv(data_path, usecols=['Apple Time', 'Apple Second Fraction', 'Apple X', 'Apple Y', 'Apple Z', 'Apple Magnitude'], parse_dates=[[0,1]], date_parser=parser_apple).dropna()\n"
     ]
    },
    {
     "name": "stdout",
     "output_type": "stream",
     "text": [
      "(217600, 5)\n",
      "Processing Participant 2653 105/191\n",
      "No Apple Data for 2653\n",
      "Processing Participant 2657 106/191\n"
     ]
    },
    {
     "name": "stderr",
     "output_type": "stream",
     "text": [
      "C:\\Users\\sambit\\AppData\\Local\\Temp\\ipykernel_8856\\4022689757.py:7: FutureWarning: \n",
      "        Use pd.to_datetime instead.\n",
      "\n",
      "  apple_data = pd.read_csv(data_path, usecols=['Apple Time', 'Apple Second Fraction', 'Apple X', 'Apple Y', 'Apple Z', 'Apple Magnitude'], parse_dates=[[0,1]], date_parser=parser_apple).dropna()\n"
     ]
    },
    {
     "name": "stdout",
     "output_type": "stream",
     "text": [
      "(199417, 5)\n",
      "Processing Participant 2661 107/191\n",
      "No Apple Data for 2661\n",
      "Processing Participant 2662 108/191\n"
     ]
    },
    {
     "name": "stderr",
     "output_type": "stream",
     "text": [
      "C:\\Users\\sambit\\AppData\\Local\\Temp\\ipykernel_8856\\4022689757.py:7: FutureWarning: \n",
      "        Use pd.to_datetime instead.\n",
      "\n",
      "  apple_data = pd.read_csv(data_path, usecols=['Apple Time', 'Apple Second Fraction', 'Apple X', 'Apple Y', 'Apple Z', 'Apple Magnitude'], parse_dates=[[0,1]], date_parser=parser_apple).dropna()\n"
     ]
    },
    {
     "name": "stdout",
     "output_type": "stream",
     "text": [
      "(224981, 5)\n",
      "Processing Participant 2663 109/191\n"
     ]
    },
    {
     "name": "stderr",
     "output_type": "stream",
     "text": [
      "C:\\Users\\sambit\\AppData\\Local\\Temp\\ipykernel_8856\\4022689757.py:7: FutureWarning: \n",
      "        Use pd.to_datetime instead.\n",
      "\n",
      "  apple_data = pd.read_csv(data_path, usecols=['Apple Time', 'Apple Second Fraction', 'Apple X', 'Apple Y', 'Apple Z', 'Apple Magnitude'], parse_dates=[[0,1]], date_parser=parser_apple).dropna()\n"
     ]
    },
    {
     "name": "stdout",
     "output_type": "stream",
     "text": [
      "(264353, 5)\n",
      "Processing Participant 2664 110/191\n"
     ]
    },
    {
     "name": "stderr",
     "output_type": "stream",
     "text": [
      "C:\\Users\\sambit\\AppData\\Local\\Temp\\ipykernel_8856\\4022689757.py:7: FutureWarning: \n",
      "        Use pd.to_datetime instead.\n",
      "\n",
      "  apple_data = pd.read_csv(data_path, usecols=['Apple Time', 'Apple Second Fraction', 'Apple X', 'Apple Y', 'Apple Z', 'Apple Magnitude'], parse_dates=[[0,1]], date_parser=parser_apple).dropna()\n"
     ]
    },
    {
     "name": "stdout",
     "output_type": "stream",
     "text": [
      "(182679, 5)\n",
      "Processing Participant 2665 111/191\n"
     ]
    },
    {
     "name": "stderr",
     "output_type": "stream",
     "text": [
      "C:\\Users\\sambit\\AppData\\Local\\Temp\\ipykernel_8856\\4022689757.py:7: FutureWarning: \n",
      "        Use pd.to_datetime instead.\n",
      "\n",
      "  apple_data = pd.read_csv(data_path, usecols=['Apple Time', 'Apple Second Fraction', 'Apple X', 'Apple Y', 'Apple Z', 'Apple Magnitude'], parse_dates=[[0,1]], date_parser=parser_apple).dropna()\n"
     ]
    },
    {
     "name": "stdout",
     "output_type": "stream",
     "text": [
      "(185393, 5)\n",
      "Processing Participant 2666 112/191\n",
      "No Apple Data for 2666\n",
      "Processing Participant 2667 113/191\n",
      "No Apple Data for 2667\n",
      "Processing Participant 2668 114/191\n",
      "No Apple Data for 2668\n",
      "Processing Participant 2669 115/191\n",
      "No Apple Data for 2669\n",
      "Processing Participant 2670 116/191\n",
      "No Apple Data for 2670\n",
      "Processing Participant 2671 117/191\n"
     ]
    },
    {
     "name": "stderr",
     "output_type": "stream",
     "text": [
      "C:\\Users\\sambit\\AppData\\Local\\Temp\\ipykernel_8856\\4022689757.py:7: FutureWarning: \n",
      "        Use pd.to_datetime instead.\n",
      "\n",
      "  apple_data = pd.read_csv(data_path, usecols=['Apple Time', 'Apple Second Fraction', 'Apple X', 'Apple Y', 'Apple Z', 'Apple Magnitude'], parse_dates=[[0,1]], date_parser=parser_apple).dropna()\n"
     ]
    },
    {
     "name": "stdout",
     "output_type": "stream",
     "text": [
      "(201377, 5)\n",
      "Processing Participant 2672 118/191\n",
      "No Apple Data for 2672\n",
      "Processing Participant 2673 119/191\n",
      "No Apple Data for 2673\n",
      "Processing Participant 2674 120/191\n",
      "No Apple Data for 2674\n",
      "Processing Participant 2675 121/191\n",
      "No Apple Data for 2675\n",
      "Processing Participant 2676 122/191\n"
     ]
    },
    {
     "name": "stderr",
     "output_type": "stream",
     "text": [
      "C:\\Users\\sambit\\AppData\\Local\\Temp\\ipykernel_8856\\4022689757.py:7: FutureWarning: \n",
      "        Use pd.to_datetime instead.\n",
      "\n",
      "  apple_data = pd.read_csv(data_path, usecols=['Apple Time', 'Apple Second Fraction', 'Apple X', 'Apple Y', 'Apple Z', 'Apple Magnitude'], parse_dates=[[0,1]], date_parser=parser_apple).dropna()\n"
     ]
    },
    {
     "name": "stdout",
     "output_type": "stream",
     "text": [
      "(181293, 5)\n",
      "Processing Participant 2679 123/191\n"
     ]
    },
    {
     "name": "stderr",
     "output_type": "stream",
     "text": [
      "C:\\Users\\sambit\\AppData\\Local\\Temp\\ipykernel_8856\\4022689757.py:7: FutureWarning: \n",
      "        Use pd.to_datetime instead.\n",
      "\n",
      "  apple_data = pd.read_csv(data_path, usecols=['Apple Time', 'Apple Second Fraction', 'Apple X', 'Apple Y', 'Apple Z', 'Apple Magnitude'], parse_dates=[[0,1]], date_parser=parser_apple).dropna()\n"
     ]
    },
    {
     "name": "stdout",
     "output_type": "stream",
     "text": [
      "(211544, 5)\n",
      "Processing Participant 2680 124/191\n",
      "No Apple Data for 2680\n",
      "Processing Participant 2681 125/191\n",
      "No Apple Data for 2681\n",
      "Processing Participant 2683 126/191\n",
      "No Apple Data for 2683\n",
      "Processing Participant 2684 127/191\n"
     ]
    },
    {
     "name": "stderr",
     "output_type": "stream",
     "text": [
      "C:\\Users\\sambit\\AppData\\Local\\Temp\\ipykernel_8856\\4022689757.py:7: FutureWarning: \n",
      "        Use pd.to_datetime instead.\n",
      "\n",
      "  apple_data = pd.read_csv(data_path, usecols=['Apple Time', 'Apple Second Fraction', 'Apple X', 'Apple Y', 'Apple Z', 'Apple Magnitude'], parse_dates=[[0,1]], date_parser=parser_apple).dropna()\n"
     ]
    },
    {
     "name": "stdout",
     "output_type": "stream",
     "text": [
      "(224912, 5)\n",
      "Processing Participant 2685 128/191\n"
     ]
    },
    {
     "name": "stderr",
     "output_type": "stream",
     "text": [
      "C:\\Users\\sambit\\AppData\\Local\\Temp\\ipykernel_8856\\4022689757.py:7: FutureWarning: \n",
      "        Use pd.to_datetime instead.\n",
      "\n",
      "  apple_data = pd.read_csv(data_path, usecols=['Apple Time', 'Apple Second Fraction', 'Apple X', 'Apple Y', 'Apple Z', 'Apple Magnitude'], parse_dates=[[0,1]], date_parser=parser_apple).dropna()\n"
     ]
    },
    {
     "name": "stdout",
     "output_type": "stream",
     "text": [
      "(205865, 5)\n",
      "Processing Participant 2686 129/191\n",
      "No Apple Data for 2686\n",
      "Processing Participant 2687 130/191\n",
      "No Apple Data for 2687\n",
      "Processing Participant 2688 131/191\n"
     ]
    },
    {
     "name": "stderr",
     "output_type": "stream",
     "text": [
      "C:\\Users\\sambit\\AppData\\Local\\Temp\\ipykernel_8856\\4022689757.py:7: FutureWarning: \n",
      "        Use pd.to_datetime instead.\n",
      "\n",
      "  apple_data = pd.read_csv(data_path, usecols=['Apple Time', 'Apple Second Fraction', 'Apple X', 'Apple Y', 'Apple Z', 'Apple Magnitude'], parse_dates=[[0,1]], date_parser=parser_apple).dropna()\n"
     ]
    },
    {
     "name": "stdout",
     "output_type": "stream",
     "text": [
      "(193267, 5)\n",
      "Processing Participant 2689 132/191\n",
      "No Apple Data for 2689\n",
      "Processing Participant 2690 133/191\n",
      "No Apple Data for 2690\n",
      "Processing Participant 2691 134/191\n",
      "No Apple Data for 2691\n",
      "Processing Participant 2692 135/191\n"
     ]
    },
    {
     "name": "stderr",
     "output_type": "stream",
     "text": [
      "C:\\Users\\sambit\\AppData\\Local\\Temp\\ipykernel_8856\\4022689757.py:7: FutureWarning: \n",
      "        Use pd.to_datetime instead.\n",
      "\n",
      "  apple_data = pd.read_csv(data_path, usecols=['Apple Time', 'Apple Second Fraction', 'Apple X', 'Apple Y', 'Apple Z', 'Apple Magnitude'], parse_dates=[[0,1]], date_parser=parser_apple).dropna()\n"
     ]
    },
    {
     "name": "stdout",
     "output_type": "stream",
     "text": [
      "(160453, 5)\n",
      "Processing Participant 2706 136/191\n"
     ]
    },
    {
     "name": "stderr",
     "output_type": "stream",
     "text": [
      "C:\\Users\\sambit\\AppData\\Local\\Temp\\ipykernel_8856\\4022689757.py:7: FutureWarning: \n",
      "        Use pd.to_datetime instead.\n",
      "\n",
      "  apple_data = pd.read_csv(data_path, usecols=['Apple Time', 'Apple Second Fraction', 'Apple X', 'Apple Y', 'Apple Z', 'Apple Magnitude'], parse_dates=[[0,1]], date_parser=parser_apple).dropna()\n"
     ]
    },
    {
     "name": "stdout",
     "output_type": "stream",
     "text": [
      "(187949, 5)\n",
      "Processing Participant 2709 137/191\n",
      "No Apple Data for 2709\n",
      "Processing Participant 2710 138/191\n"
     ]
    },
    {
     "name": "stderr",
     "output_type": "stream",
     "text": [
      "C:\\Users\\sambit\\AppData\\Local\\Temp\\ipykernel_8856\\4022689757.py:7: FutureWarning: \n",
      "        Use pd.to_datetime instead.\n",
      "\n",
      "  apple_data = pd.read_csv(data_path, usecols=['Apple Time', 'Apple Second Fraction', 'Apple X', 'Apple Y', 'Apple Z', 'Apple Magnitude'], parse_dates=[[0,1]], date_parser=parser_apple).dropna()\n"
     ]
    },
    {
     "name": "stdout",
     "output_type": "stream",
     "text": [
      "(244474, 5)\n",
      "Processing Participant 2711 139/191\n"
     ]
    },
    {
     "name": "stderr",
     "output_type": "stream",
     "text": [
      "C:\\Users\\sambit\\AppData\\Local\\Temp\\ipykernel_8856\\4022689757.py:7: FutureWarning: \n",
      "        Use pd.to_datetime instead.\n",
      "\n",
      "  apple_data = pd.read_csv(data_path, usecols=['Apple Time', 'Apple Second Fraction', 'Apple X', 'Apple Y', 'Apple Z', 'Apple Magnitude'], parse_dates=[[0,1]], date_parser=parser_apple).dropna()\n"
     ]
    },
    {
     "name": "stdout",
     "output_type": "stream",
     "text": [
      "(234977, 5)\n",
      "Processing Participant 2712 140/191\n",
      "No Apple Data for 2712\n",
      "Processing Participant 2753 141/191\n"
     ]
    },
    {
     "name": "stderr",
     "output_type": "stream",
     "text": [
      "C:\\Users\\sambit\\AppData\\Local\\Temp\\ipykernel_8856\\4022689757.py:7: FutureWarning: \n",
      "        Use pd.to_datetime instead.\n",
      "\n",
      "  apple_data = pd.read_csv(data_path, usecols=['Apple Time', 'Apple Second Fraction', 'Apple X', 'Apple Y', 'Apple Z', 'Apple Magnitude'], parse_dates=[[0,1]], date_parser=parser_apple).dropna()\n"
     ]
    },
    {
     "name": "stdout",
     "output_type": "stream",
     "text": [
      "(191448, 5)\n",
      "Processing Participant 2774 142/191\n"
     ]
    },
    {
     "name": "stderr",
     "output_type": "stream",
     "text": [
      "C:\\Users\\sambit\\AppData\\Local\\Temp\\ipykernel_8856\\4022689757.py:7: FutureWarning: \n",
      "        Use pd.to_datetime instead.\n",
      "\n",
      "  apple_data = pd.read_csv(data_path, usecols=['Apple Time', 'Apple Second Fraction', 'Apple X', 'Apple Y', 'Apple Z', 'Apple Magnitude'], parse_dates=[[0,1]], date_parser=parser_apple).dropna()\n"
     ]
    },
    {
     "name": "stdout",
     "output_type": "stream",
     "text": [
      "(193135, 5)\n",
      "Processing Participant 2775 143/191\n"
     ]
    },
    {
     "name": "stderr",
     "output_type": "stream",
     "text": [
      "C:\\Users\\sambit\\AppData\\Local\\Temp\\ipykernel_8856\\4022689757.py:7: FutureWarning: \n",
      "        Use pd.to_datetime instead.\n",
      "\n",
      "  apple_data = pd.read_csv(data_path, usecols=['Apple Time', 'Apple Second Fraction', 'Apple X', 'Apple Y', 'Apple Z', 'Apple Magnitude'], parse_dates=[[0,1]], date_parser=parser_apple).dropna()\n"
     ]
    },
    {
     "name": "stdout",
     "output_type": "stream",
     "text": [
      "(192922, 5)\n",
      "Processing Participant 2776 144/191\n"
     ]
    },
    {
     "name": "stderr",
     "output_type": "stream",
     "text": [
      "C:\\Users\\sambit\\AppData\\Local\\Temp\\ipykernel_8856\\4022689757.py:7: FutureWarning: \n",
      "        Use pd.to_datetime instead.\n",
      "\n",
      "  apple_data = pd.read_csv(data_path, usecols=['Apple Time', 'Apple Second Fraction', 'Apple X', 'Apple Y', 'Apple Z', 'Apple Magnitude'], parse_dates=[[0,1]], date_parser=parser_apple).dropna()\n"
     ]
    },
    {
     "name": "stdout",
     "output_type": "stream",
     "text": [
      "(193204, 5)\n",
      "Processing Participant 2778 145/191\n"
     ]
    },
    {
     "name": "stderr",
     "output_type": "stream",
     "text": [
      "C:\\Users\\sambit\\AppData\\Local\\Temp\\ipykernel_8856\\4022689757.py:7: FutureWarning: \n",
      "        Use pd.to_datetime instead.\n",
      "\n",
      "  apple_data = pd.read_csv(data_path, usecols=['Apple Time', 'Apple Second Fraction', 'Apple X', 'Apple Y', 'Apple Z', 'Apple Magnitude'], parse_dates=[[0,1]], date_parser=parser_apple).dropna()\n"
     ]
    },
    {
     "name": "stdout",
     "output_type": "stream",
     "text": [
      "(195915, 5)\n",
      "Processing Participant 2779 146/191\n"
     ]
    },
    {
     "name": "stderr",
     "output_type": "stream",
     "text": [
      "C:\\Users\\sambit\\AppData\\Local\\Temp\\ipykernel_8856\\4022689757.py:7: FutureWarning: \n",
      "        Use pd.to_datetime instead.\n",
      "\n",
      "  apple_data = pd.read_csv(data_path, usecols=['Apple Time', 'Apple Second Fraction', 'Apple X', 'Apple Y', 'Apple Z', 'Apple Magnitude'], parse_dates=[[0,1]], date_parser=parser_apple).dropna()\n"
     ]
    },
    {
     "name": "stdout",
     "output_type": "stream",
     "text": [
      "(246178, 5)\n",
      "Processing Participant 2780 147/191\n",
      "No Apple Data for 2780\n",
      "Processing Participant 2781 148/191\n",
      "No Apple Data for 2781\n",
      "Processing Participant 2782 149/191\n"
     ]
    },
    {
     "name": "stderr",
     "output_type": "stream",
     "text": [
      "C:\\Users\\sambit\\AppData\\Local\\Temp\\ipykernel_8856\\4022689757.py:7: FutureWarning: \n",
      "        Use pd.to_datetime instead.\n",
      "\n",
      "  apple_data = pd.read_csv(data_path, usecols=['Apple Time', 'Apple Second Fraction', 'Apple X', 'Apple Y', 'Apple Z', 'Apple Magnitude'], parse_dates=[[0,1]], date_parser=parser_apple).dropna()\n"
     ]
    },
    {
     "name": "stdout",
     "output_type": "stream",
     "text": [
      "(196891, 5)\n",
      "Processing Participant 2783 150/191\n"
     ]
    },
    {
     "name": "stderr",
     "output_type": "stream",
     "text": [
      "C:\\Users\\sambit\\AppData\\Local\\Temp\\ipykernel_8856\\4022689757.py:7: FutureWarning: \n",
      "        Use pd.to_datetime instead.\n",
      "\n",
      "  apple_data = pd.read_csv(data_path, usecols=['Apple Time', 'Apple Second Fraction', 'Apple X', 'Apple Y', 'Apple Z', 'Apple Magnitude'], parse_dates=[[0,1]], date_parser=parser_apple).dropna()\n"
     ]
    },
    {
     "name": "stdout",
     "output_type": "stream",
     "text": [
      "(194423, 5)\n",
      "Processing Participant 2788 151/191\n",
      "No Apple Data for 2788\n",
      "Processing Participant 2789 152/191\n",
      "No Apple Data for 2789\n",
      "Processing Participant 2790 153/191\n"
     ]
    },
    {
     "name": "stderr",
     "output_type": "stream",
     "text": [
      "C:\\Users\\sambit\\AppData\\Local\\Temp\\ipykernel_8856\\4022689757.py:7: FutureWarning: \n",
      "        Use pd.to_datetime instead.\n",
      "\n",
      "  apple_data = pd.read_csv(data_path, usecols=['Apple Time', 'Apple Second Fraction', 'Apple X', 'Apple Y', 'Apple Z', 'Apple Magnitude'], parse_dates=[[0,1]], date_parser=parser_apple).dropna()\n"
     ]
    },
    {
     "name": "stdout",
     "output_type": "stream",
     "text": [
      "(198413, 5)\n",
      "Processing Participant 2792 154/191\n",
      "No Apple Data for 2792\n",
      "Processing Participant 2793 155/191\n",
      "No Apple Data for 2793\n",
      "Processing Participant 2794 156/191\n"
     ]
    },
    {
     "name": "stderr",
     "output_type": "stream",
     "text": [
      "C:\\Users\\sambit\\AppData\\Local\\Temp\\ipykernel_8856\\4022689757.py:7: FutureWarning: \n",
      "        Use pd.to_datetime instead.\n",
      "\n",
      "  apple_data = pd.read_csv(data_path, usecols=['Apple Time', 'Apple Second Fraction', 'Apple X', 'Apple Y', 'Apple Z', 'Apple Magnitude'], parse_dates=[[0,1]], date_parser=parser_apple).dropna()\n"
     ]
    },
    {
     "name": "stdout",
     "output_type": "stream",
     "text": [
      "(224420, 5)\n",
      "Processing Participant 2795 157/191\n"
     ]
    },
    {
     "name": "stderr",
     "output_type": "stream",
     "text": [
      "C:\\Users\\sambit\\AppData\\Local\\Temp\\ipykernel_8856\\4022689757.py:7: FutureWarning: \n",
      "        Use pd.to_datetime instead.\n",
      "\n",
      "  apple_data = pd.read_csv(data_path, usecols=['Apple Time', 'Apple Second Fraction', 'Apple X', 'Apple Y', 'Apple Z', 'Apple Magnitude'], parse_dates=[[0,1]], date_parser=parser_apple).dropna()\n"
     ]
    },
    {
     "name": "stdout",
     "output_type": "stream",
     "text": [
      "(225938, 5)\n",
      "Processing Participant 2796 158/191\n"
     ]
    },
    {
     "name": "stderr",
     "output_type": "stream",
     "text": [
      "C:\\Users\\sambit\\AppData\\Local\\Temp\\ipykernel_8856\\4022689757.py:7: FutureWarning: \n",
      "        Use pd.to_datetime instead.\n",
      "\n",
      "  apple_data = pd.read_csv(data_path, usecols=['Apple Time', 'Apple Second Fraction', 'Apple X', 'Apple Y', 'Apple Z', 'Apple Magnitude'], parse_dates=[[0,1]], date_parser=parser_apple).dropna()\n"
     ]
    },
    {
     "name": "stdout",
     "output_type": "stream",
     "text": [
      "(211038, 5)\n",
      "Processing Participant 2797 159/191\n"
     ]
    },
    {
     "name": "stderr",
     "output_type": "stream",
     "text": [
      "C:\\Users\\sambit\\AppData\\Local\\Temp\\ipykernel_8856\\4022689757.py:7: FutureWarning: \n",
      "        Use pd.to_datetime instead.\n",
      "\n",
      "  apple_data = pd.read_csv(data_path, usecols=['Apple Time', 'Apple Second Fraction', 'Apple X', 'Apple Y', 'Apple Z', 'Apple Magnitude'], parse_dates=[[0,1]], date_parser=parser_apple).dropna()\n"
     ]
    },
    {
     "name": "stdout",
     "output_type": "stream",
     "text": [
      "(205866, 5)\n",
      "Processing Participant 2798 160/191\n"
     ]
    },
    {
     "name": "stderr",
     "output_type": "stream",
     "text": [
      "C:\\Users\\sambit\\AppData\\Local\\Temp\\ipykernel_8856\\4022689757.py:7: FutureWarning: \n",
      "        Use pd.to_datetime instead.\n",
      "\n",
      "  apple_data = pd.read_csv(data_path, usecols=['Apple Time', 'Apple Second Fraction', 'Apple X', 'Apple Y', 'Apple Z', 'Apple Magnitude'], parse_dates=[[0,1]], date_parser=parser_apple).dropna()\n"
     ]
    },
    {
     "name": "stdout",
     "output_type": "stream",
     "text": [
      "(205701, 5)\n",
      "Processing Participant 2801 161/191\n"
     ]
    },
    {
     "name": "stderr",
     "output_type": "stream",
     "text": [
      "C:\\Users\\sambit\\AppData\\Local\\Temp\\ipykernel_8856\\4022689757.py:7: FutureWarning: \n",
      "        Use pd.to_datetime instead.\n",
      "\n",
      "  apple_data = pd.read_csv(data_path, usecols=['Apple Time', 'Apple Second Fraction', 'Apple X', 'Apple Y', 'Apple Z', 'Apple Magnitude'], parse_dates=[[0,1]], date_parser=parser_apple).dropna()\n"
     ]
    },
    {
     "name": "stdout",
     "output_type": "stream",
     "text": [
      "(191761, 5)\n",
      "Processing Participant 2812 162/191\n"
     ]
    },
    {
     "name": "stderr",
     "output_type": "stream",
     "text": [
      "C:\\Users\\sambit\\AppData\\Local\\Temp\\ipykernel_8856\\4022689757.py:7: FutureWarning: \n",
      "        Use pd.to_datetime instead.\n",
      "\n",
      "  apple_data = pd.read_csv(data_path, usecols=['Apple Time', 'Apple Second Fraction', 'Apple X', 'Apple Y', 'Apple Z', 'Apple Magnitude'], parse_dates=[[0,1]], date_parser=parser_apple).dropna()\n"
     ]
    },
    {
     "name": "stdout",
     "output_type": "stream",
     "text": [
      "(206750, 5)\n",
      "Processing Participant 2813 163/191\n"
     ]
    },
    {
     "name": "stderr",
     "output_type": "stream",
     "text": [
      "C:\\Users\\sambit\\AppData\\Local\\Temp\\ipykernel_8856\\4022689757.py:7: FutureWarning: \n",
      "        Use pd.to_datetime instead.\n",
      "\n",
      "  apple_data = pd.read_csv(data_path, usecols=['Apple Time', 'Apple Second Fraction', 'Apple X', 'Apple Y', 'Apple Z', 'Apple Magnitude'], parse_dates=[[0,1]], date_parser=parser_apple).dropna()\n"
     ]
    },
    {
     "name": "stdout",
     "output_type": "stream",
     "text": [
      "(205350, 5)\n",
      "Processing Participant 2814 164/191\n"
     ]
    },
    {
     "name": "stderr",
     "output_type": "stream",
     "text": [
      "C:\\Users\\sambit\\AppData\\Local\\Temp\\ipykernel_8856\\4022689757.py:7: FutureWarning: \n",
      "        Use pd.to_datetime instead.\n",
      "\n",
      "  apple_data = pd.read_csv(data_path, usecols=['Apple Time', 'Apple Second Fraction', 'Apple X', 'Apple Y', 'Apple Z', 'Apple Magnitude'], parse_dates=[[0,1]], date_parser=parser_apple).dropna()\n"
     ]
    },
    {
     "name": "stdout",
     "output_type": "stream",
     "text": [
      "(187153, 5)\n",
      "Processing Participant 2815 165/191\n"
     ]
    },
    {
     "name": "stderr",
     "output_type": "stream",
     "text": [
      "C:\\Users\\sambit\\AppData\\Local\\Temp\\ipykernel_8856\\4022689757.py:7: FutureWarning: \n",
      "        Use pd.to_datetime instead.\n",
      "\n",
      "  apple_data = pd.read_csv(data_path, usecols=['Apple Time', 'Apple Second Fraction', 'Apple X', 'Apple Y', 'Apple Z', 'Apple Magnitude'], parse_dates=[[0,1]], date_parser=parser_apple).dropna()\n"
     ]
    },
    {
     "name": "stdout",
     "output_type": "stream",
     "text": [
      "(187358, 5)\n",
      "Processing Participant 2816 166/191\n",
      "No Apple Data for 2816\n",
      "Processing Participant 2817 167/191\n",
      "No Apple Data for 2817\n",
      "Processing Participant 2818 168/191\n",
      "No Apple Data for 2818\n",
      "Processing Participant 2819 169/191\n"
     ]
    },
    {
     "name": "stderr",
     "output_type": "stream",
     "text": [
      "C:\\Users\\sambit\\AppData\\Local\\Temp\\ipykernel_8856\\4022689757.py:7: FutureWarning: \n",
      "        Use pd.to_datetime instead.\n",
      "\n",
      "  apple_data = pd.read_csv(data_path, usecols=['Apple Time', 'Apple Second Fraction', 'Apple X', 'Apple Y', 'Apple Z', 'Apple Magnitude'], parse_dates=[[0,1]], date_parser=parser_apple).dropna()\n"
     ]
    },
    {
     "name": "stdout",
     "output_type": "stream",
     "text": [
      "(207099, 5)\n",
      "Processing Participant 2820 170/191\n"
     ]
    },
    {
     "name": "stderr",
     "output_type": "stream",
     "text": [
      "C:\\Users\\sambit\\AppData\\Local\\Temp\\ipykernel_8856\\4022689757.py:7: FutureWarning: \n",
      "        Use pd.to_datetime instead.\n",
      "\n",
      "  apple_data = pd.read_csv(data_path, usecols=['Apple Time', 'Apple Second Fraction', 'Apple X', 'Apple Y', 'Apple Z', 'Apple Magnitude'], parse_dates=[[0,1]], date_parser=parser_apple).dropna()\n"
     ]
    },
    {
     "name": "stdout",
     "output_type": "stream",
     "text": [
      "(207032, 5)\n",
      "Processing Participant 2821 171/191\n"
     ]
    },
    {
     "name": "stderr",
     "output_type": "stream",
     "text": [
      "C:\\Users\\sambit\\AppData\\Local\\Temp\\ipykernel_8856\\4022689757.py:7: FutureWarning: \n",
      "        Use pd.to_datetime instead.\n",
      "\n",
      "  apple_data = pd.read_csv(data_path, usecols=['Apple Time', 'Apple Second Fraction', 'Apple X', 'Apple Y', 'Apple Z', 'Apple Magnitude'], parse_dates=[[0,1]], date_parser=parser_apple).dropna()\n"
     ]
    },
    {
     "name": "stdout",
     "output_type": "stream",
     "text": [
      "(206034, 5)\n",
      "Processing Participant 2822 172/191\n"
     ]
    },
    {
     "name": "stderr",
     "output_type": "stream",
     "text": [
      "C:\\Users\\sambit\\AppData\\Local\\Temp\\ipykernel_8856\\4022689757.py:7: FutureWarning: \n",
      "        Use pd.to_datetime instead.\n",
      "\n",
      "  apple_data = pd.read_csv(data_path, usecols=['Apple Time', 'Apple Second Fraction', 'Apple X', 'Apple Y', 'Apple Z', 'Apple Magnitude'], parse_dates=[[0,1]], date_parser=parser_apple).dropna()\n"
     ]
    },
    {
     "name": "stdout",
     "output_type": "stream",
     "text": [
      "(239560, 5)\n",
      "Processing Participant 2823 173/191\n"
     ]
    },
    {
     "name": "stderr",
     "output_type": "stream",
     "text": [
      "C:\\Users\\sambit\\AppData\\Local\\Temp\\ipykernel_8856\\4022689757.py:7: FutureWarning: \n",
      "        Use pd.to_datetime instead.\n",
      "\n",
      "  apple_data = pd.read_csv(data_path, usecols=['Apple Time', 'Apple Second Fraction', 'Apple X', 'Apple Y', 'Apple Z', 'Apple Magnitude'], parse_dates=[[0,1]], date_parser=parser_apple).dropna()\n"
     ]
    },
    {
     "name": "stdout",
     "output_type": "stream",
     "text": [
      "(238195, 5)\n",
      "Processing Participant 2824 174/191\n",
      "No Apple Data for 2824\n",
      "Processing Participant 2987 175/191\n",
      "No Apple Data for 2987\n",
      "Processing Participant 2988 176/191\n"
     ]
    },
    {
     "name": "stderr",
     "output_type": "stream",
     "text": [
      "C:\\Users\\sambit\\AppData\\Local\\Temp\\ipykernel_8856\\4022689757.py:7: FutureWarning: \n",
      "        Use pd.to_datetime instead.\n",
      "\n",
      "  apple_data = pd.read_csv(data_path, usecols=['Apple Time', 'Apple Second Fraction', 'Apple X', 'Apple Y', 'Apple Z', 'Apple Magnitude'], parse_dates=[[0,1]], date_parser=parser_apple).dropna()\n"
     ]
    },
    {
     "name": "stdout",
     "output_type": "stream",
     "text": [
      "(184090, 5)\n",
      "Processing Participant 2989 177/191\n",
      "No Apple Data for 2989\n",
      "Processing Participant 2990 178/191\n"
     ]
    },
    {
     "name": "stderr",
     "output_type": "stream",
     "text": [
      "C:\\Users\\sambit\\AppData\\Local\\Temp\\ipykernel_8856\\4022689757.py:7: FutureWarning: \n",
      "        Use pd.to_datetime instead.\n",
      "\n",
      "  apple_data = pd.read_csv(data_path, usecols=['Apple Time', 'Apple Second Fraction', 'Apple X', 'Apple Y', 'Apple Z', 'Apple Magnitude'], parse_dates=[[0,1]], date_parser=parser_apple).dropna()\n"
     ]
    },
    {
     "name": "stdout",
     "output_type": "stream",
     "text": [
      "(198455, 5)\n",
      "Processing Participant 2991 179/191\n",
      "No Apple Data for 2991\n",
      "Processing Participant 2993 180/191\n"
     ]
    },
    {
     "name": "stderr",
     "output_type": "stream",
     "text": [
      "C:\\Users\\sambit\\AppData\\Local\\Temp\\ipykernel_8856\\4022689757.py:7: FutureWarning: \n",
      "        Use pd.to_datetime instead.\n",
      "\n",
      "  apple_data = pd.read_csv(data_path, usecols=['Apple Time', 'Apple Second Fraction', 'Apple X', 'Apple Y', 'Apple Z', 'Apple Magnitude'], parse_dates=[[0,1]], date_parser=parser_apple).dropna()\n"
     ]
    },
    {
     "name": "stdout",
     "output_type": "stream",
     "text": [
      "(167288, 5)\n",
      "Processing Participant 2995 181/191\n"
     ]
    },
    {
     "name": "stderr",
     "output_type": "stream",
     "text": [
      "C:\\Users\\sambit\\AppData\\Local\\Temp\\ipykernel_8856\\4022689757.py:7: FutureWarning: \n",
      "        Use pd.to_datetime instead.\n",
      "\n",
      "  apple_data = pd.read_csv(data_path, usecols=['Apple Time', 'Apple Second Fraction', 'Apple X', 'Apple Y', 'Apple Z', 'Apple Magnitude'], parse_dates=[[0,1]], date_parser=parser_apple).dropna()\n"
     ]
    },
    {
     "name": "stdout",
     "output_type": "stream",
     "text": [
      "(202413, 5)\n",
      "Processing Participant 2996 182/191\n",
      "No Apple Data for 2996\n",
      "Processing Participant 2999 183/191\n"
     ]
    },
    {
     "name": "stderr",
     "output_type": "stream",
     "text": [
      "C:\\Users\\sambit\\AppData\\Local\\Temp\\ipykernel_8856\\4022689757.py:7: FutureWarning: \n",
      "        Use pd.to_datetime instead.\n",
      "\n",
      "  apple_data = pd.read_csv(data_path, usecols=['Apple Time', 'Apple Second Fraction', 'Apple X', 'Apple Y', 'Apple Z', 'Apple Magnitude'], parse_dates=[[0,1]], date_parser=parser_apple).dropna()\n"
     ]
    },
    {
     "name": "stdout",
     "output_type": "stream",
     "text": [
      "(178117, 5)\n",
      "Processing Participant 3057 184/191\n"
     ]
    },
    {
     "name": "stderr",
     "output_type": "stream",
     "text": [
      "C:\\Users\\sambit\\AppData\\Local\\Temp\\ipykernel_8856\\4022689757.py:7: FutureWarning: \n",
      "        Use pd.to_datetime instead.\n",
      "\n",
      "  apple_data = pd.read_csv(data_path, usecols=['Apple Time', 'Apple Second Fraction', 'Apple X', 'Apple Y', 'Apple Z', 'Apple Magnitude'], parse_dates=[[0,1]], date_parser=parser_apple).dropna()\n"
     ]
    },
    {
     "name": "stdout",
     "output_type": "stream",
     "text": [
      "(204709, 5)\n",
      "Processing Participant 3058 185/191\n"
     ]
    },
    {
     "name": "stderr",
     "output_type": "stream",
     "text": [
      "C:\\Users\\sambit\\AppData\\Local\\Temp\\ipykernel_8856\\4022689757.py:7: FutureWarning: \n",
      "        Use pd.to_datetime instead.\n",
      "\n",
      "  apple_data = pd.read_csv(data_path, usecols=['Apple Time', 'Apple Second Fraction', 'Apple X', 'Apple Y', 'Apple Z', 'Apple Magnitude'], parse_dates=[[0,1]], date_parser=parser_apple).dropna()\n"
     ]
    },
    {
     "name": "stdout",
     "output_type": "stream",
     "text": [
      "(205262, 5)\n",
      "Processing Participant 3059 186/191\n"
     ]
    },
    {
     "name": "stderr",
     "output_type": "stream",
     "text": [
      "C:\\Users\\sambit\\AppData\\Local\\Temp\\ipykernel_8856\\4022689757.py:7: FutureWarning: \n",
      "        Use pd.to_datetime instead.\n",
      "\n",
      "  apple_data = pd.read_csv(data_path, usecols=['Apple Time', 'Apple Second Fraction', 'Apple X', 'Apple Y', 'Apple Z', 'Apple Magnitude'], parse_dates=[[0,1]], date_parser=parser_apple).dropna()\n"
     ]
    },
    {
     "name": "stdout",
     "output_type": "stream",
     "text": [
      "(172428, 5)\n",
      "Processing Participant 3060 187/191\n"
     ]
    },
    {
     "name": "stderr",
     "output_type": "stream",
     "text": [
      "C:\\Users\\sambit\\AppData\\Local\\Temp\\ipykernel_8856\\4022689757.py:7: FutureWarning: \n",
      "        Use pd.to_datetime instead.\n",
      "\n",
      "  apple_data = pd.read_csv(data_path, usecols=['Apple Time', 'Apple Second Fraction', 'Apple X', 'Apple Y', 'Apple Z', 'Apple Magnitude'], parse_dates=[[0,1]], date_parser=parser_apple).dropna()\n"
     ]
    },
    {
     "name": "stdout",
     "output_type": "stream",
     "text": [
      "(190515, 5)\n",
      "Processing Participant 3063 188/191\n",
      "No Apple Data for 3063\n",
      "Processing Participant 3160 189/191\n"
     ]
    },
    {
     "name": "stderr",
     "output_type": "stream",
     "text": [
      "C:\\Users\\sambit\\AppData\\Local\\Temp\\ipykernel_8856\\4022689757.py:7: FutureWarning: \n",
      "        Use pd.to_datetime instead.\n",
      "\n",
      "  apple_data = pd.read_csv(data_path, usecols=['Apple Time', 'Apple Second Fraction', 'Apple X', 'Apple Y', 'Apple Z', 'Apple Magnitude'], parse_dates=[[0,1]], date_parser=parser_apple).dropna()\n"
     ]
    },
    {
     "name": "stdout",
     "output_type": "stream",
     "text": [
      "(186912, 5)\n",
      "Processing Participant 3200 190/191\n",
      "No Apple Data for 3200\n",
      "Processing Participant 3201 191/191\n",
      "No Apple Data for 3201\n"
     ]
    }
   ],
   "source": [
    "pa_dir = \"V:/ACOI/R01 - W4K/3_PA protocol/1_Participants/\"\n",
    "out_dir = \"C:/Users/sambit/Desktop/Apple/30_seconds_Magnitude/\"\n",
    "\n",
    "participant_paths = glob(pa_dir + \"[0-9][0-9][0-9][0-9]/*aligned.csv\")\n",
    "total_participant = len(participant_paths)\n",
    "curr_participant = 1\n",
    "timewindow=30\n",
    "for participant in participant_paths:\n",
    "    participant_id = participant[len(pa_dir):len(pa_dir)+4]\n",
    "    print(f\"Processing Participant {participant_id} {curr_participant}/{total_participant}\")\n",
    "    # Read in data\n",
    "    apple_accel, start = read_apple(participant)\n",
    "    if apple_accel is not None:\n",
    "        # Define output path for metrics\n",
    "        out_path = out_dir + participant_id + \"_accel_metrics.csv\"\n",
    "        # Calculate Metrics and write to file\n",
    "        print(apple_accel.shape)\n",
    "        accel_metrics(apple_accel, start, out_path,timewindow)\n",
    "\n",
    "    else:\n",
    "        print(f\"No Apple Data for {participant_id}\")\n",
    "    \n",
    "    curr_participant += 1\n",
    "    \n"
   ]
  },
  {
   "cell_type": "markdown",
   "id": "3ceec761",
   "metadata": {},
   "source": [
    "## RUN BELOW TO CALCULATE GARMIN METRICS"
   ]
  },
  {
   "cell_type": "code",
   "execution_count": 12,
   "id": "7c16c0e8",
   "metadata": {},
   "outputs": [
    {
     "name": "stdout",
     "output_type": "stream",
     "text": [
      "Processing Participant 2584 75/195\n",
      "(94875, 5)\n",
      "Processing Participant 2588 76/195\n",
      "(108250, 5)\n",
      "Processing Participant 2589 77/195\n",
      "(107925, 5)\n",
      "Processing Participant 2596 78/195\n",
      "(97600, 5)\n",
      "Processing Participant 2601 79/195\n",
      "(116075, 5)\n",
      "Processing Participant 2604 80/195\n",
      "(100725, 5)\n",
      "Processing Participant 2605 81/195\n",
      "(102425, 5)\n",
      "Processing Participant 2608 82/195\n",
      "(96675, 5)\n",
      "Processing Participant 2611 83/195\n",
      "(118825, 5)\n",
      "Processing Participant 2612 84/195\n",
      "(110025, 5)\n",
      "Processing Participant 2613 85/195\n",
      "(112150, 5)\n",
      "Processing Participant 2628 86/195\n",
      "(107725, 5)\n",
      "Processing Participant 2629 87/195\n",
      "(104075, 5)\n",
      "Processing Participant 2630 88/195\n",
      "(40475, 5)\n",
      "Processing Participant 2631 89/195\n",
      "(109125, 5)\n",
      "Processing Participant 2635 90/195\n",
      "(106475, 5)\n",
      "Processing Participant 2637 91/195\n",
      "(94950, 5)\n",
      "Processing Participant 2639 92/195\n",
      "(124750, 5)\n",
      "Processing Participant 2640 93/195\n",
      "(113800, 5)\n",
      "Processing Participant 2641 94/195\n",
      "(96625, 5)\n",
      "Processing Participant 2642 95/195\n",
      "(89225, 5)\n",
      "Processing Participant 2643 96/195\n",
      "(103025, 5)\n",
      "Processing Participant 2644 97/195\n",
      "(104125, 5)\n",
      "Processing Participant 2645 98/195\n",
      "(108400, 5)\n",
      "Processing Participant 2646 99/195\n",
      "(113275, 5)\n",
      "Processing Participant 2647 100/195\n",
      "(108725, 5)\n",
      "Processing Participant 2648 101/195\n",
      "(102350, 5)\n",
      "Processing Participant 2649 102/195\n",
      "(102400, 5)\n",
      "Processing Participant 2650 103/195\n",
      "(116025, 5)\n",
      "Processing Participant 2651 104/195\n",
      "(108800, 5)\n",
      "Processing Participant 2653 105/195\n",
      "(88775, 5)\n",
      "Processing Participant 2657 106/195\n",
      "No Garmin Data for 2657\n",
      "Processing Participant 2661 107/195\n",
      "(85950, 5)\n",
      "Processing Participant 2662 108/195\n",
      "No Garmin Data for 2662\n",
      "Processing Participant 2663 109/195\n",
      "No Garmin Data for 2663\n",
      "Processing Participant 2664 110/195\n",
      "No Garmin Data for 2664\n",
      "Processing Participant 2665 111/195\n",
      "No Garmin Data for 2665\n",
      "Processing Participant 2666 112/195\n",
      "(95100, 5)\n",
      "Processing Participant 2667 113/195\n",
      "(95125, 5)\n",
      "Processing Participant 2668 114/195\n",
      "(105500, 5)\n",
      "Processing Participant 2669 115/195\n",
      "(105500, 5)\n",
      "Processing Participant 2670 116/195\n",
      "(95750, 5)\n",
      "Processing Participant 2671 117/195\n",
      "No Garmin Data for 2671\n",
      "Processing Participant 2672 118/195\n",
      "(115500, 5)\n",
      "Processing Participant 2673 119/195\n",
      "(106200, 5)\n",
      "Processing Participant 2674 120/195\n",
      "(106200, 5)\n",
      "Processing Participant 2675 121/195\n",
      "(105625, 5)\n",
      "Processing Participant 2676 122/195\n",
      "No Garmin Data for 2676\n",
      "Processing Participant 2679 123/195\n",
      "No Garmin Data for 2679\n",
      "Processing Participant 2680 124/195\n",
      "(93550, 5)\n",
      "Processing Participant 2681 125/195\n",
      "(87150, 5)\n",
      "Processing Participant 2683 126/195\n",
      "(94150, 5)\n",
      "Processing Participant 2684 127/195\n",
      "(112375, 5)\n",
      "Processing Participant 2685 128/195\n",
      "No Garmin Data for 2685\n",
      "Processing Participant 2686 129/195\n",
      "(119450, 5)\n",
      "Processing Participant 2687 130/195\n",
      "(126625, 5)\n",
      "Processing Participant 2688 131/195\n",
      "No Garmin Data for 2688\n",
      "Processing Participant 2689 132/195\n",
      "(97450, 5)\n",
      "Processing Participant 2690 133/195\n",
      "(100400, 5)\n",
      "Processing Participant 2691 134/195\n",
      "(113475, 5)\n",
      "Processing Participant 2692 135/195\n",
      "No Garmin Data for 2692\n",
      "Processing Participant 2706 136/195\n",
      "No Garmin Data for 2706\n",
      "Processing Participant 2709 137/195\n",
      "(93250, 5)\n",
      "Processing Participant 2710 138/195\n",
      "No Garmin Data for 2710\n",
      "Processing Participant 2711 139/195\n",
      "No Garmin Data for 2711\n",
      "Processing Participant 2712 140/195\n",
      "(119525, 5)\n",
      "Processing Participant 2753 141/195\n",
      "No Garmin Data for 2753\n",
      "Processing Participant 2774 142/195\n",
      "No Garmin Data for 2774\n",
      "Processing Participant 2775 143/195\n",
      "No Garmin Data for 2775\n",
      "Processing Participant 2776 144/195\n",
      "No Garmin Data for 2776\n",
      "Processing Participant 2778 145/195\n",
      "No Garmin Data for 2778\n",
      "Processing Participant 2779 146/195\n",
      "No Garmin Data for 2779\n",
      "Processing Participant 2780 147/195\n",
      "(106075, 5)\n",
      "Processing Participant 2781 148/195\n",
      "(106325, 5)\n",
      "Processing Participant 2782 149/195\n",
      "No Garmin Data for 2782\n",
      "Processing Participant 2783 150/195\n",
      "No Garmin Data for 2783\n",
      "Processing Participant 2788 151/195\n",
      "(91575, 5)\n",
      "Processing Participant 2789 152/195\n",
      "(91575, 5)\n",
      "Processing Participant 2790 153/195\n",
      "No Garmin Data for 2790\n",
      "Processing Participant 2792 154/195\n",
      "(92200, 5)\n",
      "Processing Participant 2793 155/195\n",
      "(92200, 5)\n",
      "Processing Participant 2794 156/195\n",
      "No Garmin Data for 2794\n",
      "Processing Participant 2795 157/195\n",
      "No Garmin Data for 2795\n",
      "Processing Participant 2796 158/195\n",
      "No Garmin Data for 2796\n",
      "Processing Participant 2797 159/195\n",
      "No Garmin Data for 2797\n",
      "Processing Participant 2798 160/195\n",
      "No Garmin Data for 2798\n",
      "Processing Participant 2801 161/195\n",
      "No Garmin Data for 2801\n",
      "Processing Participant 2812 162/195\n",
      "No Garmin Data for 2812\n",
      "Processing Participant 2813 163/195\n",
      "No Garmin Data for 2813\n",
      "Processing Participant 2814 164/195\n",
      "No Garmin Data for 2814\n",
      "Processing Participant 2815 165/195\n",
      "No Garmin Data for 2815\n",
      "Processing Participant 2816 166/195\n",
      "No Garmin Data for 2816\n",
      "Processing Participant 2817 167/195\n",
      "(93575, 5)\n",
      "Processing Participant 2818 168/195\n",
      "(105775, 5)\n",
      "Processing Participant 2819 169/195\n",
      "No Garmin Data for 2819\n",
      "Processing Participant 2820 170/195\n",
      "No Garmin Data for 2820\n",
      "Processing Participant 2821 171/195\n",
      "No Garmin Data for 2821\n",
      "Processing Participant 2822 172/195\n",
      "No Garmin Data for 2822\n",
      "Processing Participant 2823 173/195\n",
      "No Garmin Data for 2823\n",
      "Processing Participant 2824 174/195\n",
      "(117250, 5)\n",
      "Processing Participant 2987 175/195\n",
      "(95450, 5)\n",
      "Processing Participant 2988 176/195\n",
      "No Garmin Data for 2988\n",
      "Processing Participant 2989 177/195\n",
      "No Garmin Data for 2989\n",
      "Processing Participant 2990 178/195\n",
      "No Garmin Data for 2990\n",
      "Processing Participant 2991 179/195\n",
      "(99625, 5)\n",
      "Processing Participant 2993 180/195\n",
      "No Garmin Data for 2993\n",
      "Processing Participant 2995 181/195\n",
      "No Garmin Data for 2995\n",
      "Processing Participant 2996 182/195\n",
      "No Garmin Data for 2996\n",
      "Processing Participant 2999 183/195\n",
      "No Garmin Data for 2999\n",
      "Processing Participant 3057 184/195\n",
      "No Garmin Data for 3057\n",
      "Processing Participant 3058 185/195\n",
      "No Garmin Data for 3058\n",
      "Processing Participant 3059 186/195\n",
      "No Garmin Data for 3059\n",
      "Processing Participant 3060 187/195\n",
      "No Garmin Data for 3060\n",
      "Processing Participant 3063 188/195\n",
      "(86100, 5)\n",
      "Processing Participant 3160 189/195\n",
      "No Garmin Data for 3160\n",
      "Processing Participant 3200 190/195\n",
      "No Garmin Data for 3200\n",
      "Processing Participant 3201 191/195\n",
      "(98000, 5)\n",
      "Processing Participant 3202 192/195\n",
      "No Garmin Data for 3202\n",
      "Processing Participant 3298 193/195\n",
      "(107425, 5)\n",
      "Processing Participant 3299 194/195\n",
      "(107300, 5)\n",
      "Processing Participant 3301 195/195\n",
      "No Garmin Data for 3301\n"
     ]
    }
   ],
   "source": [
    "pa_dir = \"V:/ACOI/R01 - W4K/3_PA protocol/1_Participants/\"\n",
    "out_dir = \"C:/Users/sambit/Desktop/Garmin/30_seconds_Magnitude/\"\n",
    "\n",
    "participant_paths = glob(pa_dir + \"[0-9][0-9][0-9][0-9]/*aligned.csv\")\n",
    "total_participant = len(participant_paths)\n",
    "curr_participant = 1\n",
    "timewindow=30\n",
    "for participant in participant_paths:\n",
    "    participant_id = participant[len(pa_dir):len(pa_dir)+4]\n",
    "    if(int(participant_id)>2576):\n",
    "        try:\n",
    "            print(f\"Processing Participant {participant_id} {curr_participant}/{total_participant}\")\n",
    "            # Read in data\n",
    "            garmin_accel, start = read_garmin(participant)\n",
    "            if garmin_accel is not None:\n",
    "                # Define output path for metrics\n",
    "                out_path = out_dir + participant_id + \"_accel_metrics.csv\"\n",
    "                # Calculate Metrics and write to file\n",
    "                print(garmin_accel.shape)\n",
    "                accel_metrics(garmin_accel, start, out_path,timewindow)\n",
    "\n",
    "            else:\n",
    "                print(f\"No Garmin Data for {participant_id}\")\n",
    "        except Exception as inst:\n",
    "                print(inst)\n",
    "    \n",
    "    curr_participant += 1"
   ]
  },
  {
   "cell_type": "markdown",
   "id": "ea430f10",
   "metadata": {},
   "source": [
    "## RUN BELOW TO CALCULATE FITBIT METRICS"
   ]
  },
  {
   "cell_type": "code",
   "execution_count": 8,
   "id": "c74a7d6a",
   "metadata": {},
   "outputs": [
    {
     "name": "stdout",
     "output_type": "stream",
     "text": [
      "Processing Participant 0695 1/1\n"
     ]
    },
    {
     "name": "stderr",
     "output_type": "stream",
     "text": [
      "C:\\Users\\sambit\\AppData\\Local\\Temp\\ipykernel_17816\\2210933653.py:7: FutureWarning: \n",
      "        Use pd.to_datetime instead.\n",
      "\n",
      "  fitbit_data = pd.read_csv(data_path, usecols=['Fitbit Time', 'Fitbit Second Fraction', 'Fitbit X', 'Fitbit Y', 'Fitbit Z', 'Fitbit Magnitude'], parse_dates=[[0,1]], date_parser=parser_apple).dropna()\n"
     ]
    },
    {
     "name": "stdout",
     "output_type": "stream",
     "text": [
      "(177747, 5)\n"
     ]
    }
   ],
   "source": [
    "pa_dir = \"V:/ACOI/R01 - W4K/3_PA protocol/1_Participants/\"\n",
    "out_dir = \"C:/Users/sambit/Desktop/Fitbit/20_seconds_Magnitude/\"\n",
    "\n",
    "participant_paths = glob(pa_dir + \"[0-9][0-9][0-9][0-9][0-9][0-9][0-9][0-9]/*aligned.csv\")\n",
    "total_participant = len(participant_paths)\n",
    "curr_participant = 1\n",
    "timewindow=20\n",
    "for participant in participant_paths:\n",
    "    participant_id = participant[len(pa_dir):len(pa_dir)+4]\n",
    "    print(f\"Processing Participant {participant_id} {curr_participant}/{total_participant}\")\n",
    "    # Read in data\n",
    "    fitbit_accel, start = read_fitbit(participant)\n",
    "    if fitbit_accel is not None:\n",
    "        # Define output path for metrics\n",
    "        out_path = out_dir + participant_id + \"_accel_metrics.csv\"\n",
    "        # Calculate Metrics and write to file\n",
    "        print(fitbit_accel.shape)\n",
    "        accel_metrics(fitbit_accel, start, out_path,timewindow)\n",
    "\n",
    "    else:\n",
    "        print(f\"No Fitbit Data for {participant_id}\")\n",
    "    \n",
    "    curr_participant += 1"
   ]
  },
  {
   "cell_type": "markdown",
   "id": "6db1ef2c",
   "metadata": {},
   "source": [
    "### RUN BELOW TO CALCULATE ACTIHEART METRICS"
   ]
  },
  {
   "cell_type": "code",
   "execution_count": 30,
   "id": "089dfc6e",
   "metadata": {},
   "outputs": [
    {
     "name": "stdout",
     "output_type": "stream",
     "text": [
      "Processing Participant 2824 1/7\n",
      "(199820, 6)\n",
      "Processing Participant 2987 2/7\n",
      "Processing Participant 2988 3/7\n",
      "Processing Participant 2989 4/7\n",
      "Processing Participant 2995 5/7\n",
      "Processing Participant 2996 6/7\n",
      "Processing Participant 2999 7/7\n"
     ]
    }
   ],
   "source": [
    "pa_dir = \"V:/ACOI/R01 - W4K/3_PA protocol/1_Participants/\"\n",
    "out_dir = \"C:/Users/sambit/Desktop/Actiheart/\"\n",
    "\n",
    "participant_paths = glob(pa_dir + \"[0-9][0-9][0-9][0-9]/*aligned.csv\")\n",
    "total_participant = len(participant_paths)\n",
    "curr_participant = 1\n",
    "\n",
    "for participant in participant_paths:\n",
    "    participant_id = participant[len(pa_dir):len(pa_dir)+4]\n",
    "    print(f\"Processing Participant {participant_id} {curr_participant}/{total_participant}\")\n",
    "    # Read in data\n",
    "    try:\n",
    "        actiheart_accel, start = read_actiheart(participant)\n",
    "        if actiheart_accel is not None:\n",
    "            # Define output path for metrics\n",
    "            out_path = out_dir + participant_id + \"_accel_metrics.csv\"\n",
    "            # Calculate Metrics and write to file\n",
    "            print(actiheart_accel.shape)\n",
    "            accel_metrics(actiheart_accel, start, out_path)\n",
    "\n",
    "        else:\n",
    "            print(f\"No Actiheart Data for {participant_id}\")\n",
    "    except:pass\n",
    "    \n",
    "    curr_participant += 1"
   ]
  },
  {
   "cell_type": "markdown",
   "id": "b4c6f8d7",
   "metadata": {},
   "source": [
    "### RUN BELOW TO CALCULATE ACTIGRAPH METRICS"
   ]
  },
  {
   "cell_type": "code",
   "execution_count": 12,
   "id": "956d1dab",
   "metadata": {},
   "outputs": [
    {
     "name": "stdout",
     "output_type": "stream",
     "text": [
      "Processing Participant 0118 1/191\n"
     ]
    },
    {
     "name": "stderr",
     "output_type": "stream",
     "text": [
      "C:\\Users\\sambit\\AppData\\Local\\Temp\\ipykernel_8812\\2134189346.py:7: FutureWarning: \n",
      "        Use pd.to_datetime instead.\n",
      "\n",
      "  actigraph_data = pd.read_csv(data_path, usecols=['Actigraph Time', 'Actigraph Second Fraction', 'Actigraph X', 'Actigraph Y', 'Actigraph Z', 'Actigraph Magnitude'], parse_dates=[[0,1]], date_parser=parser_apple).dropna()\n"
     ]
    },
    {
     "name": "stdout",
     "output_type": "stream",
     "text": [
      "(422000, 5)\n"
     ]
    },
    {
     "name": "stderr",
     "output_type": "stream",
     "text": [
      "C:\\Users\\sambit\\AppData\\Local\\Temp\\ipykernel_8812\\2264439755.py:64: RuntimeWarning: Precision loss occurred in moment calculation due to catastrophic cancellation. This occurs when the data are nearly identical. Results may be unreliable.\n",
      "  output[output_iter, 13] = moment(mag_win, 3)\n",
      "C:\\Users\\sambit\\AppData\\Local\\Temp\\ipykernel_8812\\2264439755.py:66: RuntimeWarning: Precision loss occurred in moment calculation due to catastrophic cancellation. This occurs when the data are nearly identical. Results may be unreliable.\n",
      "  output[output_iter, 14] = moment(mag_win, 4)\n",
      "C:\\Users\\sambit\\AppData\\Local\\Temp\\ipykernel_8812\\2264439755.py:68: RuntimeWarning: Precision loss occurred in moment calculation due to catastrophic cancellation. This occurs when the data are nearly identical. Results may be unreliable.\n",
      "  output[output_iter, 15] = skew(mag_win)\n",
      "C:\\Users\\sambit\\AppData\\Local\\Temp\\ipykernel_8812\\2264439755.py:70: RuntimeWarning: Precision loss occurred in moment calculation due to catastrophic cancellation. This occurs when the data are nearly identical. Results may be unreliable.\n",
      "  output[output_iter, 16] = kurtosis(mag_win)\n",
      "C:\\Users\\sambit\\AppData\\Local\\anaconda3\\lib\\site-packages\\statsmodels\\tsa\\stattools.py:681: RuntimeWarning: invalid value encountered in divide\n",
      "  acf = avf[: nlags + 1] / avf[0]\n"
     ]
    },
    {
     "name": "stdout",
     "output_type": "stream",
     "text": [
      "Processing Participant 0231 2/191\n"
     ]
    },
    {
     "name": "stderr",
     "output_type": "stream",
     "text": [
      "C:\\Users\\sambit\\AppData\\Local\\Temp\\ipykernel_8812\\2134189346.py:7: FutureWarning: \n",
      "        Use pd.to_datetime instead.\n",
      "\n",
      "  actigraph_data = pd.read_csv(data_path, usecols=['Actigraph Time', 'Actigraph Second Fraction', 'Actigraph X', 'Actigraph Y', 'Actigraph Z', 'Actigraph Magnitude'], parse_dates=[[0,1]], date_parser=parser_apple).dropna()\n"
     ]
    },
    {
     "name": "stdout",
     "output_type": "stream",
     "text": [
      "(378400, 5)\n",
      "Processing Participant 0444 3/191\n"
     ]
    },
    {
     "name": "stderr",
     "output_type": "stream",
     "text": [
      "C:\\Users\\sambit\\AppData\\Local\\Temp\\ipykernel_8812\\2134189346.py:7: FutureWarning: \n",
      "        Use pd.to_datetime instead.\n",
      "\n",
      "  actigraph_data = pd.read_csv(data_path, usecols=['Actigraph Time', 'Actigraph Second Fraction', 'Actigraph X', 'Actigraph Y', 'Actigraph Z', 'Actigraph Magnitude'], parse_dates=[[0,1]], date_parser=parser_apple).dropna()\n"
     ]
    },
    {
     "name": "stdout",
     "output_type": "stream",
     "text": [
      "(403600, 5)\n",
      "Processing Participant 0601 4/191\n"
     ]
    },
    {
     "name": "stderr",
     "output_type": "stream",
     "text": [
      "C:\\Users\\sambit\\AppData\\Local\\Temp\\ipykernel_8812\\2134189346.py:7: FutureWarning: \n",
      "        Use pd.to_datetime instead.\n",
      "\n",
      "  actigraph_data = pd.read_csv(data_path, usecols=['Actigraph Time', 'Actigraph Second Fraction', 'Actigraph X', 'Actigraph Y', 'Actigraph Z', 'Actigraph Magnitude'], parse_dates=[[0,1]], date_parser=parser_apple).dropna()\n"
     ]
    },
    {
     "name": "stdout",
     "output_type": "stream",
     "text": [
      "(431600, 5)\n",
      "Processing Participant 0618 5/191\n"
     ]
    },
    {
     "name": "stderr",
     "output_type": "stream",
     "text": [
      "C:\\Users\\sambit\\AppData\\Local\\Temp\\ipykernel_8812\\2134189346.py:7: FutureWarning: \n",
      "        Use pd.to_datetime instead.\n",
      "\n",
      "  actigraph_data = pd.read_csv(data_path, usecols=['Actigraph Time', 'Actigraph Second Fraction', 'Actigraph X', 'Actigraph Y', 'Actigraph Z', 'Actigraph Magnitude'], parse_dates=[[0,1]], date_parser=parser_apple).dropna()\n"
     ]
    },
    {
     "name": "stdout",
     "output_type": "stream",
     "text": [
      "(365700, 5)\n",
      "Processing Participant 0632 6/191\n"
     ]
    },
    {
     "name": "stderr",
     "output_type": "stream",
     "text": [
      "C:\\Users\\sambit\\AppData\\Local\\Temp\\ipykernel_8812\\2134189346.py:7: FutureWarning: \n",
      "        Use pd.to_datetime instead.\n",
      "\n",
      "  actigraph_data = pd.read_csv(data_path, usecols=['Actigraph Time', 'Actigraph Second Fraction', 'Actigraph X', 'Actigraph Y', 'Actigraph Z', 'Actigraph Magnitude'], parse_dates=[[0,1]], date_parser=parser_apple).dropna()\n"
     ]
    },
    {
     "name": "stdout",
     "output_type": "stream",
     "text": [
      "(392900, 5)\n",
      "Processing Participant 0695 7/191\n"
     ]
    },
    {
     "name": "stderr",
     "output_type": "stream",
     "text": [
      "C:\\Users\\sambit\\AppData\\Local\\Temp\\ipykernel_8812\\2134189346.py:7: FutureWarning: \n",
      "        Use pd.to_datetime instead.\n",
      "\n",
      "  actigraph_data = pd.read_csv(data_path, usecols=['Actigraph Time', 'Actigraph Second Fraction', 'Actigraph X', 'Actigraph Y', 'Actigraph Z', 'Actigraph Magnitude'], parse_dates=[[0,1]], date_parser=parser_apple).dropna()\n"
     ]
    },
    {
     "name": "stdout",
     "output_type": "stream",
     "text": [
      "(358300, 5)\n",
      "Processing Participant 0819 8/191\n"
     ]
    },
    {
     "name": "stderr",
     "output_type": "stream",
     "text": [
      "C:\\Users\\sambit\\AppData\\Local\\Temp\\ipykernel_8812\\2134189346.py:7: FutureWarning: \n",
      "        Use pd.to_datetime instead.\n",
      "\n",
      "  actigraph_data = pd.read_csv(data_path, usecols=['Actigraph Time', 'Actigraph Second Fraction', 'Actigraph X', 'Actigraph Y', 'Actigraph Z', 'Actigraph Magnitude'], parse_dates=[[0,1]], date_parser=parser_apple).dropna()\n"
     ]
    },
    {
     "name": "stdout",
     "output_type": "stream",
     "text": [
      "(454700, 5)\n",
      "Processing Participant 0967 9/191\n"
     ]
    },
    {
     "name": "stderr",
     "output_type": "stream",
     "text": [
      "C:\\Users\\sambit\\AppData\\Local\\Temp\\ipykernel_8812\\2134189346.py:7: FutureWarning: \n",
      "        Use pd.to_datetime instead.\n",
      "\n",
      "  actigraph_data = pd.read_csv(data_path, usecols=['Actigraph Time', 'Actigraph Second Fraction', 'Actigraph X', 'Actigraph Y', 'Actigraph Z', 'Actigraph Magnitude'], parse_dates=[[0,1]], date_parser=parser_apple).dropna()\n"
     ]
    },
    {
     "name": "stdout",
     "output_type": "stream",
     "text": [
      "(369101, 5)\n",
      "Processing Participant 1333 10/191\n"
     ]
    },
    {
     "name": "stderr",
     "output_type": "stream",
     "text": [
      "C:\\Users\\sambit\\AppData\\Local\\Temp\\ipykernel_8812\\2134189346.py:7: FutureWarning: \n",
      "        Use pd.to_datetime instead.\n",
      "\n",
      "  actigraph_data = pd.read_csv(data_path, usecols=['Actigraph Time', 'Actigraph Second Fraction', 'Actigraph X', 'Actigraph Y', 'Actigraph Z', 'Actigraph Magnitude'], parse_dates=[[0,1]], date_parser=parser_apple).dropna()\n"
     ]
    },
    {
     "name": "stdout",
     "output_type": "stream",
     "text": [
      "(398500, 5)\n",
      "Processing Participant 1760 11/191\n"
     ]
    },
    {
     "name": "stderr",
     "output_type": "stream",
     "text": [
      "C:\\Users\\sambit\\AppData\\Local\\Temp\\ipykernel_8812\\2134189346.py:7: FutureWarning: \n",
      "        Use pd.to_datetime instead.\n",
      "\n",
      "  actigraph_data = pd.read_csv(data_path, usecols=['Actigraph Time', 'Actigraph Second Fraction', 'Actigraph X', 'Actigraph Y', 'Actigraph Z', 'Actigraph Magnitude'], parse_dates=[[0,1]], date_parser=parser_apple).dropna()\n"
     ]
    },
    {
     "name": "stdout",
     "output_type": "stream",
     "text": [
      "(407100, 5)\n",
      "Processing Participant 1772 12/191\n"
     ]
    },
    {
     "name": "stderr",
     "output_type": "stream",
     "text": [
      "C:\\Users\\sambit\\AppData\\Local\\Temp\\ipykernel_8812\\2134189346.py:7: FutureWarning: \n",
      "        Use pd.to_datetime instead.\n",
      "\n",
      "  actigraph_data = pd.read_csv(data_path, usecols=['Actigraph Time', 'Actigraph Second Fraction', 'Actigraph X', 'Actigraph Y', 'Actigraph Z', 'Actigraph Magnitude'], parse_dates=[[0,1]], date_parser=parser_apple).dropna()\n"
     ]
    },
    {
     "name": "stdout",
     "output_type": "stream",
     "text": [
      "(429800, 5)\n",
      "Processing Participant 1779 13/191\n"
     ]
    },
    {
     "name": "stderr",
     "output_type": "stream",
     "text": [
      "C:\\Users\\sambit\\AppData\\Local\\Temp\\ipykernel_8812\\2134189346.py:7: FutureWarning: \n",
      "        Use pd.to_datetime instead.\n",
      "\n",
      "  actigraph_data = pd.read_csv(data_path, usecols=['Actigraph Time', 'Actigraph Second Fraction', 'Actigraph X', 'Actigraph Y', 'Actigraph Z', 'Actigraph Magnitude'], parse_dates=[[0,1]], date_parser=parser_apple).dropna()\n"
     ]
    },
    {
     "name": "stdout",
     "output_type": "stream",
     "text": [
      "(389600, 5)\n",
      "Processing Participant 1799 14/191\n"
     ]
    },
    {
     "name": "stderr",
     "output_type": "stream",
     "text": [
      "C:\\Users\\sambit\\AppData\\Local\\Temp\\ipykernel_8812\\2134189346.py:7: FutureWarning: \n",
      "        Use pd.to_datetime instead.\n",
      "\n",
      "  actigraph_data = pd.read_csv(data_path, usecols=['Actigraph Time', 'Actigraph Second Fraction', 'Actigraph X', 'Actigraph Y', 'Actigraph Z', 'Actigraph Magnitude'], parse_dates=[[0,1]], date_parser=parser_apple).dropna()\n"
     ]
    },
    {
     "name": "stdout",
     "output_type": "stream",
     "text": [
      "(390900, 5)\n",
      "Processing Participant 1854 15/191\n"
     ]
    },
    {
     "name": "stderr",
     "output_type": "stream",
     "text": [
      "C:\\Users\\sambit\\AppData\\Local\\Temp\\ipykernel_8812\\2134189346.py:7: FutureWarning: \n",
      "        Use pd.to_datetime instead.\n",
      "\n",
      "  actigraph_data = pd.read_csv(data_path, usecols=['Actigraph Time', 'Actigraph Second Fraction', 'Actigraph X', 'Actigraph Y', 'Actigraph Z', 'Actigraph Magnitude'], parse_dates=[[0,1]], date_parser=parser_apple).dropna()\n"
     ]
    },
    {
     "name": "stdout",
     "output_type": "stream",
     "text": [
      "(372200, 5)\n"
     ]
    },
    {
     "name": "stderr",
     "output_type": "stream",
     "text": [
      "C:\\Users\\sambit\\AppData\\Local\\Temp\\ipykernel_8812\\2264439755.py:64: RuntimeWarning: Precision loss occurred in moment calculation due to catastrophic cancellation. This occurs when the data are nearly identical. Results may be unreliable.\n",
      "  output[output_iter, 13] = moment(mag_win, 3)\n",
      "C:\\Users\\sambit\\AppData\\Local\\Temp\\ipykernel_8812\\2264439755.py:66: RuntimeWarning: Precision loss occurred in moment calculation due to catastrophic cancellation. This occurs when the data are nearly identical. Results may be unreliable.\n",
      "  output[output_iter, 14] = moment(mag_win, 4)\n",
      "C:\\Users\\sambit\\AppData\\Local\\Temp\\ipykernel_8812\\2264439755.py:68: RuntimeWarning: Precision loss occurred in moment calculation due to catastrophic cancellation. This occurs when the data are nearly identical. Results may be unreliable.\n",
      "  output[output_iter, 15] = skew(mag_win)\n",
      "C:\\Users\\sambit\\AppData\\Local\\Temp\\ipykernel_8812\\2264439755.py:70: RuntimeWarning: Precision loss occurred in moment calculation due to catastrophic cancellation. This occurs when the data are nearly identical. Results may be unreliable.\n",
      "  output[output_iter, 16] = kurtosis(mag_win)\n",
      "C:\\Users\\sambit\\AppData\\Local\\anaconda3\\lib\\site-packages\\statsmodels\\tsa\\stattools.py:681: RuntimeWarning: invalid value encountered in divide\n",
      "  acf = avf[: nlags + 1] / avf[0]\n"
     ]
    },
    {
     "name": "stdout",
     "output_type": "stream",
     "text": [
      "Processing Participant 1974 16/191\n"
     ]
    },
    {
     "name": "stderr",
     "output_type": "stream",
     "text": [
      "C:\\Users\\sambit\\AppData\\Local\\Temp\\ipykernel_8812\\2134189346.py:7: FutureWarning: \n",
      "        Use pd.to_datetime instead.\n",
      "\n",
      "  actigraph_data = pd.read_csv(data_path, usecols=['Actigraph Time', 'Actigraph Second Fraction', 'Actigraph X', 'Actigraph Y', 'Actigraph Z', 'Actigraph Magnitude'], parse_dates=[[0,1]], date_parser=parser_apple).dropna()\n"
     ]
    },
    {
     "name": "stdout",
     "output_type": "stream",
     "text": [
      "(422100, 5)\n",
      "Processing Participant 1991 17/191\n"
     ]
    },
    {
     "name": "stderr",
     "output_type": "stream",
     "text": [
      "C:\\Users\\sambit\\AppData\\Local\\Temp\\ipykernel_8812\\2134189346.py:7: FutureWarning: \n",
      "        Use pd.to_datetime instead.\n",
      "\n",
      "  actigraph_data = pd.read_csv(data_path, usecols=['Actigraph Time', 'Actigraph Second Fraction', 'Actigraph X', 'Actigraph Y', 'Actigraph Z', 'Actigraph Magnitude'], parse_dates=[[0,1]], date_parser=parser_apple).dropna()\n"
     ]
    },
    {
     "name": "stdout",
     "output_type": "stream",
     "text": [
      "(706300, 5)\n"
     ]
    },
    {
     "name": "stderr",
     "output_type": "stream",
     "text": [
      "C:\\Users\\sambit\\AppData\\Local\\Temp\\ipykernel_8812\\2264439755.py:64: RuntimeWarning: Precision loss occurred in moment calculation due to catastrophic cancellation. This occurs when the data are nearly identical. Results may be unreliable.\n",
      "  output[output_iter, 13] = moment(mag_win, 3)\n",
      "C:\\Users\\sambit\\AppData\\Local\\Temp\\ipykernel_8812\\2264439755.py:66: RuntimeWarning: Precision loss occurred in moment calculation due to catastrophic cancellation. This occurs when the data are nearly identical. Results may be unreliable.\n",
      "  output[output_iter, 14] = moment(mag_win, 4)\n",
      "C:\\Users\\sambit\\AppData\\Local\\Temp\\ipykernel_8812\\2264439755.py:68: RuntimeWarning: Precision loss occurred in moment calculation due to catastrophic cancellation. This occurs when the data are nearly identical. Results may be unreliable.\n",
      "  output[output_iter, 15] = skew(mag_win)\n",
      "C:\\Users\\sambit\\AppData\\Local\\Temp\\ipykernel_8812\\2264439755.py:70: RuntimeWarning: Precision loss occurred in moment calculation due to catastrophic cancellation. This occurs when the data are nearly identical. Results may be unreliable.\n",
      "  output[output_iter, 16] = kurtosis(mag_win)\n",
      "C:\\Users\\sambit\\AppData\\Local\\anaconda3\\lib\\site-packages\\statsmodels\\tsa\\stattools.py:681: RuntimeWarning: invalid value encountered in divide\n",
      "  acf = avf[: nlags + 1] / avf[0]\n"
     ]
    },
    {
     "name": "stdout",
     "output_type": "stream",
     "text": [
      "Processing Participant 2007 18/191\n"
     ]
    },
    {
     "name": "stderr",
     "output_type": "stream",
     "text": [
      "C:\\Users\\sambit\\AppData\\Local\\Temp\\ipykernel_8812\\2134189346.py:7: FutureWarning: \n",
      "        Use pd.to_datetime instead.\n",
      "\n",
      "  actigraph_data = pd.read_csv(data_path, usecols=['Actigraph Time', 'Actigraph Second Fraction', 'Actigraph X', 'Actigraph Y', 'Actigraph Z', 'Actigraph Magnitude'], parse_dates=[[0,1]], date_parser=parser_apple).dropna()\n"
     ]
    },
    {
     "name": "stdout",
     "output_type": "stream",
     "text": [
      "(379500, 5)\n",
      "Processing Participant 2031 19/191\n"
     ]
    },
    {
     "name": "stderr",
     "output_type": "stream",
     "text": [
      "C:\\Users\\sambit\\AppData\\Local\\Temp\\ipykernel_8812\\2134189346.py:7: FutureWarning: \n",
      "        Use pd.to_datetime instead.\n",
      "\n",
      "  actigraph_data = pd.read_csv(data_path, usecols=['Actigraph Time', 'Actigraph Second Fraction', 'Actigraph X', 'Actigraph Y', 'Actigraph Z', 'Actigraph Magnitude'], parse_dates=[[0,1]], date_parser=parser_apple).dropna()\n"
     ]
    },
    {
     "name": "stdout",
     "output_type": "stream",
     "text": [
      "(433300, 5)\n",
      "Processing Participant 2069 20/191\n"
     ]
    },
    {
     "name": "stderr",
     "output_type": "stream",
     "text": [
      "C:\\Users\\sambit\\AppData\\Local\\Temp\\ipykernel_8812\\2134189346.py:7: FutureWarning: \n",
      "        Use pd.to_datetime instead.\n",
      "\n",
      "  actigraph_data = pd.read_csv(data_path, usecols=['Actigraph Time', 'Actigraph Second Fraction', 'Actigraph X', 'Actigraph Y', 'Actigraph Z', 'Actigraph Magnitude'], parse_dates=[[0,1]], date_parser=parser_apple).dropna()\n"
     ]
    },
    {
     "name": "stdout",
     "output_type": "stream",
     "text": [
      "(455800, 5)\n",
      "Processing Participant 2113 21/191\n"
     ]
    },
    {
     "name": "stderr",
     "output_type": "stream",
     "text": [
      "C:\\Users\\sambit\\AppData\\Local\\Temp\\ipykernel_8812\\2134189346.py:7: FutureWarning: \n",
      "        Use pd.to_datetime instead.\n",
      "\n",
      "  actigraph_data = pd.read_csv(data_path, usecols=['Actigraph Time', 'Actigraph Second Fraction', 'Actigraph X', 'Actigraph Y', 'Actigraph Z', 'Actigraph Magnitude'], parse_dates=[[0,1]], date_parser=parser_apple).dropna()\n"
     ]
    },
    {
     "name": "stdout",
     "output_type": "stream",
     "text": [
      "(170752, 5)\n",
      "Processing Participant 2186 22/191\n"
     ]
    },
    {
     "name": "stderr",
     "output_type": "stream",
     "text": [
      "C:\\Users\\sambit\\AppData\\Local\\Temp\\ipykernel_8812\\2134189346.py:7: FutureWarning: \n",
      "        Use pd.to_datetime instead.\n",
      "\n",
      "  actigraph_data = pd.read_csv(data_path, usecols=['Actigraph Time', 'Actigraph Second Fraction', 'Actigraph X', 'Actigraph Y', 'Actigraph Z', 'Actigraph Magnitude'], parse_dates=[[0,1]], date_parser=parser_apple).dropna()\n"
     ]
    },
    {
     "name": "stdout",
     "output_type": "stream",
     "text": [
      "(423800, 5)\n",
      "Processing Participant 2187 23/191\n"
     ]
    },
    {
     "name": "stderr",
     "output_type": "stream",
     "text": [
      "C:\\Users\\sambit\\AppData\\Local\\Temp\\ipykernel_8812\\2134189346.py:7: FutureWarning: \n",
      "        Use pd.to_datetime instead.\n",
      "\n",
      "  actigraph_data = pd.read_csv(data_path, usecols=['Actigraph Time', 'Actigraph Second Fraction', 'Actigraph X', 'Actigraph Y', 'Actigraph Z', 'Actigraph Magnitude'], parse_dates=[[0,1]], date_parser=parser_apple).dropna()\n"
     ]
    },
    {
     "name": "stdout",
     "output_type": "stream",
     "text": [
      "(458500, 5)\n",
      "Processing Participant 2271 24/191\n"
     ]
    },
    {
     "name": "stderr",
     "output_type": "stream",
     "text": [
      "C:\\Users\\sambit\\AppData\\Local\\Temp\\ipykernel_8812\\2134189346.py:7: FutureWarning: \n",
      "        Use pd.to_datetime instead.\n",
      "\n",
      "  actigraph_data = pd.read_csv(data_path, usecols=['Actigraph Time', 'Actigraph Second Fraction', 'Actigraph X', 'Actigraph Y', 'Actigraph Z', 'Actigraph Magnitude'], parse_dates=[[0,1]], date_parser=parser_apple).dropna()\n"
     ]
    },
    {
     "name": "stdout",
     "output_type": "stream",
     "text": [
      "(397400, 5)\n"
     ]
    },
    {
     "name": "stderr",
     "output_type": "stream",
     "text": [
      "C:\\Users\\sambit\\AppData\\Local\\Temp\\ipykernel_8812\\2264439755.py:64: RuntimeWarning: Precision loss occurred in moment calculation due to catastrophic cancellation. This occurs when the data are nearly identical. Results may be unreliable.\n",
      "  output[output_iter, 13] = moment(mag_win, 3)\n",
      "C:\\Users\\sambit\\AppData\\Local\\Temp\\ipykernel_8812\\2264439755.py:66: RuntimeWarning: Precision loss occurred in moment calculation due to catastrophic cancellation. This occurs when the data are nearly identical. Results may be unreliable.\n",
      "  output[output_iter, 14] = moment(mag_win, 4)\n",
      "C:\\Users\\sambit\\AppData\\Local\\Temp\\ipykernel_8812\\2264439755.py:68: RuntimeWarning: Precision loss occurred in moment calculation due to catastrophic cancellation. This occurs when the data are nearly identical. Results may be unreliable.\n",
      "  output[output_iter, 15] = skew(mag_win)\n",
      "C:\\Users\\sambit\\AppData\\Local\\Temp\\ipykernel_8812\\2264439755.py:70: RuntimeWarning: Precision loss occurred in moment calculation due to catastrophic cancellation. This occurs when the data are nearly identical. Results may be unreliable.\n",
      "  output[output_iter, 16] = kurtosis(mag_win)\n",
      "C:\\Users\\sambit\\AppData\\Local\\anaconda3\\lib\\site-packages\\statsmodels\\tsa\\stattools.py:681: RuntimeWarning: invalid value encountered in divide\n",
      "  acf = avf[: nlags + 1] / avf[0]\n"
     ]
    },
    {
     "name": "stdout",
     "output_type": "stream",
     "text": [
      "Processing Participant 2272 25/191\n"
     ]
    },
    {
     "name": "stderr",
     "output_type": "stream",
     "text": [
      "C:\\Users\\sambit\\AppData\\Local\\Temp\\ipykernel_8812\\2134189346.py:7: FutureWarning: \n",
      "        Use pd.to_datetime instead.\n",
      "\n",
      "  actigraph_data = pd.read_csv(data_path, usecols=['Actigraph Time', 'Actigraph Second Fraction', 'Actigraph X', 'Actigraph Y', 'Actigraph Z', 'Actigraph Magnitude'], parse_dates=[[0,1]], date_parser=parser_apple).dropna()\n"
     ]
    },
    {
     "name": "stdout",
     "output_type": "stream",
     "text": [
      "(394300, 5)\n",
      "Processing Participant 2321 26/191\n"
     ]
    },
    {
     "name": "stderr",
     "output_type": "stream",
     "text": [
      "C:\\Users\\sambit\\AppData\\Local\\Temp\\ipykernel_8812\\2134189346.py:7: FutureWarning: \n",
      "        Use pd.to_datetime instead.\n",
      "\n",
      "  actigraph_data = pd.read_csv(data_path, usecols=['Actigraph Time', 'Actigraph Second Fraction', 'Actigraph X', 'Actigraph Y', 'Actigraph Z', 'Actigraph Magnitude'], parse_dates=[[0,1]], date_parser=parser_apple).dropna()\n"
     ]
    },
    {
     "name": "stdout",
     "output_type": "stream",
     "text": [
      "(419900, 5)\n",
      "Processing Participant 2355 27/191\n"
     ]
    },
    {
     "name": "stderr",
     "output_type": "stream",
     "text": [
      "C:\\Users\\sambit\\AppData\\Local\\Temp\\ipykernel_8812\\2134189346.py:7: FutureWarning: \n",
      "        Use pd.to_datetime instead.\n",
      "\n",
      "  actigraph_data = pd.read_csv(data_path, usecols=['Actigraph Time', 'Actigraph Second Fraction', 'Actigraph X', 'Actigraph Y', 'Actigraph Z', 'Actigraph Magnitude'], parse_dates=[[0,1]], date_parser=parser_apple).dropna()\n"
     ]
    },
    {
     "name": "stdout",
     "output_type": "stream",
     "text": [
      "(369800, 5)\n",
      "Processing Participant 2433 28/191\n"
     ]
    },
    {
     "name": "stderr",
     "output_type": "stream",
     "text": [
      "C:\\Users\\sambit\\AppData\\Local\\Temp\\ipykernel_8812\\2134189346.py:7: FutureWarning: \n",
      "        Use pd.to_datetime instead.\n",
      "\n",
      "  actigraph_data = pd.read_csv(data_path, usecols=['Actigraph Time', 'Actigraph Second Fraction', 'Actigraph X', 'Actigraph Y', 'Actigraph Z', 'Actigraph Magnitude'], parse_dates=[[0,1]], date_parser=parser_apple).dropna()\n"
     ]
    },
    {
     "name": "stdout",
     "output_type": "stream",
     "text": [
      "(385100, 5)\n",
      "Processing Participant 2453 29/191\n"
     ]
    },
    {
     "name": "stderr",
     "output_type": "stream",
     "text": [
      "C:\\Users\\sambit\\AppData\\Local\\Temp\\ipykernel_8812\\2134189346.py:7: FutureWarning: \n",
      "        Use pd.to_datetime instead.\n",
      "\n",
      "  actigraph_data = pd.read_csv(data_path, usecols=['Actigraph Time', 'Actigraph Second Fraction', 'Actigraph X', 'Actigraph Y', 'Actigraph Z', 'Actigraph Magnitude'], parse_dates=[[0,1]], date_parser=parser_apple).dropna()\n"
     ]
    },
    {
     "name": "stdout",
     "output_type": "stream",
     "text": [
      "(379200, 5)\n",
      "Processing Participant 2454 30/191\n"
     ]
    },
    {
     "name": "stderr",
     "output_type": "stream",
     "text": [
      "C:\\Users\\sambit\\AppData\\Local\\Temp\\ipykernel_8812\\2134189346.py:7: FutureWarning: \n",
      "        Use pd.to_datetime instead.\n",
      "\n",
      "  actigraph_data = pd.read_csv(data_path, usecols=['Actigraph Time', 'Actigraph Second Fraction', 'Actigraph X', 'Actigraph Y', 'Actigraph Z', 'Actigraph Magnitude'], parse_dates=[[0,1]], date_parser=parser_apple).dropna()\n"
     ]
    },
    {
     "name": "stdout",
     "output_type": "stream",
     "text": [
      "(386600, 5)\n",
      "Processing Participant 2455 31/191\n"
     ]
    },
    {
     "name": "stderr",
     "output_type": "stream",
     "text": [
      "C:\\Users\\sambit\\AppData\\Local\\Temp\\ipykernel_8812\\2134189346.py:7: FutureWarning: \n",
      "        Use pd.to_datetime instead.\n",
      "\n",
      "  actigraph_data = pd.read_csv(data_path, usecols=['Actigraph Time', 'Actigraph Second Fraction', 'Actigraph X', 'Actigraph Y', 'Actigraph Z', 'Actigraph Magnitude'], parse_dates=[[0,1]], date_parser=parser_apple).dropna()\n"
     ]
    },
    {
     "name": "stdout",
     "output_type": "stream",
     "text": [
      "(405100, 5)\n",
      "Processing Participant 2456 32/191\n"
     ]
    },
    {
     "name": "stderr",
     "output_type": "stream",
     "text": [
      "C:\\Users\\sambit\\AppData\\Local\\Temp\\ipykernel_8812\\2134189346.py:7: FutureWarning: \n",
      "        Use pd.to_datetime instead.\n",
      "\n",
      "  actigraph_data = pd.read_csv(data_path, usecols=['Actigraph Time', 'Actigraph Second Fraction', 'Actigraph X', 'Actigraph Y', 'Actigraph Z', 'Actigraph Magnitude'], parse_dates=[[0,1]], date_parser=parser_apple).dropna()\n"
     ]
    },
    {
     "name": "stdout",
     "output_type": "stream",
     "text": [
      "(384100, 5)\n"
     ]
    },
    {
     "name": "stderr",
     "output_type": "stream",
     "text": [
      "C:\\Users\\sambit\\AppData\\Local\\Temp\\ipykernel_8812\\2264439755.py:64: RuntimeWarning: Precision loss occurred in moment calculation due to catastrophic cancellation. This occurs when the data are nearly identical. Results may be unreliable.\n",
      "  output[output_iter, 13] = moment(mag_win, 3)\n",
      "C:\\Users\\sambit\\AppData\\Local\\Temp\\ipykernel_8812\\2264439755.py:66: RuntimeWarning: Precision loss occurred in moment calculation due to catastrophic cancellation. This occurs when the data are nearly identical. Results may be unreliable.\n",
      "  output[output_iter, 14] = moment(mag_win, 4)\n",
      "C:\\Users\\sambit\\AppData\\Local\\Temp\\ipykernel_8812\\2264439755.py:68: RuntimeWarning: Precision loss occurred in moment calculation due to catastrophic cancellation. This occurs when the data are nearly identical. Results may be unreliable.\n",
      "  output[output_iter, 15] = skew(mag_win)\n",
      "C:\\Users\\sambit\\AppData\\Local\\Temp\\ipykernel_8812\\2264439755.py:70: RuntimeWarning: Precision loss occurred in moment calculation due to catastrophic cancellation. This occurs when the data are nearly identical. Results may be unreliable.\n",
      "  output[output_iter, 16] = kurtosis(mag_win)\n"
     ]
    },
    {
     "name": "stdout",
     "output_type": "stream",
     "text": [
      "Processing Participant 2457 33/191\n"
     ]
    },
    {
     "name": "stderr",
     "output_type": "stream",
     "text": [
      "C:\\Users\\sambit\\AppData\\Local\\Temp\\ipykernel_8812\\2134189346.py:7: FutureWarning: \n",
      "        Use pd.to_datetime instead.\n",
      "\n",
      "  actigraph_data = pd.read_csv(data_path, usecols=['Actigraph Time', 'Actigraph Second Fraction', 'Actigraph X', 'Actigraph Y', 'Actigraph Z', 'Actigraph Magnitude'], parse_dates=[[0,1]], date_parser=parser_apple).dropna()\n"
     ]
    },
    {
     "name": "stdout",
     "output_type": "stream",
     "text": [
      "(426500, 5)\n"
     ]
    },
    {
     "name": "stderr",
     "output_type": "stream",
     "text": [
      "C:\\Users\\sambit\\AppData\\Local\\Temp\\ipykernel_8812\\2264439755.py:64: RuntimeWarning: Precision loss occurred in moment calculation due to catastrophic cancellation. This occurs when the data are nearly identical. Results may be unreliable.\n",
      "  output[output_iter, 13] = moment(mag_win, 3)\n",
      "C:\\Users\\sambit\\AppData\\Local\\Temp\\ipykernel_8812\\2264439755.py:66: RuntimeWarning: Precision loss occurred in moment calculation due to catastrophic cancellation. This occurs when the data are nearly identical. Results may be unreliable.\n",
      "  output[output_iter, 14] = moment(mag_win, 4)\n",
      "C:\\Users\\sambit\\AppData\\Local\\Temp\\ipykernel_8812\\2264439755.py:68: RuntimeWarning: Precision loss occurred in moment calculation due to catastrophic cancellation. This occurs when the data are nearly identical. Results may be unreliable.\n",
      "  output[output_iter, 15] = skew(mag_win)\n",
      "C:\\Users\\sambit\\AppData\\Local\\Temp\\ipykernel_8812\\2264439755.py:70: RuntimeWarning: Precision loss occurred in moment calculation due to catastrophic cancellation. This occurs when the data are nearly identical. Results may be unreliable.\n",
      "  output[output_iter, 16] = kurtosis(mag_win)\n"
     ]
    },
    {
     "name": "stdout",
     "output_type": "stream",
     "text": [
      "Processing Participant 2458 34/191\n"
     ]
    },
    {
     "name": "stderr",
     "output_type": "stream",
     "text": [
      "C:\\Users\\sambit\\AppData\\Local\\Temp\\ipykernel_8812\\2134189346.py:7: FutureWarning: \n",
      "        Use pd.to_datetime instead.\n",
      "\n",
      "  actigraph_data = pd.read_csv(data_path, usecols=['Actigraph Time', 'Actigraph Second Fraction', 'Actigraph X', 'Actigraph Y', 'Actigraph Z', 'Actigraph Magnitude'], parse_dates=[[0,1]], date_parser=parser_apple).dropna()\n"
     ]
    },
    {
     "name": "stdout",
     "output_type": "stream",
     "text": [
      "(375000, 5)\n"
     ]
    },
    {
     "name": "stderr",
     "output_type": "stream",
     "text": [
      "C:\\Users\\sambit\\AppData\\Local\\Temp\\ipykernel_8812\\2264439755.py:64: RuntimeWarning: Precision loss occurred in moment calculation due to catastrophic cancellation. This occurs when the data are nearly identical. Results may be unreliable.\n",
      "  output[output_iter, 13] = moment(mag_win, 3)\n",
      "C:\\Users\\sambit\\AppData\\Local\\Temp\\ipykernel_8812\\2264439755.py:66: RuntimeWarning: Precision loss occurred in moment calculation due to catastrophic cancellation. This occurs when the data are nearly identical. Results may be unreliable.\n",
      "  output[output_iter, 14] = moment(mag_win, 4)\n",
      "C:\\Users\\sambit\\AppData\\Local\\Temp\\ipykernel_8812\\2264439755.py:68: RuntimeWarning: Precision loss occurred in moment calculation due to catastrophic cancellation. This occurs when the data are nearly identical. Results may be unreliable.\n",
      "  output[output_iter, 15] = skew(mag_win)\n",
      "C:\\Users\\sambit\\AppData\\Local\\Temp\\ipykernel_8812\\2264439755.py:70: RuntimeWarning: Precision loss occurred in moment calculation due to catastrophic cancellation. This occurs when the data are nearly identical. Results may be unreliable.\n",
      "  output[output_iter, 16] = kurtosis(mag_win)\n",
      "C:\\Users\\sambit\\AppData\\Local\\anaconda3\\lib\\site-packages\\statsmodels\\tsa\\stattools.py:681: RuntimeWarning: invalid value encountered in divide\n",
      "  acf = avf[: nlags + 1] / avf[0]\n"
     ]
    },
    {
     "name": "stdout",
     "output_type": "stream",
     "text": [
      "Processing Participant 2470 35/191\n"
     ]
    },
    {
     "name": "stderr",
     "output_type": "stream",
     "text": [
      "C:\\Users\\sambit\\AppData\\Local\\Temp\\ipykernel_8812\\2134189346.py:7: FutureWarning: \n",
      "        Use pd.to_datetime instead.\n",
      "\n",
      "  actigraph_data = pd.read_csv(data_path, usecols=['Actigraph Time', 'Actigraph Second Fraction', 'Actigraph X', 'Actigraph Y', 'Actigraph Z', 'Actigraph Magnitude'], parse_dates=[[0,1]], date_parser=parser_apple).dropna()\n"
     ]
    },
    {
     "name": "stdout",
     "output_type": "stream",
     "text": [
      "(396600, 5)\n"
     ]
    },
    {
     "name": "stderr",
     "output_type": "stream",
     "text": [
      "C:\\Users\\sambit\\AppData\\Local\\Temp\\ipykernel_8812\\2264439755.py:64: RuntimeWarning: Precision loss occurred in moment calculation due to catastrophic cancellation. This occurs when the data are nearly identical. Results may be unreliable.\n",
      "  output[output_iter, 13] = moment(mag_win, 3)\n",
      "C:\\Users\\sambit\\AppData\\Local\\Temp\\ipykernel_8812\\2264439755.py:66: RuntimeWarning: Precision loss occurred in moment calculation due to catastrophic cancellation. This occurs when the data are nearly identical. Results may be unreliable.\n",
      "  output[output_iter, 14] = moment(mag_win, 4)\n",
      "C:\\Users\\sambit\\AppData\\Local\\Temp\\ipykernel_8812\\2264439755.py:68: RuntimeWarning: Precision loss occurred in moment calculation due to catastrophic cancellation. This occurs when the data are nearly identical. Results may be unreliable.\n",
      "  output[output_iter, 15] = skew(mag_win)\n",
      "C:\\Users\\sambit\\AppData\\Local\\Temp\\ipykernel_8812\\2264439755.py:70: RuntimeWarning: Precision loss occurred in moment calculation due to catastrophic cancellation. This occurs when the data are nearly identical. Results may be unreliable.\n",
      "  output[output_iter, 16] = kurtosis(mag_win)\n"
     ]
    },
    {
     "name": "stdout",
     "output_type": "stream",
     "text": [
      "Processing Participant 2471 36/191\n"
     ]
    },
    {
     "name": "stderr",
     "output_type": "stream",
     "text": [
      "C:\\Users\\sambit\\AppData\\Local\\Temp\\ipykernel_8812\\2134189346.py:7: FutureWarning: \n",
      "        Use pd.to_datetime instead.\n",
      "\n",
      "  actigraph_data = pd.read_csv(data_path, usecols=['Actigraph Time', 'Actigraph Second Fraction', 'Actigraph X', 'Actigraph Y', 'Actigraph Z', 'Actigraph Magnitude'], parse_dates=[[0,1]], date_parser=parser_apple).dropna()\n"
     ]
    },
    {
     "name": "stdout",
     "output_type": "stream",
     "text": [
      "(401200, 5)\n"
     ]
    },
    {
     "name": "stderr",
     "output_type": "stream",
     "text": [
      "C:\\Users\\sambit\\AppData\\Local\\Temp\\ipykernel_8812\\2264439755.py:64: RuntimeWarning: Precision loss occurred in moment calculation due to catastrophic cancellation. This occurs when the data are nearly identical. Results may be unreliable.\n",
      "  output[output_iter, 13] = moment(mag_win, 3)\n",
      "C:\\Users\\sambit\\AppData\\Local\\Temp\\ipykernel_8812\\2264439755.py:66: RuntimeWarning: Precision loss occurred in moment calculation due to catastrophic cancellation. This occurs when the data are nearly identical. Results may be unreliable.\n",
      "  output[output_iter, 14] = moment(mag_win, 4)\n",
      "C:\\Users\\sambit\\AppData\\Local\\Temp\\ipykernel_8812\\2264439755.py:68: RuntimeWarning: Precision loss occurred in moment calculation due to catastrophic cancellation. This occurs when the data are nearly identical. Results may be unreliable.\n",
      "  output[output_iter, 15] = skew(mag_win)\n",
      "C:\\Users\\sambit\\AppData\\Local\\Temp\\ipykernel_8812\\2264439755.py:70: RuntimeWarning: Precision loss occurred in moment calculation due to catastrophic cancellation. This occurs when the data are nearly identical. Results may be unreliable.\n",
      "  output[output_iter, 16] = kurtosis(mag_win)\n"
     ]
    },
    {
     "name": "stdout",
     "output_type": "stream",
     "text": [
      "Processing Participant 2473 37/191\n"
     ]
    },
    {
     "name": "stderr",
     "output_type": "stream",
     "text": [
      "C:\\Users\\sambit\\AppData\\Local\\Temp\\ipykernel_8812\\2134189346.py:7: FutureWarning: \n",
      "        Use pd.to_datetime instead.\n",
      "\n",
      "  actigraph_data = pd.read_csv(data_path, usecols=['Actigraph Time', 'Actigraph Second Fraction', 'Actigraph X', 'Actigraph Y', 'Actigraph Z', 'Actigraph Magnitude'], parse_dates=[[0,1]], date_parser=parser_apple).dropna()\n"
     ]
    },
    {
     "name": "stdout",
     "output_type": "stream",
     "text": [
      "(427400, 5)\n"
     ]
    },
    {
     "name": "stderr",
     "output_type": "stream",
     "text": [
      "C:\\Users\\sambit\\AppData\\Local\\Temp\\ipykernel_8812\\2264439755.py:64: RuntimeWarning: Precision loss occurred in moment calculation due to catastrophic cancellation. This occurs when the data are nearly identical. Results may be unreliable.\n",
      "  output[output_iter, 13] = moment(mag_win, 3)\n",
      "C:\\Users\\sambit\\AppData\\Local\\Temp\\ipykernel_8812\\2264439755.py:66: RuntimeWarning: Precision loss occurred in moment calculation due to catastrophic cancellation. This occurs when the data are nearly identical. Results may be unreliable.\n",
      "  output[output_iter, 14] = moment(mag_win, 4)\n",
      "C:\\Users\\sambit\\AppData\\Local\\Temp\\ipykernel_8812\\2264439755.py:68: RuntimeWarning: Precision loss occurred in moment calculation due to catastrophic cancellation. This occurs when the data are nearly identical. Results may be unreliable.\n",
      "  output[output_iter, 15] = skew(mag_win)\n",
      "C:\\Users\\sambit\\AppData\\Local\\Temp\\ipykernel_8812\\2264439755.py:70: RuntimeWarning: Precision loss occurred in moment calculation due to catastrophic cancellation. This occurs when the data are nearly identical. Results may be unreliable.\n",
      "  output[output_iter, 16] = kurtosis(mag_win)\n"
     ]
    },
    {
     "name": "stdout",
     "output_type": "stream",
     "text": [
      "Processing Participant 2474 38/191\n"
     ]
    },
    {
     "name": "stderr",
     "output_type": "stream",
     "text": [
      "C:\\Users\\sambit\\AppData\\Local\\Temp\\ipykernel_8812\\2134189346.py:7: FutureWarning: \n",
      "        Use pd.to_datetime instead.\n",
      "\n",
      "  actigraph_data = pd.read_csv(data_path, usecols=['Actigraph Time', 'Actigraph Second Fraction', 'Actigraph X', 'Actigraph Y', 'Actigraph Z', 'Actigraph Magnitude'], parse_dates=[[0,1]], date_parser=parser_apple).dropna()\n"
     ]
    },
    {
     "name": "stdout",
     "output_type": "stream",
     "text": [
      "(372200, 5)\n"
     ]
    },
    {
     "name": "stderr",
     "output_type": "stream",
     "text": [
      "C:\\Users\\sambit\\AppData\\Local\\Temp\\ipykernel_8812\\2264439755.py:64: RuntimeWarning: Precision loss occurred in moment calculation due to catastrophic cancellation. This occurs when the data are nearly identical. Results may be unreliable.\n",
      "  output[output_iter, 13] = moment(mag_win, 3)\n",
      "C:\\Users\\sambit\\AppData\\Local\\Temp\\ipykernel_8812\\2264439755.py:66: RuntimeWarning: Precision loss occurred in moment calculation due to catastrophic cancellation. This occurs when the data are nearly identical. Results may be unreliable.\n",
      "  output[output_iter, 14] = moment(mag_win, 4)\n",
      "C:\\Users\\sambit\\AppData\\Local\\Temp\\ipykernel_8812\\2264439755.py:68: RuntimeWarning: Precision loss occurred in moment calculation due to catastrophic cancellation. This occurs when the data are nearly identical. Results may be unreliable.\n",
      "  output[output_iter, 15] = skew(mag_win)\n",
      "C:\\Users\\sambit\\AppData\\Local\\Temp\\ipykernel_8812\\2264439755.py:70: RuntimeWarning: Precision loss occurred in moment calculation due to catastrophic cancellation. This occurs when the data are nearly identical. Results may be unreliable.\n",
      "  output[output_iter, 16] = kurtosis(mag_win)\n"
     ]
    },
    {
     "name": "stdout",
     "output_type": "stream",
     "text": [
      "Processing Participant 2475 39/191\n"
     ]
    },
    {
     "name": "stderr",
     "output_type": "stream",
     "text": [
      "C:\\Users\\sambit\\AppData\\Local\\Temp\\ipykernel_8812\\2134189346.py:7: FutureWarning: \n",
      "        Use pd.to_datetime instead.\n",
      "\n",
      "  actigraph_data = pd.read_csv(data_path, usecols=['Actigraph Time', 'Actigraph Second Fraction', 'Actigraph X', 'Actigraph Y', 'Actigraph Z', 'Actigraph Magnitude'], parse_dates=[[0,1]], date_parser=parser_apple).dropna()\n"
     ]
    },
    {
     "name": "stdout",
     "output_type": "stream",
     "text": [
      "(366600, 5)\n"
     ]
    },
    {
     "name": "stderr",
     "output_type": "stream",
     "text": [
      "C:\\Users\\sambit\\AppData\\Local\\Temp\\ipykernel_8812\\2264439755.py:64: RuntimeWarning: Precision loss occurred in moment calculation due to catastrophic cancellation. This occurs when the data are nearly identical. Results may be unreliable.\n",
      "  output[output_iter, 13] = moment(mag_win, 3)\n",
      "C:\\Users\\sambit\\AppData\\Local\\Temp\\ipykernel_8812\\2264439755.py:66: RuntimeWarning: Precision loss occurred in moment calculation due to catastrophic cancellation. This occurs when the data are nearly identical. Results may be unreliable.\n",
      "  output[output_iter, 14] = moment(mag_win, 4)\n",
      "C:\\Users\\sambit\\AppData\\Local\\Temp\\ipykernel_8812\\2264439755.py:68: RuntimeWarning: Precision loss occurred in moment calculation due to catastrophic cancellation. This occurs when the data are nearly identical. Results may be unreliable.\n",
      "  output[output_iter, 15] = skew(mag_win)\n",
      "C:\\Users\\sambit\\AppData\\Local\\Temp\\ipykernel_8812\\2264439755.py:70: RuntimeWarning: Precision loss occurred in moment calculation due to catastrophic cancellation. This occurs when the data are nearly identical. Results may be unreliable.\n",
      "  output[output_iter, 16] = kurtosis(mag_win)\n",
      "C:\\Users\\sambit\\AppData\\Local\\anaconda3\\lib\\site-packages\\statsmodels\\tsa\\stattools.py:681: RuntimeWarning: invalid value encountered in divide\n",
      "  acf = avf[: nlags + 1] / avf[0]\n"
     ]
    },
    {
     "name": "stdout",
     "output_type": "stream",
     "text": [
      "Processing Participant 2476 40/191\n"
     ]
    },
    {
     "name": "stderr",
     "output_type": "stream",
     "text": [
      "C:\\Users\\sambit\\AppData\\Local\\Temp\\ipykernel_8812\\2134189346.py:7: FutureWarning: \n",
      "        Use pd.to_datetime instead.\n",
      "\n",
      "  actigraph_data = pd.read_csv(data_path, usecols=['Actigraph Time', 'Actigraph Second Fraction', 'Actigraph X', 'Actigraph Y', 'Actigraph Z', 'Actigraph Magnitude'], parse_dates=[[0,1]], date_parser=parser_apple).dropna()\n"
     ]
    },
    {
     "name": "stdout",
     "output_type": "stream",
     "text": [
      "(375700, 5)\n",
      "Processing Participant 2479 41/191\n"
     ]
    },
    {
     "name": "stderr",
     "output_type": "stream",
     "text": [
      "C:\\Users\\sambit\\AppData\\Local\\Temp\\ipykernel_8812\\2134189346.py:7: FutureWarning: \n",
      "        Use pd.to_datetime instead.\n",
      "\n",
      "  actigraph_data = pd.read_csv(data_path, usecols=['Actigraph Time', 'Actigraph Second Fraction', 'Actigraph X', 'Actigraph Y', 'Actigraph Z', 'Actigraph Magnitude'], parse_dates=[[0,1]], date_parser=parser_apple).dropna()\n"
     ]
    },
    {
     "name": "stdout",
     "output_type": "stream",
     "text": [
      "(357300, 5)\n"
     ]
    },
    {
     "name": "stderr",
     "output_type": "stream",
     "text": [
      "C:\\Users\\sambit\\AppData\\Local\\Temp\\ipykernel_8812\\2264439755.py:64: RuntimeWarning: Precision loss occurred in moment calculation due to catastrophic cancellation. This occurs when the data are nearly identical. Results may be unreliable.\n",
      "  output[output_iter, 13] = moment(mag_win, 3)\n",
      "C:\\Users\\sambit\\AppData\\Local\\Temp\\ipykernel_8812\\2264439755.py:66: RuntimeWarning: Precision loss occurred in moment calculation due to catastrophic cancellation. This occurs when the data are nearly identical. Results may be unreliable.\n",
      "  output[output_iter, 14] = moment(mag_win, 4)\n",
      "C:\\Users\\sambit\\AppData\\Local\\Temp\\ipykernel_8812\\2264439755.py:68: RuntimeWarning: Precision loss occurred in moment calculation due to catastrophic cancellation. This occurs when the data are nearly identical. Results may be unreliable.\n",
      "  output[output_iter, 15] = skew(mag_win)\n",
      "C:\\Users\\sambit\\AppData\\Local\\Temp\\ipykernel_8812\\2264439755.py:70: RuntimeWarning: Precision loss occurred in moment calculation due to catastrophic cancellation. This occurs when the data are nearly identical. Results may be unreliable.\n",
      "  output[output_iter, 16] = kurtosis(mag_win)\n",
      "C:\\Users\\sambit\\AppData\\Local\\anaconda3\\lib\\site-packages\\statsmodels\\tsa\\stattools.py:681: RuntimeWarning: invalid value encountered in divide\n",
      "  acf = avf[: nlags + 1] / avf[0]\n"
     ]
    },
    {
     "name": "stdout",
     "output_type": "stream",
     "text": [
      "Processing Participant 2480 42/191\n"
     ]
    },
    {
     "name": "stderr",
     "output_type": "stream",
     "text": [
      "C:\\Users\\sambit\\AppData\\Local\\Temp\\ipykernel_8812\\2134189346.py:7: FutureWarning: \n",
      "        Use pd.to_datetime instead.\n",
      "\n",
      "  actigraph_data = pd.read_csv(data_path, usecols=['Actigraph Time', 'Actigraph Second Fraction', 'Actigraph X', 'Actigraph Y', 'Actigraph Z', 'Actigraph Magnitude'], parse_dates=[[0,1]], date_parser=parser_apple).dropna()\n"
     ]
    },
    {
     "name": "stdout",
     "output_type": "stream",
     "text": [
      "(361100, 5)\n",
      "Processing Participant 2495 43/191\n"
     ]
    },
    {
     "name": "stderr",
     "output_type": "stream",
     "text": [
      "C:\\Users\\sambit\\AppData\\Local\\Temp\\ipykernel_8812\\2134189346.py:7: FutureWarning: \n",
      "        Use pd.to_datetime instead.\n",
      "\n",
      "  actigraph_data = pd.read_csv(data_path, usecols=['Actigraph Time', 'Actigraph Second Fraction', 'Actigraph X', 'Actigraph Y', 'Actigraph Z', 'Actigraph Magnitude'], parse_dates=[[0,1]], date_parser=parser_apple).dropna()\n"
     ]
    },
    {
     "name": "stdout",
     "output_type": "stream",
     "text": [
      "(371800, 5)\n",
      "Processing Participant 2496 44/191\n"
     ]
    },
    {
     "name": "stderr",
     "output_type": "stream",
     "text": [
      "C:\\Users\\sambit\\AppData\\Local\\Temp\\ipykernel_8812\\2134189346.py:7: FutureWarning: \n",
      "        Use pd.to_datetime instead.\n",
      "\n",
      "  actigraph_data = pd.read_csv(data_path, usecols=['Actigraph Time', 'Actigraph Second Fraction', 'Actigraph X', 'Actigraph Y', 'Actigraph Z', 'Actigraph Magnitude'], parse_dates=[[0,1]], date_parser=parser_apple).dropna()\n"
     ]
    },
    {
     "name": "stdout",
     "output_type": "stream",
     "text": [
      "(456200, 5)\n",
      "Processing Participant 2497 45/191\n"
     ]
    },
    {
     "name": "stderr",
     "output_type": "stream",
     "text": [
      "C:\\Users\\sambit\\AppData\\Local\\Temp\\ipykernel_8812\\2134189346.py:7: FutureWarning: \n",
      "        Use pd.to_datetime instead.\n",
      "\n",
      "  actigraph_data = pd.read_csv(data_path, usecols=['Actigraph Time', 'Actigraph Second Fraction', 'Actigraph X', 'Actigraph Y', 'Actigraph Z', 'Actigraph Magnitude'], parse_dates=[[0,1]], date_parser=parser_apple).dropna()\n"
     ]
    },
    {
     "name": "stdout",
     "output_type": "stream",
     "text": [
      "(401700, 5)\n",
      "Processing Participant 2498 46/191\n"
     ]
    },
    {
     "name": "stderr",
     "output_type": "stream",
     "text": [
      "C:\\Users\\sambit\\AppData\\Local\\Temp\\ipykernel_8812\\2134189346.py:7: FutureWarning: \n",
      "        Use pd.to_datetime instead.\n",
      "\n",
      "  actigraph_data = pd.read_csv(data_path, usecols=['Actigraph Time', 'Actigraph Second Fraction', 'Actigraph X', 'Actigraph Y', 'Actigraph Z', 'Actigraph Magnitude'], parse_dates=[[0,1]], date_parser=parser_apple).dropna()\n"
     ]
    },
    {
     "name": "stdout",
     "output_type": "stream",
     "text": [
      "(375900, 5)\n",
      "Processing Participant 2499 47/191\n"
     ]
    },
    {
     "name": "stderr",
     "output_type": "stream",
     "text": [
      "C:\\Users\\sambit\\AppData\\Local\\Temp\\ipykernel_8812\\2134189346.py:7: FutureWarning: \n",
      "        Use pd.to_datetime instead.\n",
      "\n",
      "  actigraph_data = pd.read_csv(data_path, usecols=['Actigraph Time', 'Actigraph Second Fraction', 'Actigraph X', 'Actigraph Y', 'Actigraph Z', 'Actigraph Magnitude'], parse_dates=[[0,1]], date_parser=parser_apple).dropna()\n"
     ]
    },
    {
     "name": "stdout",
     "output_type": "stream",
     "text": [
      "(354900, 5)\n",
      "Processing Participant 2500 48/191\n"
     ]
    },
    {
     "name": "stderr",
     "output_type": "stream",
     "text": [
      "C:\\Users\\sambit\\AppData\\Local\\Temp\\ipykernel_8812\\2134189346.py:7: FutureWarning: \n",
      "        Use pd.to_datetime instead.\n",
      "\n",
      "  actigraph_data = pd.read_csv(data_path, usecols=['Actigraph Time', 'Actigraph Second Fraction', 'Actigraph X', 'Actigraph Y', 'Actigraph Z', 'Actigraph Magnitude'], parse_dates=[[0,1]], date_parser=parser_apple).dropna()\n"
     ]
    },
    {
     "name": "stdout",
     "output_type": "stream",
     "text": [
      "(375200, 5)\n",
      "Processing Participant 2501 49/191\n"
     ]
    },
    {
     "name": "stderr",
     "output_type": "stream",
     "text": [
      "C:\\Users\\sambit\\AppData\\Local\\Temp\\ipykernel_8812\\2134189346.py:7: FutureWarning: \n",
      "        Use pd.to_datetime instead.\n",
      "\n",
      "  actigraph_data = pd.read_csv(data_path, usecols=['Actigraph Time', 'Actigraph Second Fraction', 'Actigraph X', 'Actigraph Y', 'Actigraph Z', 'Actigraph Magnitude'], parse_dates=[[0,1]], date_parser=parser_apple).dropna()\n"
     ]
    },
    {
     "name": "stdout",
     "output_type": "stream",
     "text": [
      "(374300, 5)\n",
      "Processing Participant 2502 50/191\n"
     ]
    },
    {
     "name": "stderr",
     "output_type": "stream",
     "text": [
      "C:\\Users\\sambit\\AppData\\Local\\Temp\\ipykernel_8812\\2134189346.py:7: FutureWarning: \n",
      "        Use pd.to_datetime instead.\n",
      "\n",
      "  actigraph_data = pd.read_csv(data_path, usecols=['Actigraph Time', 'Actigraph Second Fraction', 'Actigraph X', 'Actigraph Y', 'Actigraph Z', 'Actigraph Magnitude'], parse_dates=[[0,1]], date_parser=parser_apple).dropna()\n"
     ]
    },
    {
     "name": "stdout",
     "output_type": "stream",
     "text": [
      "(410700, 5)\n",
      "Processing Participant 2503 51/191\n"
     ]
    },
    {
     "name": "stderr",
     "output_type": "stream",
     "text": [
      "C:\\Users\\sambit\\AppData\\Local\\Temp\\ipykernel_8812\\2134189346.py:7: FutureWarning: \n",
      "        Use pd.to_datetime instead.\n",
      "\n",
      "  actigraph_data = pd.read_csv(data_path, usecols=['Actigraph Time', 'Actigraph Second Fraction', 'Actigraph X', 'Actigraph Y', 'Actigraph Z', 'Actigraph Magnitude'], parse_dates=[[0,1]], date_parser=parser_apple).dropna()\n"
     ]
    },
    {
     "name": "stdout",
     "output_type": "stream",
     "text": [
      "(372200, 5)\n",
      "Processing Participant 2504 52/191\n"
     ]
    },
    {
     "name": "stderr",
     "output_type": "stream",
     "text": [
      "C:\\Users\\sambit\\AppData\\Local\\Temp\\ipykernel_8812\\2134189346.py:7: FutureWarning: \n",
      "        Use pd.to_datetime instead.\n",
      "\n",
      "  actigraph_data = pd.read_csv(data_path, usecols=['Actigraph Time', 'Actigraph Second Fraction', 'Actigraph X', 'Actigraph Y', 'Actigraph Z', 'Actigraph Magnitude'], parse_dates=[[0,1]], date_parser=parser_apple).dropna()\n"
     ]
    },
    {
     "name": "stdout",
     "output_type": "stream",
     "text": [
      "(385800, 5)\n"
     ]
    },
    {
     "name": "stderr",
     "output_type": "stream",
     "text": [
      "C:\\Users\\sambit\\AppData\\Local\\Temp\\ipykernel_8812\\2264439755.py:64: RuntimeWarning: Precision loss occurred in moment calculation due to catastrophic cancellation. This occurs when the data are nearly identical. Results may be unreliable.\n",
      "  output[output_iter, 13] = moment(mag_win, 3)\n",
      "C:\\Users\\sambit\\AppData\\Local\\Temp\\ipykernel_8812\\2264439755.py:66: RuntimeWarning: Precision loss occurred in moment calculation due to catastrophic cancellation. This occurs when the data are nearly identical. Results may be unreliable.\n",
      "  output[output_iter, 14] = moment(mag_win, 4)\n",
      "C:\\Users\\sambit\\AppData\\Local\\Temp\\ipykernel_8812\\2264439755.py:68: RuntimeWarning: Precision loss occurred in moment calculation due to catastrophic cancellation. This occurs when the data are nearly identical. Results may be unreliable.\n",
      "  output[output_iter, 15] = skew(mag_win)\n",
      "C:\\Users\\sambit\\AppData\\Local\\Temp\\ipykernel_8812\\2264439755.py:70: RuntimeWarning: Precision loss occurred in moment calculation due to catastrophic cancellation. This occurs when the data are nearly identical. Results may be unreliable.\n",
      "  output[output_iter, 16] = kurtosis(mag_win)\n"
     ]
    },
    {
     "name": "stdout",
     "output_type": "stream",
     "text": [
      "Processing Participant 2505 53/191\n"
     ]
    },
    {
     "name": "stderr",
     "output_type": "stream",
     "text": [
      "C:\\Users\\sambit\\AppData\\Local\\Temp\\ipykernel_8812\\2134189346.py:7: FutureWarning: \n",
      "        Use pd.to_datetime instead.\n",
      "\n",
      "  actigraph_data = pd.read_csv(data_path, usecols=['Actigraph Time', 'Actigraph Second Fraction', 'Actigraph X', 'Actigraph Y', 'Actigraph Z', 'Actigraph Magnitude'], parse_dates=[[0,1]], date_parser=parser_apple).dropna()\n"
     ]
    },
    {
     "name": "stdout",
     "output_type": "stream",
     "text": [
      "(434800, 5)\n"
     ]
    },
    {
     "name": "stderr",
     "output_type": "stream",
     "text": [
      "C:\\Users\\sambit\\AppData\\Local\\Temp\\ipykernel_8812\\2264439755.py:64: RuntimeWarning: Precision loss occurred in moment calculation due to catastrophic cancellation. This occurs when the data are nearly identical. Results may be unreliable.\n",
      "  output[output_iter, 13] = moment(mag_win, 3)\n",
      "C:\\Users\\sambit\\AppData\\Local\\Temp\\ipykernel_8812\\2264439755.py:66: RuntimeWarning: Precision loss occurred in moment calculation due to catastrophic cancellation. This occurs when the data are nearly identical. Results may be unreliable.\n",
      "  output[output_iter, 14] = moment(mag_win, 4)\n",
      "C:\\Users\\sambit\\AppData\\Local\\Temp\\ipykernel_8812\\2264439755.py:68: RuntimeWarning: Precision loss occurred in moment calculation due to catastrophic cancellation. This occurs when the data are nearly identical. Results may be unreliable.\n",
      "  output[output_iter, 15] = skew(mag_win)\n",
      "C:\\Users\\sambit\\AppData\\Local\\Temp\\ipykernel_8812\\2264439755.py:70: RuntimeWarning: Precision loss occurred in moment calculation due to catastrophic cancellation. This occurs when the data are nearly identical. Results may be unreliable.\n",
      "  output[output_iter, 16] = kurtosis(mag_win)\n",
      "C:\\Users\\sambit\\AppData\\Local\\anaconda3\\lib\\site-packages\\statsmodels\\tsa\\stattools.py:681: RuntimeWarning: invalid value encountered in divide\n",
      "  acf = avf[: nlags + 1] / avf[0]\n"
     ]
    },
    {
     "name": "stdout",
     "output_type": "stream",
     "text": [
      "Processing Participant 2506 54/191\n"
     ]
    },
    {
     "name": "stderr",
     "output_type": "stream",
     "text": [
      "C:\\Users\\sambit\\AppData\\Local\\Temp\\ipykernel_8812\\2134189346.py:7: FutureWarning: \n",
      "        Use pd.to_datetime instead.\n",
      "\n",
      "  actigraph_data = pd.read_csv(data_path, usecols=['Actigraph Time', 'Actigraph Second Fraction', 'Actigraph X', 'Actigraph Y', 'Actigraph Z', 'Actigraph Magnitude'], parse_dates=[[0,1]], date_parser=parser_apple).dropna()\n"
     ]
    },
    {
     "name": "stdout",
     "output_type": "stream",
     "text": [
      "(385300, 5)\n",
      "Processing Participant 2507 55/191\n"
     ]
    },
    {
     "name": "stderr",
     "output_type": "stream",
     "text": [
      "C:\\Users\\sambit\\AppData\\Local\\Temp\\ipykernel_8812\\2134189346.py:7: FutureWarning: \n",
      "        Use pd.to_datetime instead.\n",
      "\n",
      "  actigraph_data = pd.read_csv(data_path, usecols=['Actigraph Time', 'Actigraph Second Fraction', 'Actigraph X', 'Actigraph Y', 'Actigraph Z', 'Actigraph Magnitude'], parse_dates=[[0,1]], date_parser=parser_apple).dropna()\n"
     ]
    },
    {
     "name": "stdout",
     "output_type": "stream",
     "text": [
      "(444600, 5)\n",
      "Processing Participant 2508 56/191\n"
     ]
    },
    {
     "name": "stderr",
     "output_type": "stream",
     "text": [
      "C:\\Users\\sambit\\AppData\\Local\\Temp\\ipykernel_8812\\2134189346.py:7: FutureWarning: \n",
      "        Use pd.to_datetime instead.\n",
      "\n",
      "  actigraph_data = pd.read_csv(data_path, usecols=['Actigraph Time', 'Actigraph Second Fraction', 'Actigraph X', 'Actigraph Y', 'Actigraph Z', 'Actigraph Magnitude'], parse_dates=[[0,1]], date_parser=parser_apple).dropna()\n"
     ]
    },
    {
     "name": "stdout",
     "output_type": "stream",
     "text": [
      "(367000, 5)\n"
     ]
    },
    {
     "name": "stderr",
     "output_type": "stream",
     "text": [
      "C:\\Users\\sambit\\AppData\\Local\\Temp\\ipykernel_8812\\2264439755.py:64: RuntimeWarning: Precision loss occurred in moment calculation due to catastrophic cancellation. This occurs when the data are nearly identical. Results may be unreliable.\n",
      "  output[output_iter, 13] = moment(mag_win, 3)\n",
      "C:\\Users\\sambit\\AppData\\Local\\Temp\\ipykernel_8812\\2264439755.py:66: RuntimeWarning: Precision loss occurred in moment calculation due to catastrophic cancellation. This occurs when the data are nearly identical. Results may be unreliable.\n",
      "  output[output_iter, 14] = moment(mag_win, 4)\n",
      "C:\\Users\\sambit\\AppData\\Local\\Temp\\ipykernel_8812\\2264439755.py:68: RuntimeWarning: Precision loss occurred in moment calculation due to catastrophic cancellation. This occurs when the data are nearly identical. Results may be unreliable.\n",
      "  output[output_iter, 15] = skew(mag_win)\n",
      "C:\\Users\\sambit\\AppData\\Local\\Temp\\ipykernel_8812\\2264439755.py:70: RuntimeWarning: Precision loss occurred in moment calculation due to catastrophic cancellation. This occurs when the data are nearly identical. Results may be unreliable.\n",
      "  output[output_iter, 16] = kurtosis(mag_win)\n"
     ]
    },
    {
     "name": "stdout",
     "output_type": "stream",
     "text": [
      "Processing Participant 2517 57/191\n"
     ]
    },
    {
     "name": "stderr",
     "output_type": "stream",
     "text": [
      "C:\\Users\\sambit\\AppData\\Local\\Temp\\ipykernel_8812\\2134189346.py:7: FutureWarning: \n",
      "        Use pd.to_datetime instead.\n",
      "\n",
      "  actigraph_data = pd.read_csv(data_path, usecols=['Actigraph Time', 'Actigraph Second Fraction', 'Actigraph X', 'Actigraph Y', 'Actigraph Z', 'Actigraph Magnitude'], parse_dates=[[0,1]], date_parser=parser_apple).dropna()\n"
     ]
    },
    {
     "name": "stdout",
     "output_type": "stream",
     "text": [
      "(402000, 5)\n"
     ]
    },
    {
     "name": "stderr",
     "output_type": "stream",
     "text": [
      "C:\\Users\\sambit\\AppData\\Local\\Temp\\ipykernel_8812\\2264439755.py:64: RuntimeWarning: Precision loss occurred in moment calculation due to catastrophic cancellation. This occurs when the data are nearly identical. Results may be unreliable.\n",
      "  output[output_iter, 13] = moment(mag_win, 3)\n",
      "C:\\Users\\sambit\\AppData\\Local\\Temp\\ipykernel_8812\\2264439755.py:66: RuntimeWarning: Precision loss occurred in moment calculation due to catastrophic cancellation. This occurs when the data are nearly identical. Results may be unreliable.\n",
      "  output[output_iter, 14] = moment(mag_win, 4)\n",
      "C:\\Users\\sambit\\AppData\\Local\\Temp\\ipykernel_8812\\2264439755.py:68: RuntimeWarning: Precision loss occurred in moment calculation due to catastrophic cancellation. This occurs when the data are nearly identical. Results may be unreliable.\n",
      "  output[output_iter, 15] = skew(mag_win)\n",
      "C:\\Users\\sambit\\AppData\\Local\\Temp\\ipykernel_8812\\2264439755.py:70: RuntimeWarning: Precision loss occurred in moment calculation due to catastrophic cancellation. This occurs when the data are nearly identical. Results may be unreliable.\n",
      "  output[output_iter, 16] = kurtosis(mag_win)\n"
     ]
    },
    {
     "name": "stdout",
     "output_type": "stream",
     "text": [
      "Processing Participant 2525 58/191\n"
     ]
    },
    {
     "name": "stderr",
     "output_type": "stream",
     "text": [
      "C:\\Users\\sambit\\AppData\\Local\\Temp\\ipykernel_8812\\2134189346.py:7: FutureWarning: \n",
      "        Use pd.to_datetime instead.\n",
      "\n",
      "  actigraph_data = pd.read_csv(data_path, usecols=['Actigraph Time', 'Actigraph Second Fraction', 'Actigraph X', 'Actigraph Y', 'Actigraph Z', 'Actigraph Magnitude'], parse_dates=[[0,1]], date_parser=parser_apple).dropna()\n"
     ]
    },
    {
     "name": "stdout",
     "output_type": "stream",
     "text": [
      "(447200, 5)\n"
     ]
    },
    {
     "name": "stderr",
     "output_type": "stream",
     "text": [
      "C:\\Users\\sambit\\AppData\\Local\\Temp\\ipykernel_8812\\2264439755.py:64: RuntimeWarning: Precision loss occurred in moment calculation due to catastrophic cancellation. This occurs when the data are nearly identical. Results may be unreliable.\n",
      "  output[output_iter, 13] = moment(mag_win, 3)\n",
      "C:\\Users\\sambit\\AppData\\Local\\Temp\\ipykernel_8812\\2264439755.py:66: RuntimeWarning: Precision loss occurred in moment calculation due to catastrophic cancellation. This occurs when the data are nearly identical. Results may be unreliable.\n",
      "  output[output_iter, 14] = moment(mag_win, 4)\n",
      "C:\\Users\\sambit\\AppData\\Local\\Temp\\ipykernel_8812\\2264439755.py:68: RuntimeWarning: Precision loss occurred in moment calculation due to catastrophic cancellation. This occurs when the data are nearly identical. Results may be unreliable.\n",
      "  output[output_iter, 15] = skew(mag_win)\n",
      "C:\\Users\\sambit\\AppData\\Local\\Temp\\ipykernel_8812\\2264439755.py:70: RuntimeWarning: Precision loss occurred in moment calculation due to catastrophic cancellation. This occurs when the data are nearly identical. Results may be unreliable.\n",
      "  output[output_iter, 16] = kurtosis(mag_win)\n"
     ]
    },
    {
     "name": "stdout",
     "output_type": "stream",
     "text": [
      "Processing Participant 2531 59/191\n"
     ]
    },
    {
     "name": "stderr",
     "output_type": "stream",
     "text": [
      "C:\\Users\\sambit\\AppData\\Local\\Temp\\ipykernel_8812\\2134189346.py:7: FutureWarning: \n",
      "        Use pd.to_datetime instead.\n",
      "\n",
      "  actigraph_data = pd.read_csv(data_path, usecols=['Actigraph Time', 'Actigraph Second Fraction', 'Actigraph X', 'Actigraph Y', 'Actigraph Z', 'Actigraph Magnitude'], parse_dates=[[0,1]], date_parser=parser_apple).dropna()\n"
     ]
    },
    {
     "name": "stdout",
     "output_type": "stream",
     "text": [
      "(379100, 5)\n",
      "Processing Participant 2532 60/191\n"
     ]
    },
    {
     "name": "stderr",
     "output_type": "stream",
     "text": [
      "C:\\Users\\sambit\\AppData\\Local\\Temp\\ipykernel_8812\\2134189346.py:7: FutureWarning: \n",
      "        Use pd.to_datetime instead.\n",
      "\n",
      "  actigraph_data = pd.read_csv(data_path, usecols=['Actigraph Time', 'Actigraph Second Fraction', 'Actigraph X', 'Actigraph Y', 'Actigraph Z', 'Actigraph Magnitude'], parse_dates=[[0,1]], date_parser=parser_apple).dropna()\n"
     ]
    },
    {
     "name": "stdout",
     "output_type": "stream",
     "text": [
      "(385600, 5)\n",
      "Processing Participant 2533 61/191\n"
     ]
    },
    {
     "name": "stderr",
     "output_type": "stream",
     "text": [
      "C:\\Users\\sambit\\AppData\\Local\\Temp\\ipykernel_8812\\2134189346.py:7: FutureWarning: \n",
      "        Use pd.to_datetime instead.\n",
      "\n",
      "  actigraph_data = pd.read_csv(data_path, usecols=['Actigraph Time', 'Actigraph Second Fraction', 'Actigraph X', 'Actigraph Y', 'Actigraph Z', 'Actigraph Magnitude'], parse_dates=[[0,1]], date_parser=parser_apple).dropna()\n"
     ]
    },
    {
     "name": "stdout",
     "output_type": "stream",
     "text": [
      "(362300, 5)\n",
      "Processing Participant 2540 62/191\n"
     ]
    },
    {
     "name": "stderr",
     "output_type": "stream",
     "text": [
      "C:\\Users\\sambit\\AppData\\Local\\Temp\\ipykernel_8812\\2134189346.py:7: FutureWarning: \n",
      "        Use pd.to_datetime instead.\n",
      "\n",
      "  actigraph_data = pd.read_csv(data_path, usecols=['Actigraph Time', 'Actigraph Second Fraction', 'Actigraph X', 'Actigraph Y', 'Actigraph Z', 'Actigraph Magnitude'], parse_dates=[[0,1]], date_parser=parser_apple).dropna()\n"
     ]
    },
    {
     "name": "stdout",
     "output_type": "stream",
     "text": [
      "(358000, 5)\n",
      "Processing Participant 2541 63/191\n"
     ]
    },
    {
     "name": "stderr",
     "output_type": "stream",
     "text": [
      "C:\\Users\\sambit\\AppData\\Local\\Temp\\ipykernel_8812\\2134189346.py:7: FutureWarning: \n",
      "        Use pd.to_datetime instead.\n",
      "\n",
      "  actigraph_data = pd.read_csv(data_path, usecols=['Actigraph Time', 'Actigraph Second Fraction', 'Actigraph X', 'Actigraph Y', 'Actigraph Z', 'Actigraph Magnitude'], parse_dates=[[0,1]], date_parser=parser_apple).dropna()\n"
     ]
    },
    {
     "name": "stdout",
     "output_type": "stream",
     "text": [
      "(407100, 5)\n"
     ]
    },
    {
     "name": "stderr",
     "output_type": "stream",
     "text": [
      "C:\\Users\\sambit\\AppData\\Local\\Temp\\ipykernel_8812\\2264439755.py:64: RuntimeWarning: Precision loss occurred in moment calculation due to catastrophic cancellation. This occurs when the data are nearly identical. Results may be unreliable.\n",
      "  output[output_iter, 13] = moment(mag_win, 3)\n",
      "C:\\Users\\sambit\\AppData\\Local\\Temp\\ipykernel_8812\\2264439755.py:66: RuntimeWarning: Precision loss occurred in moment calculation due to catastrophic cancellation. This occurs when the data are nearly identical. Results may be unreliable.\n",
      "  output[output_iter, 14] = moment(mag_win, 4)\n",
      "C:\\Users\\sambit\\AppData\\Local\\Temp\\ipykernel_8812\\2264439755.py:68: RuntimeWarning: Precision loss occurred in moment calculation due to catastrophic cancellation. This occurs when the data are nearly identical. Results may be unreliable.\n",
      "  output[output_iter, 15] = skew(mag_win)\n",
      "C:\\Users\\sambit\\AppData\\Local\\Temp\\ipykernel_8812\\2264439755.py:70: RuntimeWarning: Precision loss occurred in moment calculation due to catastrophic cancellation. This occurs when the data are nearly identical. Results may be unreliable.\n",
      "  output[output_iter, 16] = kurtosis(mag_win)\n"
     ]
    },
    {
     "name": "stdout",
     "output_type": "stream",
     "text": [
      "Processing Participant 2542 64/191\n"
     ]
    },
    {
     "name": "stderr",
     "output_type": "stream",
     "text": [
      "C:\\Users\\sambit\\AppData\\Local\\Temp\\ipykernel_8812\\2134189346.py:7: FutureWarning: \n",
      "        Use pd.to_datetime instead.\n",
      "\n",
      "  actigraph_data = pd.read_csv(data_path, usecols=['Actigraph Time', 'Actigraph Second Fraction', 'Actigraph X', 'Actigraph Y', 'Actigraph Z', 'Actigraph Magnitude'], parse_dates=[[0,1]], date_parser=parser_apple).dropna()\n"
     ]
    },
    {
     "name": "stdout",
     "output_type": "stream",
     "text": [
      "(435500, 5)\n",
      "Processing Participant 2543 65/191\n"
     ]
    },
    {
     "name": "stderr",
     "output_type": "stream",
     "text": [
      "C:\\Users\\sambit\\AppData\\Local\\Temp\\ipykernel_8812\\2134189346.py:7: FutureWarning: \n",
      "        Use pd.to_datetime instead.\n",
      "\n",
      "  actigraph_data = pd.read_csv(data_path, usecols=['Actigraph Time', 'Actigraph Second Fraction', 'Actigraph X', 'Actigraph Y', 'Actigraph Z', 'Actigraph Magnitude'], parse_dates=[[0,1]], date_parser=parser_apple).dropna()\n"
     ]
    },
    {
     "name": "stdout",
     "output_type": "stream",
     "text": [
      "(407500, 5)\n",
      "Processing Participant 2544 66/191\n"
     ]
    },
    {
     "name": "stderr",
     "output_type": "stream",
     "text": [
      "C:\\Users\\sambit\\AppData\\Local\\Temp\\ipykernel_8812\\2134189346.py:7: FutureWarning: \n",
      "        Use pd.to_datetime instead.\n",
      "\n",
      "  actigraph_data = pd.read_csv(data_path, usecols=['Actigraph Time', 'Actigraph Second Fraction', 'Actigraph X', 'Actigraph Y', 'Actigraph Z', 'Actigraph Magnitude'], parse_dates=[[0,1]], date_parser=parser_apple).dropna()\n"
     ]
    },
    {
     "name": "stdout",
     "output_type": "stream",
     "text": [
      "(367900, 5)\n",
      "Processing Participant 2545 67/191\n"
     ]
    },
    {
     "name": "stderr",
     "output_type": "stream",
     "text": [
      "C:\\Users\\sambit\\AppData\\Local\\Temp\\ipykernel_8812\\2134189346.py:7: FutureWarning: \n",
      "        Use pd.to_datetime instead.\n",
      "\n",
      "  actigraph_data = pd.read_csv(data_path, usecols=['Actigraph Time', 'Actigraph Second Fraction', 'Actigraph X', 'Actigraph Y', 'Actigraph Z', 'Actigraph Magnitude'], parse_dates=[[0,1]], date_parser=parser_apple).dropna()\n"
     ]
    },
    {
     "name": "stdout",
     "output_type": "stream",
     "text": [
      "(458200, 5)\n"
     ]
    },
    {
     "name": "stderr",
     "output_type": "stream",
     "text": [
      "C:\\Users\\sambit\\AppData\\Local\\Temp\\ipykernel_8812\\2264439755.py:64: RuntimeWarning: Precision loss occurred in moment calculation due to catastrophic cancellation. This occurs when the data are nearly identical. Results may be unreliable.\n",
      "  output[output_iter, 13] = moment(mag_win, 3)\n",
      "C:\\Users\\sambit\\AppData\\Local\\Temp\\ipykernel_8812\\2264439755.py:66: RuntimeWarning: Precision loss occurred in moment calculation due to catastrophic cancellation. This occurs when the data are nearly identical. Results may be unreliable.\n",
      "  output[output_iter, 14] = moment(mag_win, 4)\n",
      "C:\\Users\\sambit\\AppData\\Local\\Temp\\ipykernel_8812\\2264439755.py:68: RuntimeWarning: Precision loss occurred in moment calculation due to catastrophic cancellation. This occurs when the data are nearly identical. Results may be unreliable.\n",
      "  output[output_iter, 15] = skew(mag_win)\n",
      "C:\\Users\\sambit\\AppData\\Local\\Temp\\ipykernel_8812\\2264439755.py:70: RuntimeWarning: Precision loss occurred in moment calculation due to catastrophic cancellation. This occurs when the data are nearly identical. Results may be unreliable.\n",
      "  output[output_iter, 16] = kurtosis(mag_win)\n"
     ]
    },
    {
     "name": "stdout",
     "output_type": "stream",
     "text": [
      "Processing Participant 2546 68/191\n"
     ]
    },
    {
     "name": "stderr",
     "output_type": "stream",
     "text": [
      "C:\\Users\\sambit\\AppData\\Local\\Temp\\ipykernel_8812\\2134189346.py:7: FutureWarning: \n",
      "        Use pd.to_datetime instead.\n",
      "\n",
      "  actigraph_data = pd.read_csv(data_path, usecols=['Actigraph Time', 'Actigraph Second Fraction', 'Actigraph X', 'Actigraph Y', 'Actigraph Z', 'Actigraph Magnitude'], parse_dates=[[0,1]], date_parser=parser_apple).dropna()\n"
     ]
    },
    {
     "name": "stdout",
     "output_type": "stream",
     "text": [
      "(222800, 5)\n"
     ]
    },
    {
     "name": "stderr",
     "output_type": "stream",
     "text": [
      "C:\\Users\\sambit\\AppData\\Local\\Temp\\ipykernel_8812\\2264439755.py:64: RuntimeWarning: Precision loss occurred in moment calculation due to catastrophic cancellation. This occurs when the data are nearly identical. Results may be unreliable.\n",
      "  output[output_iter, 13] = moment(mag_win, 3)\n",
      "C:\\Users\\sambit\\AppData\\Local\\Temp\\ipykernel_8812\\2264439755.py:66: RuntimeWarning: Precision loss occurred in moment calculation due to catastrophic cancellation. This occurs when the data are nearly identical. Results may be unreliable.\n",
      "  output[output_iter, 14] = moment(mag_win, 4)\n",
      "C:\\Users\\sambit\\AppData\\Local\\Temp\\ipykernel_8812\\2264439755.py:68: RuntimeWarning: Precision loss occurred in moment calculation due to catastrophic cancellation. This occurs when the data are nearly identical. Results may be unreliable.\n",
      "  output[output_iter, 15] = skew(mag_win)\n",
      "C:\\Users\\sambit\\AppData\\Local\\Temp\\ipykernel_8812\\2264439755.py:70: RuntimeWarning: Precision loss occurred in moment calculation due to catastrophic cancellation. This occurs when the data are nearly identical. Results may be unreliable.\n",
      "  output[output_iter, 16] = kurtosis(mag_win)\n"
     ]
    },
    {
     "name": "stdout",
     "output_type": "stream",
     "text": [
      "Processing Participant 2557 69/191\n"
     ]
    },
    {
     "name": "stderr",
     "output_type": "stream",
     "text": [
      "C:\\Users\\sambit\\AppData\\Local\\Temp\\ipykernel_8812\\2134189346.py:7: FutureWarning: \n",
      "        Use pd.to_datetime instead.\n",
      "\n",
      "  actigraph_data = pd.read_csv(data_path, usecols=['Actigraph Time', 'Actigraph Second Fraction', 'Actigraph X', 'Actigraph Y', 'Actigraph Z', 'Actigraph Magnitude'], parse_dates=[[0,1]], date_parser=parser_apple).dropna()\n"
     ]
    },
    {
     "name": "stdout",
     "output_type": "stream",
     "text": [
      "(404800, 5)\n"
     ]
    },
    {
     "name": "stderr",
     "output_type": "stream",
     "text": [
      "C:\\Users\\sambit\\AppData\\Local\\Temp\\ipykernel_8812\\2264439755.py:64: RuntimeWarning: Precision loss occurred in moment calculation due to catastrophic cancellation. This occurs when the data are nearly identical. Results may be unreliable.\n",
      "  output[output_iter, 13] = moment(mag_win, 3)\n",
      "C:\\Users\\sambit\\AppData\\Local\\Temp\\ipykernel_8812\\2264439755.py:66: RuntimeWarning: Precision loss occurred in moment calculation due to catastrophic cancellation. This occurs when the data are nearly identical. Results may be unreliable.\n",
      "  output[output_iter, 14] = moment(mag_win, 4)\n",
      "C:\\Users\\sambit\\AppData\\Local\\Temp\\ipykernel_8812\\2264439755.py:68: RuntimeWarning: Precision loss occurred in moment calculation due to catastrophic cancellation. This occurs when the data are nearly identical. Results may be unreliable.\n",
      "  output[output_iter, 15] = skew(mag_win)\n",
      "C:\\Users\\sambit\\AppData\\Local\\Temp\\ipykernel_8812\\2264439755.py:70: RuntimeWarning: Precision loss occurred in moment calculation due to catastrophic cancellation. This occurs when the data are nearly identical. Results may be unreliable.\n",
      "  output[output_iter, 16] = kurtosis(mag_win)\n",
      "C:\\Users\\sambit\\AppData\\Local\\anaconda3\\lib\\site-packages\\statsmodels\\tsa\\stattools.py:681: RuntimeWarning: invalid value encountered in divide\n",
      "  acf = avf[: nlags + 1] / avf[0]\n"
     ]
    },
    {
     "name": "stdout",
     "output_type": "stream",
     "text": [
      "Processing Participant 2558 70/191\n"
     ]
    },
    {
     "name": "stderr",
     "output_type": "stream",
     "text": [
      "C:\\Users\\sambit\\AppData\\Local\\Temp\\ipykernel_8812\\2134189346.py:7: FutureWarning: \n",
      "        Use pd.to_datetime instead.\n",
      "\n",
      "  actigraph_data = pd.read_csv(data_path, usecols=['Actigraph Time', 'Actigraph Second Fraction', 'Actigraph X', 'Actigraph Y', 'Actigraph Z', 'Actigraph Magnitude'], parse_dates=[[0,1]], date_parser=parser_apple).dropna()\n"
     ]
    },
    {
     "name": "stdout",
     "output_type": "stream",
     "text": [
      "(415200, 5)\n"
     ]
    },
    {
     "name": "stderr",
     "output_type": "stream",
     "text": [
      "C:\\Users\\sambit\\AppData\\Local\\Temp\\ipykernel_8812\\2264439755.py:64: RuntimeWarning: Precision loss occurred in moment calculation due to catastrophic cancellation. This occurs when the data are nearly identical. Results may be unreliable.\n",
      "  output[output_iter, 13] = moment(mag_win, 3)\n",
      "C:\\Users\\sambit\\AppData\\Local\\Temp\\ipykernel_8812\\2264439755.py:66: RuntimeWarning: Precision loss occurred in moment calculation due to catastrophic cancellation. This occurs when the data are nearly identical. Results may be unreliable.\n",
      "  output[output_iter, 14] = moment(mag_win, 4)\n",
      "C:\\Users\\sambit\\AppData\\Local\\Temp\\ipykernel_8812\\2264439755.py:68: RuntimeWarning: Precision loss occurred in moment calculation due to catastrophic cancellation. This occurs when the data are nearly identical. Results may be unreliable.\n",
      "  output[output_iter, 15] = skew(mag_win)\n",
      "C:\\Users\\sambit\\AppData\\Local\\Temp\\ipykernel_8812\\2264439755.py:70: RuntimeWarning: Precision loss occurred in moment calculation due to catastrophic cancellation. This occurs when the data are nearly identical. Results may be unreliable.\n",
      "  output[output_iter, 16] = kurtosis(mag_win)\n"
     ]
    },
    {
     "name": "stdout",
     "output_type": "stream",
     "text": [
      "Processing Participant 2559 71/191\n"
     ]
    },
    {
     "name": "stderr",
     "output_type": "stream",
     "text": [
      "C:\\Users\\sambit\\AppData\\Local\\Temp\\ipykernel_8812\\2134189346.py:7: FutureWarning: \n",
      "        Use pd.to_datetime instead.\n",
      "\n",
      "  actigraph_data = pd.read_csv(data_path, usecols=['Actigraph Time', 'Actigraph Second Fraction', 'Actigraph X', 'Actigraph Y', 'Actigraph Z', 'Actigraph Magnitude'], parse_dates=[[0,1]], date_parser=parser_apple).dropna()\n"
     ]
    },
    {
     "name": "stdout",
     "output_type": "stream",
     "text": [
      "(426100, 5)\n"
     ]
    },
    {
     "name": "stderr",
     "output_type": "stream",
     "text": [
      "C:\\Users\\sambit\\AppData\\Local\\Temp\\ipykernel_8812\\2264439755.py:64: RuntimeWarning: Precision loss occurred in moment calculation due to catastrophic cancellation. This occurs when the data are nearly identical. Results may be unreliable.\n",
      "  output[output_iter, 13] = moment(mag_win, 3)\n",
      "C:\\Users\\sambit\\AppData\\Local\\Temp\\ipykernel_8812\\2264439755.py:66: RuntimeWarning: Precision loss occurred in moment calculation due to catastrophic cancellation. This occurs when the data are nearly identical. Results may be unreliable.\n",
      "  output[output_iter, 14] = moment(mag_win, 4)\n",
      "C:\\Users\\sambit\\AppData\\Local\\Temp\\ipykernel_8812\\2264439755.py:68: RuntimeWarning: Precision loss occurred in moment calculation due to catastrophic cancellation. This occurs when the data are nearly identical. Results may be unreliable.\n",
      "  output[output_iter, 15] = skew(mag_win)\n",
      "C:\\Users\\sambit\\AppData\\Local\\Temp\\ipykernel_8812\\2264439755.py:70: RuntimeWarning: Precision loss occurred in moment calculation due to catastrophic cancellation. This occurs when the data are nearly identical. Results may be unreliable.\n",
      "  output[output_iter, 16] = kurtosis(mag_win)\n"
     ]
    },
    {
     "name": "stdout",
     "output_type": "stream",
     "text": [
      "Processing Participant 2560 72/191\n"
     ]
    },
    {
     "name": "stderr",
     "output_type": "stream",
     "text": [
      "C:\\Users\\sambit\\AppData\\Local\\Temp\\ipykernel_8812\\2134189346.py:7: FutureWarning: \n",
      "        Use pd.to_datetime instead.\n",
      "\n",
      "  actigraph_data = pd.read_csv(data_path, usecols=['Actigraph Time', 'Actigraph Second Fraction', 'Actigraph X', 'Actigraph Y', 'Actigraph Z', 'Actigraph Magnitude'], parse_dates=[[0,1]], date_parser=parser_apple).dropna()\n"
     ]
    },
    {
     "name": "stdout",
     "output_type": "stream",
     "text": [
      "(398600, 5)\n"
     ]
    },
    {
     "name": "stderr",
     "output_type": "stream",
     "text": [
      "C:\\Users\\sambit\\AppData\\Local\\Temp\\ipykernel_8812\\2264439755.py:64: RuntimeWarning: Precision loss occurred in moment calculation due to catastrophic cancellation. This occurs when the data are nearly identical. Results may be unreliable.\n",
      "  output[output_iter, 13] = moment(mag_win, 3)\n",
      "C:\\Users\\sambit\\AppData\\Local\\Temp\\ipykernel_8812\\2264439755.py:66: RuntimeWarning: Precision loss occurred in moment calculation due to catastrophic cancellation. This occurs when the data are nearly identical. Results may be unreliable.\n",
      "  output[output_iter, 14] = moment(mag_win, 4)\n",
      "C:\\Users\\sambit\\AppData\\Local\\Temp\\ipykernel_8812\\2264439755.py:68: RuntimeWarning: Precision loss occurred in moment calculation due to catastrophic cancellation. This occurs when the data are nearly identical. Results may be unreliable.\n",
      "  output[output_iter, 15] = skew(mag_win)\n",
      "C:\\Users\\sambit\\AppData\\Local\\Temp\\ipykernel_8812\\2264439755.py:70: RuntimeWarning: Precision loss occurred in moment calculation due to catastrophic cancellation. This occurs when the data are nearly identical. Results may be unreliable.\n",
      "  output[output_iter, 16] = kurtosis(mag_win)\n"
     ]
    },
    {
     "name": "stdout",
     "output_type": "stream",
     "text": [
      "Processing Participant 2566 73/191\n"
     ]
    },
    {
     "name": "stderr",
     "output_type": "stream",
     "text": [
      "C:\\Users\\sambit\\AppData\\Local\\Temp\\ipykernel_8812\\2134189346.py:7: FutureWarning: \n",
      "        Use pd.to_datetime instead.\n",
      "\n",
      "  actigraph_data = pd.read_csv(data_path, usecols=['Actigraph Time', 'Actigraph Second Fraction', 'Actigraph X', 'Actigraph Y', 'Actigraph Z', 'Actigraph Magnitude'], parse_dates=[[0,1]], date_parser=parser_apple).dropna()\n"
     ]
    },
    {
     "name": "stdout",
     "output_type": "stream",
     "text": [
      "(380600, 5)\n"
     ]
    },
    {
     "name": "stderr",
     "output_type": "stream",
     "text": [
      "C:\\Users\\sambit\\AppData\\Local\\Temp\\ipykernel_8812\\2264439755.py:64: RuntimeWarning: Precision loss occurred in moment calculation due to catastrophic cancellation. This occurs when the data are nearly identical. Results may be unreliable.\n",
      "  output[output_iter, 13] = moment(mag_win, 3)\n",
      "C:\\Users\\sambit\\AppData\\Local\\Temp\\ipykernel_8812\\2264439755.py:66: RuntimeWarning: Precision loss occurred in moment calculation due to catastrophic cancellation. This occurs when the data are nearly identical. Results may be unreliable.\n",
      "  output[output_iter, 14] = moment(mag_win, 4)\n",
      "C:\\Users\\sambit\\AppData\\Local\\Temp\\ipykernel_8812\\2264439755.py:68: RuntimeWarning: Precision loss occurred in moment calculation due to catastrophic cancellation. This occurs when the data are nearly identical. Results may be unreliable.\n",
      "  output[output_iter, 15] = skew(mag_win)\n",
      "C:\\Users\\sambit\\AppData\\Local\\Temp\\ipykernel_8812\\2264439755.py:70: RuntimeWarning: Precision loss occurred in moment calculation due to catastrophic cancellation. This occurs when the data are nearly identical. Results may be unreliable.\n",
      "  output[output_iter, 16] = kurtosis(mag_win)\n"
     ]
    },
    {
     "name": "stdout",
     "output_type": "stream",
     "text": [
      "Processing Participant 2576 74/191\n"
     ]
    },
    {
     "name": "stderr",
     "output_type": "stream",
     "text": [
      "C:\\Users\\sambit\\AppData\\Local\\Temp\\ipykernel_8812\\2134189346.py:7: FutureWarning: \n",
      "        Use pd.to_datetime instead.\n",
      "\n",
      "  actigraph_data = pd.read_csv(data_path, usecols=['Actigraph Time', 'Actigraph Second Fraction', 'Actigraph X', 'Actigraph Y', 'Actigraph Z', 'Actigraph Magnitude'], parse_dates=[[0,1]], date_parser=parser_apple).dropna()\n"
     ]
    },
    {
     "name": "stdout",
     "output_type": "stream",
     "text": [
      "(379500, 5)\n",
      "Processing Participant 2584 75/191\n"
     ]
    },
    {
     "name": "stderr",
     "output_type": "stream",
     "text": [
      "C:\\Users\\sambit\\AppData\\Local\\Temp\\ipykernel_8812\\2134189346.py:7: FutureWarning: \n",
      "        Use pd.to_datetime instead.\n",
      "\n",
      "  actigraph_data = pd.read_csv(data_path, usecols=['Actigraph Time', 'Actigraph Second Fraction', 'Actigraph X', 'Actigraph Y', 'Actigraph Z', 'Actigraph Magnitude'], parse_dates=[[0,1]], date_parser=parser_apple).dropna()\n"
     ]
    },
    {
     "name": "stdout",
     "output_type": "stream",
     "text": [
      "(379500, 5)\n",
      "Processing Participant 2588 76/191\n"
     ]
    },
    {
     "name": "stderr",
     "output_type": "stream",
     "text": [
      "C:\\Users\\sambit\\AppData\\Local\\Temp\\ipykernel_8812\\2134189346.py:7: FutureWarning: \n",
      "        Use pd.to_datetime instead.\n",
      "\n",
      "  actigraph_data = pd.read_csv(data_path, usecols=['Actigraph Time', 'Actigraph Second Fraction', 'Actigraph X', 'Actigraph Y', 'Actigraph Z', 'Actigraph Magnitude'], parse_dates=[[0,1]], date_parser=parser_apple).dropna()\n"
     ]
    },
    {
     "name": "stdout",
     "output_type": "stream",
     "text": [
      "(433000, 5)\n",
      "Processing Participant 2589 77/191\n"
     ]
    },
    {
     "name": "stderr",
     "output_type": "stream",
     "text": [
      "C:\\Users\\sambit\\AppData\\Local\\Temp\\ipykernel_8812\\2134189346.py:7: FutureWarning: \n",
      "        Use pd.to_datetime instead.\n",
      "\n",
      "  actigraph_data = pd.read_csv(data_path, usecols=['Actigraph Time', 'Actigraph Second Fraction', 'Actigraph X', 'Actigraph Y', 'Actigraph Z', 'Actigraph Magnitude'], parse_dates=[[0,1]], date_parser=parser_apple).dropna()\n"
     ]
    },
    {
     "name": "stdout",
     "output_type": "stream",
     "text": [
      "(431700, 5)\n"
     ]
    },
    {
     "name": "stderr",
     "output_type": "stream",
     "text": [
      "C:\\Users\\sambit\\AppData\\Local\\Temp\\ipykernel_8812\\2264439755.py:64: RuntimeWarning: Precision loss occurred in moment calculation due to catastrophic cancellation. This occurs when the data are nearly identical. Results may be unreliable.\n",
      "  output[output_iter, 13] = moment(mag_win, 3)\n",
      "C:\\Users\\sambit\\AppData\\Local\\Temp\\ipykernel_8812\\2264439755.py:66: RuntimeWarning: Precision loss occurred in moment calculation due to catastrophic cancellation. This occurs when the data are nearly identical. Results may be unreliable.\n",
      "  output[output_iter, 14] = moment(mag_win, 4)\n",
      "C:\\Users\\sambit\\AppData\\Local\\Temp\\ipykernel_8812\\2264439755.py:68: RuntimeWarning: Precision loss occurred in moment calculation due to catastrophic cancellation. This occurs when the data are nearly identical. Results may be unreliable.\n",
      "  output[output_iter, 15] = skew(mag_win)\n",
      "C:\\Users\\sambit\\AppData\\Local\\Temp\\ipykernel_8812\\2264439755.py:70: RuntimeWarning: Precision loss occurred in moment calculation due to catastrophic cancellation. This occurs when the data are nearly identical. Results may be unreliable.\n",
      "  output[output_iter, 16] = kurtosis(mag_win)\n",
      "C:\\Users\\sambit\\AppData\\Local\\anaconda3\\lib\\site-packages\\statsmodels\\tsa\\stattools.py:681: RuntimeWarning: invalid value encountered in divide\n",
      "  acf = avf[: nlags + 1] / avf[0]\n"
     ]
    },
    {
     "name": "stdout",
     "output_type": "stream",
     "text": [
      "Processing Participant 2596 78/191\n"
     ]
    },
    {
     "name": "stderr",
     "output_type": "stream",
     "text": [
      "C:\\Users\\sambit\\AppData\\Local\\Temp\\ipykernel_8812\\2134189346.py:7: FutureWarning: \n",
      "        Use pd.to_datetime instead.\n",
      "\n",
      "  actigraph_data = pd.read_csv(data_path, usecols=['Actigraph Time', 'Actigraph Second Fraction', 'Actigraph X', 'Actigraph Y', 'Actigraph Z', 'Actigraph Magnitude'], parse_dates=[[0,1]], date_parser=parser_apple).dropna()\n"
     ]
    },
    {
     "name": "stdout",
     "output_type": "stream",
     "text": [
      "(390400, 5)\n",
      "Processing Participant 2601 79/191\n"
     ]
    },
    {
     "name": "stderr",
     "output_type": "stream",
     "text": [
      "C:\\Users\\sambit\\AppData\\Local\\Temp\\ipykernel_8812\\2134189346.py:7: FutureWarning: \n",
      "        Use pd.to_datetime instead.\n",
      "\n",
      "  actigraph_data = pd.read_csv(data_path, usecols=['Actigraph Time', 'Actigraph Second Fraction', 'Actigraph X', 'Actigraph Y', 'Actigraph Z', 'Actigraph Magnitude'], parse_dates=[[0,1]], date_parser=parser_apple).dropna()\n"
     ]
    },
    {
     "name": "stdout",
     "output_type": "stream",
     "text": [
      "(464400, 5)\n",
      "Processing Participant 2604 80/191\n"
     ]
    },
    {
     "name": "stderr",
     "output_type": "stream",
     "text": [
      "C:\\Users\\sambit\\AppData\\Local\\Temp\\ipykernel_8812\\2134189346.py:7: FutureWarning: \n",
      "        Use pd.to_datetime instead.\n",
      "\n",
      "  actigraph_data = pd.read_csv(data_path, usecols=['Actigraph Time', 'Actigraph Second Fraction', 'Actigraph X', 'Actigraph Y', 'Actigraph Z', 'Actigraph Magnitude'], parse_dates=[[0,1]], date_parser=parser_apple).dropna()\n"
     ]
    },
    {
     "name": "stdout",
     "output_type": "stream",
     "text": [
      "(402900, 5)\n",
      "Processing Participant 2605 81/191\n"
     ]
    },
    {
     "name": "stderr",
     "output_type": "stream",
     "text": [
      "C:\\Users\\sambit\\AppData\\Local\\Temp\\ipykernel_8812\\2134189346.py:7: FutureWarning: \n",
      "        Use pd.to_datetime instead.\n",
      "\n",
      "  actigraph_data = pd.read_csv(data_path, usecols=['Actigraph Time', 'Actigraph Second Fraction', 'Actigraph X', 'Actigraph Y', 'Actigraph Z', 'Actigraph Magnitude'], parse_dates=[[0,1]], date_parser=parser_apple).dropna()\n"
     ]
    },
    {
     "name": "stdout",
     "output_type": "stream",
     "text": [
      "(409700, 5)\n"
     ]
    },
    {
     "name": "stderr",
     "output_type": "stream",
     "text": [
      "C:\\Users\\sambit\\AppData\\Local\\Temp\\ipykernel_8812\\2264439755.py:64: RuntimeWarning: Precision loss occurred in moment calculation due to catastrophic cancellation. This occurs when the data are nearly identical. Results may be unreliable.\n",
      "  output[output_iter, 13] = moment(mag_win, 3)\n",
      "C:\\Users\\sambit\\AppData\\Local\\Temp\\ipykernel_8812\\2264439755.py:66: RuntimeWarning: Precision loss occurred in moment calculation due to catastrophic cancellation. This occurs when the data are nearly identical. Results may be unreliable.\n",
      "  output[output_iter, 14] = moment(mag_win, 4)\n",
      "C:\\Users\\sambit\\AppData\\Local\\Temp\\ipykernel_8812\\2264439755.py:68: RuntimeWarning: Precision loss occurred in moment calculation due to catastrophic cancellation. This occurs when the data are nearly identical. Results may be unreliable.\n",
      "  output[output_iter, 15] = skew(mag_win)\n",
      "C:\\Users\\sambit\\AppData\\Local\\Temp\\ipykernel_8812\\2264439755.py:70: RuntimeWarning: Precision loss occurred in moment calculation due to catastrophic cancellation. This occurs when the data are nearly identical. Results may be unreliable.\n",
      "  output[output_iter, 16] = kurtosis(mag_win)\n",
      "C:\\Users\\sambit\\AppData\\Local\\anaconda3\\lib\\site-packages\\statsmodels\\tsa\\stattools.py:681: RuntimeWarning: invalid value encountered in divide\n",
      "  acf = avf[: nlags + 1] / avf[0]\n"
     ]
    },
    {
     "name": "stdout",
     "output_type": "stream",
     "text": [
      "Processing Participant 2608 82/191\n"
     ]
    },
    {
     "name": "stderr",
     "output_type": "stream",
     "text": [
      "C:\\Users\\sambit\\AppData\\Local\\Temp\\ipykernel_8812\\2134189346.py:7: FutureWarning: \n",
      "        Use pd.to_datetime instead.\n",
      "\n",
      "  actigraph_data = pd.read_csv(data_path, usecols=['Actigraph Time', 'Actigraph Second Fraction', 'Actigraph X', 'Actigraph Y', 'Actigraph Z', 'Actigraph Magnitude'], parse_dates=[[0,1]], date_parser=parser_apple).dropna()\n"
     ]
    },
    {
     "name": "stdout",
     "output_type": "stream",
     "text": [
      "(386800, 5)\n",
      "Processing Participant 2611 83/191\n"
     ]
    },
    {
     "name": "stderr",
     "output_type": "stream",
     "text": [
      "C:\\Users\\sambit\\AppData\\Local\\Temp\\ipykernel_8812\\2134189346.py:7: FutureWarning: \n",
      "        Use pd.to_datetime instead.\n",
      "\n",
      "  actigraph_data = pd.read_csv(data_path, usecols=['Actigraph Time', 'Actigraph Second Fraction', 'Actigraph X', 'Actigraph Y', 'Actigraph Z', 'Actigraph Magnitude'], parse_dates=[[0,1]], date_parser=parser_apple).dropna()\n"
     ]
    },
    {
     "name": "stdout",
     "output_type": "stream",
     "text": [
      "(475300, 5)\n",
      "Processing Participant 2612 84/191\n"
     ]
    },
    {
     "name": "stderr",
     "output_type": "stream",
     "text": [
      "C:\\Users\\sambit\\AppData\\Local\\Temp\\ipykernel_8812\\2134189346.py:7: FutureWarning: \n",
      "        Use pd.to_datetime instead.\n",
      "\n",
      "  actigraph_data = pd.read_csv(data_path, usecols=['Actigraph Time', 'Actigraph Second Fraction', 'Actigraph X', 'Actigraph Y', 'Actigraph Z', 'Actigraph Magnitude'], parse_dates=[[0,1]], date_parser=parser_apple).dropna()\n"
     ]
    },
    {
     "name": "stdout",
     "output_type": "stream",
     "text": [
      "(440100, 5)\n",
      "Processing Participant 2613 85/191\n"
     ]
    },
    {
     "name": "stderr",
     "output_type": "stream",
     "text": [
      "C:\\Users\\sambit\\AppData\\Local\\Temp\\ipykernel_8812\\2134189346.py:7: FutureWarning: \n",
      "        Use pd.to_datetime instead.\n",
      "\n",
      "  actigraph_data = pd.read_csv(data_path, usecols=['Actigraph Time', 'Actigraph Second Fraction', 'Actigraph X', 'Actigraph Y', 'Actigraph Z', 'Actigraph Magnitude'], parse_dates=[[0,1]], date_parser=parser_apple).dropna()\n"
     ]
    },
    {
     "name": "stdout",
     "output_type": "stream",
     "text": [
      "(448600, 5)\n"
     ]
    },
    {
     "name": "stderr",
     "output_type": "stream",
     "text": [
      "C:\\Users\\sambit\\AppData\\Local\\Temp\\ipykernel_8812\\2264439755.py:64: RuntimeWarning: Precision loss occurred in moment calculation due to catastrophic cancellation. This occurs when the data are nearly identical. Results may be unreliable.\n",
      "  output[output_iter, 13] = moment(mag_win, 3)\n",
      "C:\\Users\\sambit\\AppData\\Local\\Temp\\ipykernel_8812\\2264439755.py:66: RuntimeWarning: Precision loss occurred in moment calculation due to catastrophic cancellation. This occurs when the data are nearly identical. Results may be unreliable.\n",
      "  output[output_iter, 14] = moment(mag_win, 4)\n",
      "C:\\Users\\sambit\\AppData\\Local\\Temp\\ipykernel_8812\\2264439755.py:68: RuntimeWarning: Precision loss occurred in moment calculation due to catastrophic cancellation. This occurs when the data are nearly identical. Results may be unreliable.\n",
      "  output[output_iter, 15] = skew(mag_win)\n",
      "C:\\Users\\sambit\\AppData\\Local\\Temp\\ipykernel_8812\\2264439755.py:70: RuntimeWarning: Precision loss occurred in moment calculation due to catastrophic cancellation. This occurs when the data are nearly identical. Results may be unreliable.\n",
      "  output[output_iter, 16] = kurtosis(mag_win)\n",
      "C:\\Users\\sambit\\AppData\\Local\\anaconda3\\lib\\site-packages\\statsmodels\\tsa\\stattools.py:681: RuntimeWarning: invalid value encountered in divide\n",
      "  acf = avf[: nlags + 1] / avf[0]\n"
     ]
    },
    {
     "name": "stdout",
     "output_type": "stream",
     "text": [
      "Processing Participant 2628 86/191\n"
     ]
    },
    {
     "name": "stderr",
     "output_type": "stream",
     "text": [
      "C:\\Users\\sambit\\AppData\\Local\\Temp\\ipykernel_8812\\2134189346.py:7: FutureWarning: \n",
      "        Use pd.to_datetime instead.\n",
      "\n",
      "  actigraph_data = pd.read_csv(data_path, usecols=['Actigraph Time', 'Actigraph Second Fraction', 'Actigraph X', 'Actigraph Y', 'Actigraph Z', 'Actigraph Magnitude'], parse_dates=[[0,1]], date_parser=parser_apple).dropna()\n"
     ]
    },
    {
     "name": "stdout",
     "output_type": "stream",
     "text": [
      "(430900, 5)\n",
      "Processing Participant 2629 87/191\n"
     ]
    },
    {
     "name": "stderr",
     "output_type": "stream",
     "text": [
      "C:\\Users\\sambit\\AppData\\Local\\Temp\\ipykernel_8812\\2134189346.py:7: FutureWarning: \n",
      "        Use pd.to_datetime instead.\n",
      "\n",
      "  actigraph_data = pd.read_csv(data_path, usecols=['Actigraph Time', 'Actigraph Second Fraction', 'Actigraph X', 'Actigraph Y', 'Actigraph Z', 'Actigraph Magnitude'], parse_dates=[[0,1]], date_parser=parser_apple).dropna()\n"
     ]
    },
    {
     "name": "stdout",
     "output_type": "stream",
     "text": [
      "(416300, 5)\n",
      "Processing Participant 2630 88/191\n"
     ]
    },
    {
     "name": "stderr",
     "output_type": "stream",
     "text": [
      "C:\\Users\\sambit\\AppData\\Local\\Temp\\ipykernel_8812\\2134189346.py:7: FutureWarning: \n",
      "        Use pd.to_datetime instead.\n",
      "\n",
      "  actigraph_data = pd.read_csv(data_path, usecols=['Actigraph Time', 'Actigraph Second Fraction', 'Actigraph X', 'Actigraph Y', 'Actigraph Z', 'Actigraph Magnitude'], parse_dates=[[0,1]], date_parser=parser_apple).dropna()\n"
     ]
    },
    {
     "name": "stdout",
     "output_type": "stream",
     "text": [
      "(332800, 5)\n",
      "Processing Participant 2631 89/191\n"
     ]
    },
    {
     "name": "stderr",
     "output_type": "stream",
     "text": [
      "C:\\Users\\sambit\\AppData\\Local\\Temp\\ipykernel_8812\\2134189346.py:7: FutureWarning: \n",
      "        Use pd.to_datetime instead.\n",
      "\n",
      "  actigraph_data = pd.read_csv(data_path, usecols=['Actigraph Time', 'Actigraph Second Fraction', 'Actigraph X', 'Actigraph Y', 'Actigraph Z', 'Actigraph Magnitude'], parse_dates=[[0,1]], date_parser=parser_apple).dropna()\n"
     ]
    },
    {
     "name": "stdout",
     "output_type": "stream",
     "text": [
      "(436500, 5)\n",
      "Processing Participant 2635 90/191\n"
     ]
    },
    {
     "name": "stderr",
     "output_type": "stream",
     "text": [
      "C:\\Users\\sambit\\AppData\\Local\\Temp\\ipykernel_8812\\2134189346.py:7: FutureWarning: \n",
      "        Use pd.to_datetime instead.\n",
      "\n",
      "  actigraph_data = pd.read_csv(data_path, usecols=['Actigraph Time', 'Actigraph Second Fraction', 'Actigraph X', 'Actigraph Y', 'Actigraph Z', 'Actigraph Magnitude'], parse_dates=[[0,1]], date_parser=parser_apple).dropna()\n"
     ]
    },
    {
     "name": "stdout",
     "output_type": "stream",
     "text": [
      "(425900, 5)\n",
      "Processing Participant 2637 91/191\n"
     ]
    },
    {
     "name": "stderr",
     "output_type": "stream",
     "text": [
      "C:\\Users\\sambit\\AppData\\Local\\Temp\\ipykernel_8812\\2134189346.py:7: FutureWarning: \n",
      "        Use pd.to_datetime instead.\n",
      "\n",
      "  actigraph_data = pd.read_csv(data_path, usecols=['Actigraph Time', 'Actigraph Second Fraction', 'Actigraph X', 'Actigraph Y', 'Actigraph Z', 'Actigraph Magnitude'], parse_dates=[[0,1]], date_parser=parser_apple).dropna()\n"
     ]
    },
    {
     "name": "stdout",
     "output_type": "stream",
     "text": [
      "(379800, 5)\n",
      "Processing Participant 2639 92/191\n"
     ]
    },
    {
     "name": "stderr",
     "output_type": "stream",
     "text": [
      "C:\\Users\\sambit\\AppData\\Local\\Temp\\ipykernel_8812\\2134189346.py:7: FutureWarning: \n",
      "        Use pd.to_datetime instead.\n",
      "\n",
      "  actigraph_data = pd.read_csv(data_path, usecols=['Actigraph Time', 'Actigraph Second Fraction', 'Actigraph X', 'Actigraph Y', 'Actigraph Z', 'Actigraph Magnitude'], parse_dates=[[0,1]], date_parser=parser_apple).dropna()\n"
     ]
    },
    {
     "name": "stdout",
     "output_type": "stream",
     "text": [
      "(513500, 5)\n",
      "Processing Participant 2640 93/191\n"
     ]
    },
    {
     "name": "stderr",
     "output_type": "stream",
     "text": [
      "C:\\Users\\sambit\\AppData\\Local\\Temp\\ipykernel_8812\\2134189346.py:7: FutureWarning: \n",
      "        Use pd.to_datetime instead.\n",
      "\n",
      "  actigraph_data = pd.read_csv(data_path, usecols=['Actigraph Time', 'Actigraph Second Fraction', 'Actigraph X', 'Actigraph Y', 'Actigraph Z', 'Actigraph Magnitude'], parse_dates=[[0,1]], date_parser=parser_apple).dropna()\n"
     ]
    },
    {
     "name": "stdout",
     "output_type": "stream",
     "text": [
      "(455300, 5)\n",
      "Processing Participant 2641 94/191\n"
     ]
    },
    {
     "name": "stderr",
     "output_type": "stream",
     "text": [
      "C:\\Users\\sambit\\AppData\\Local\\Temp\\ipykernel_8812\\2134189346.py:7: FutureWarning: \n",
      "        Use pd.to_datetime instead.\n",
      "\n",
      "  actigraph_data = pd.read_csv(data_path, usecols=['Actigraph Time', 'Actigraph Second Fraction', 'Actigraph X', 'Actigraph Y', 'Actigraph Z', 'Actigraph Magnitude'], parse_dates=[[0,1]], date_parser=parser_apple).dropna()\n"
     ]
    },
    {
     "name": "stdout",
     "output_type": "stream",
     "text": [
      "(386500, 5)\n",
      "Processing Participant 2642 95/191\n"
     ]
    },
    {
     "name": "stderr",
     "output_type": "stream",
     "text": [
      "C:\\Users\\sambit\\AppData\\Local\\Temp\\ipykernel_8812\\2134189346.py:7: FutureWarning: \n",
      "        Use pd.to_datetime instead.\n",
      "\n",
      "  actigraph_data = pd.read_csv(data_path, usecols=['Actigraph Time', 'Actigraph Second Fraction', 'Actigraph X', 'Actigraph Y', 'Actigraph Z', 'Actigraph Magnitude'], parse_dates=[[0,1]], date_parser=parser_apple).dropna()\n"
     ]
    },
    {
     "name": "stdout",
     "output_type": "stream",
     "text": [
      "(356900, 5)\n",
      "Processing Participant 2643 96/191\n"
     ]
    },
    {
     "name": "stderr",
     "output_type": "stream",
     "text": [
      "C:\\Users\\sambit\\AppData\\Local\\Temp\\ipykernel_8812\\2134189346.py:7: FutureWarning: \n",
      "        Use pd.to_datetime instead.\n",
      "\n",
      "  actigraph_data = pd.read_csv(data_path, usecols=['Actigraph Time', 'Actigraph Second Fraction', 'Actigraph X', 'Actigraph Y', 'Actigraph Z', 'Actigraph Magnitude'], parse_dates=[[0,1]], date_parser=parser_apple).dropna()\n"
     ]
    },
    {
     "name": "stdout",
     "output_type": "stream",
     "text": [
      "(412100, 5)\n",
      "Processing Participant 2644 97/191\n"
     ]
    },
    {
     "name": "stderr",
     "output_type": "stream",
     "text": [
      "C:\\Users\\sambit\\AppData\\Local\\Temp\\ipykernel_8812\\2134189346.py:7: FutureWarning: \n",
      "        Use pd.to_datetime instead.\n",
      "\n",
      "  actigraph_data = pd.read_csv(data_path, usecols=['Actigraph Time', 'Actigraph Second Fraction', 'Actigraph X', 'Actigraph Y', 'Actigraph Z', 'Actigraph Magnitude'], parse_dates=[[0,1]], date_parser=parser_apple).dropna()\n"
     ]
    },
    {
     "name": "stdout",
     "output_type": "stream",
     "text": [
      "(416500, 5)\n",
      "Processing Participant 2645 98/191\n"
     ]
    },
    {
     "name": "stderr",
     "output_type": "stream",
     "text": [
      "C:\\Users\\sambit\\AppData\\Local\\Temp\\ipykernel_8812\\2134189346.py:7: FutureWarning: \n",
      "        Use pd.to_datetime instead.\n",
      "\n",
      "  actigraph_data = pd.read_csv(data_path, usecols=['Actigraph Time', 'Actigraph Second Fraction', 'Actigraph X', 'Actigraph Y', 'Actigraph Z', 'Actigraph Magnitude'], parse_dates=[[0,1]], date_parser=parser_apple).dropna()\n"
     ]
    },
    {
     "name": "stdout",
     "output_type": "stream",
     "text": [
      "(433600, 5)\n",
      "Processing Participant 2646 99/191\n"
     ]
    },
    {
     "name": "stderr",
     "output_type": "stream",
     "text": [
      "C:\\Users\\sambit\\AppData\\Local\\Temp\\ipykernel_8812\\2134189346.py:7: FutureWarning: \n",
      "        Use pd.to_datetime instead.\n",
      "\n",
      "  actigraph_data = pd.read_csv(data_path, usecols=['Actigraph Time', 'Actigraph Second Fraction', 'Actigraph X', 'Actigraph Y', 'Actigraph Z', 'Actigraph Magnitude'], parse_dates=[[0,1]], date_parser=parser_apple).dropna()\n"
     ]
    },
    {
     "name": "stdout",
     "output_type": "stream",
     "text": [
      "(453100, 5)\n",
      "Processing Participant 2647 100/191\n"
     ]
    },
    {
     "name": "stderr",
     "output_type": "stream",
     "text": [
      "C:\\Users\\sambit\\AppData\\Local\\Temp\\ipykernel_8812\\2134189346.py:7: FutureWarning: \n",
      "        Use pd.to_datetime instead.\n",
      "\n",
      "  actigraph_data = pd.read_csv(data_path, usecols=['Actigraph Time', 'Actigraph Second Fraction', 'Actigraph X', 'Actigraph Y', 'Actigraph Z', 'Actigraph Magnitude'], parse_dates=[[0,1]], date_parser=parser_apple).dropna()\n"
     ]
    },
    {
     "name": "stdout",
     "output_type": "stream",
     "text": [
      "(435300, 5)\n",
      "Processing Participant 2648 101/191\n"
     ]
    },
    {
     "name": "stderr",
     "output_type": "stream",
     "text": [
      "C:\\Users\\sambit\\AppData\\Local\\Temp\\ipykernel_8812\\2134189346.py:7: FutureWarning: \n",
      "        Use pd.to_datetime instead.\n",
      "\n",
      "  actigraph_data = pd.read_csv(data_path, usecols=['Actigraph Time', 'Actigraph Second Fraction', 'Actigraph X', 'Actigraph Y', 'Actigraph Z', 'Actigraph Magnitude'], parse_dates=[[0,1]], date_parser=parser_apple).dropna()\n"
     ]
    },
    {
     "name": "stdout",
     "output_type": "stream",
     "text": [
      "(409400, 5)\n",
      "Processing Participant 2649 102/191\n"
     ]
    },
    {
     "name": "stderr",
     "output_type": "stream",
     "text": [
      "C:\\Users\\sambit\\AppData\\Local\\Temp\\ipykernel_8812\\2134189346.py:7: FutureWarning: \n",
      "        Use pd.to_datetime instead.\n",
      "\n",
      "  actigraph_data = pd.read_csv(data_path, usecols=['Actigraph Time', 'Actigraph Second Fraction', 'Actigraph X', 'Actigraph Y', 'Actigraph Z', 'Actigraph Magnitude'], parse_dates=[[0,1]], date_parser=parser_apple).dropna()\n"
     ]
    },
    {
     "name": "stdout",
     "output_type": "stream",
     "text": [
      "(409600, 5)\n",
      "Processing Participant 2650 103/191\n"
     ]
    },
    {
     "name": "stderr",
     "output_type": "stream",
     "text": [
      "C:\\Users\\sambit\\AppData\\Local\\Temp\\ipykernel_8812\\2134189346.py:7: FutureWarning: \n",
      "        Use pd.to_datetime instead.\n",
      "\n",
      "  actigraph_data = pd.read_csv(data_path, usecols=['Actigraph Time', 'Actigraph Second Fraction', 'Actigraph X', 'Actigraph Y', 'Actigraph Z', 'Actigraph Magnitude'], parse_dates=[[0,1]], date_parser=parser_apple).dropna()\n"
     ]
    },
    {
     "name": "stdout",
     "output_type": "stream",
     "text": [
      "(464100, 5)\n",
      "Processing Participant 2651 104/191\n"
     ]
    },
    {
     "name": "stderr",
     "output_type": "stream",
     "text": [
      "C:\\Users\\sambit\\AppData\\Local\\Temp\\ipykernel_8812\\2134189346.py:7: FutureWarning: \n",
      "        Use pd.to_datetime instead.\n",
      "\n",
      "  actigraph_data = pd.read_csv(data_path, usecols=['Actigraph Time', 'Actigraph Second Fraction', 'Actigraph X', 'Actigraph Y', 'Actigraph Z', 'Actigraph Magnitude'], parse_dates=[[0,1]], date_parser=parser_apple).dropna()\n"
     ]
    },
    {
     "name": "stdout",
     "output_type": "stream",
     "text": [
      "(435200, 5)\n",
      "Processing Participant 2653 105/191\n"
     ]
    },
    {
     "name": "stderr",
     "output_type": "stream",
     "text": [
      "C:\\Users\\sambit\\AppData\\Local\\Temp\\ipykernel_8812\\2134189346.py:7: FutureWarning: \n",
      "        Use pd.to_datetime instead.\n",
      "\n",
      "  actigraph_data = pd.read_csv(data_path, usecols=['Actigraph Time', 'Actigraph Second Fraction', 'Actigraph X', 'Actigraph Y', 'Actigraph Z', 'Actigraph Magnitude'], parse_dates=[[0,1]], date_parser=parser_apple).dropna()\n"
     ]
    },
    {
     "name": "stdout",
     "output_type": "stream",
     "text": [
      "(355100, 5)\n",
      "Processing Participant 2657 106/191\n"
     ]
    },
    {
     "name": "stderr",
     "output_type": "stream",
     "text": [
      "C:\\Users\\sambit\\AppData\\Local\\Temp\\ipykernel_8812\\2134189346.py:7: FutureWarning: \n",
      "        Use pd.to_datetime instead.\n",
      "\n",
      "  actigraph_data = pd.read_csv(data_path, usecols=['Actigraph Time', 'Actigraph Second Fraction', 'Actigraph X', 'Actigraph Y', 'Actigraph Z', 'Actigraph Magnitude'], parse_dates=[[0,1]], date_parser=parser_apple).dropna()\n"
     ]
    },
    {
     "name": "stdout",
     "output_type": "stream",
     "text": [
      "(398900, 5)\n",
      "Processing Participant 2661 107/191\n"
     ]
    },
    {
     "name": "stderr",
     "output_type": "stream",
     "text": [
      "C:\\Users\\sambit\\AppData\\Local\\Temp\\ipykernel_8812\\2134189346.py:7: FutureWarning: \n",
      "        Use pd.to_datetime instead.\n",
      "\n",
      "  actigraph_data = pd.read_csv(data_path, usecols=['Actigraph Time', 'Actigraph Second Fraction', 'Actigraph X', 'Actigraph Y', 'Actigraph Z', 'Actigraph Magnitude'], parse_dates=[[0,1]], date_parser=parser_apple).dropna()\n"
     ]
    },
    {
     "name": "stdout",
     "output_type": "stream",
     "text": [
      "(343800, 5)\n",
      "Processing Participant 2662 108/191\n"
     ]
    },
    {
     "name": "stderr",
     "output_type": "stream",
     "text": [
      "C:\\Users\\sambit\\AppData\\Local\\Temp\\ipykernel_8812\\2134189346.py:7: FutureWarning: \n",
      "        Use pd.to_datetime instead.\n",
      "\n",
      "  actigraph_data = pd.read_csv(data_path, usecols=['Actigraph Time', 'Actigraph Second Fraction', 'Actigraph X', 'Actigraph Y', 'Actigraph Z', 'Actigraph Magnitude'], parse_dates=[[0,1]], date_parser=parser_apple).dropna()\n"
     ]
    },
    {
     "name": "stdout",
     "output_type": "stream",
     "text": [
      "(449900, 5)\n",
      "Processing Participant 2663 109/191\n"
     ]
    },
    {
     "name": "stderr",
     "output_type": "stream",
     "text": [
      "C:\\Users\\sambit\\AppData\\Local\\Temp\\ipykernel_8812\\2134189346.py:7: FutureWarning: \n",
      "        Use pd.to_datetime instead.\n",
      "\n",
      "  actigraph_data = pd.read_csv(data_path, usecols=['Actigraph Time', 'Actigraph Second Fraction', 'Actigraph X', 'Actigraph Y', 'Actigraph Z', 'Actigraph Magnitude'], parse_dates=[[0,1]], date_parser=parser_apple).dropna()\n"
     ]
    },
    {
     "name": "stdout",
     "output_type": "stream",
     "text": [
      "(525000, 5)\n",
      "Processing Participant 2664 110/191\n",
      "No Actigraph Data for 2664\n",
      "Processing Participant 2665 111/191\n"
     ]
    },
    {
     "name": "stderr",
     "output_type": "stream",
     "text": [
      "C:\\Users\\sambit\\AppData\\Local\\Temp\\ipykernel_8812\\2134189346.py:7: FutureWarning: \n",
      "        Use pd.to_datetime instead.\n",
      "\n",
      "  actigraph_data = pd.read_csv(data_path, usecols=['Actigraph Time', 'Actigraph Second Fraction', 'Actigraph X', 'Actigraph Y', 'Actigraph Z', 'Actigraph Magnitude'], parse_dates=[[0,1]], date_parser=parser_apple).dropna()\n"
     ]
    },
    {
     "name": "stdout",
     "output_type": "stream",
     "text": [
      "(369500, 5)\n",
      "Processing Participant 2666 112/191\n"
     ]
    },
    {
     "name": "stderr",
     "output_type": "stream",
     "text": [
      "C:\\Users\\sambit\\AppData\\Local\\Temp\\ipykernel_8812\\2134189346.py:7: FutureWarning: \n",
      "        Use pd.to_datetime instead.\n",
      "\n",
      "  actigraph_data = pd.read_csv(data_path, usecols=['Actigraph Time', 'Actigraph Second Fraction', 'Actigraph X', 'Actigraph Y', 'Actigraph Z', 'Actigraph Magnitude'], parse_dates=[[0,1]], date_parser=parser_apple).dropna()\n"
     ]
    },
    {
     "name": "stdout",
     "output_type": "stream",
     "text": [
      "(380500, 5)\n",
      "Processing Participant 2667 113/191\n"
     ]
    },
    {
     "name": "stderr",
     "output_type": "stream",
     "text": [
      "C:\\Users\\sambit\\AppData\\Local\\Temp\\ipykernel_8812\\2134189346.py:7: FutureWarning: \n",
      "        Use pd.to_datetime instead.\n",
      "\n",
      "  actigraph_data = pd.read_csv(data_path, usecols=['Actigraph Time', 'Actigraph Second Fraction', 'Actigraph X', 'Actigraph Y', 'Actigraph Z', 'Actigraph Magnitude'], parse_dates=[[0,1]], date_parser=parser_apple).dropna()\n"
     ]
    },
    {
     "name": "stdout",
     "output_type": "stream",
     "text": [
      "(380500, 5)\n",
      "Processing Participant 2668 114/191\n"
     ]
    },
    {
     "name": "stderr",
     "output_type": "stream",
     "text": [
      "C:\\Users\\sambit\\AppData\\Local\\Temp\\ipykernel_8812\\2134189346.py:7: FutureWarning: \n",
      "        Use pd.to_datetime instead.\n",
      "\n",
      "  actigraph_data = pd.read_csv(data_path, usecols=['Actigraph Time', 'Actigraph Second Fraction', 'Actigraph X', 'Actigraph Y', 'Actigraph Z', 'Actigraph Magnitude'], parse_dates=[[0,1]], date_parser=parser_apple).dropna()\n"
     ]
    },
    {
     "name": "stdout",
     "output_type": "stream",
     "text": [
      "(422000, 5)\n",
      "Processing Participant 2669 115/191\n"
     ]
    },
    {
     "name": "stderr",
     "output_type": "stream",
     "text": [
      "C:\\Users\\sambit\\AppData\\Local\\Temp\\ipykernel_8812\\2134189346.py:7: FutureWarning: \n",
      "        Use pd.to_datetime instead.\n",
      "\n",
      "  actigraph_data = pd.read_csv(data_path, usecols=['Actigraph Time', 'Actigraph Second Fraction', 'Actigraph X', 'Actigraph Y', 'Actigraph Z', 'Actigraph Magnitude'], parse_dates=[[0,1]], date_parser=parser_apple).dropna()\n"
     ]
    },
    {
     "name": "stdout",
     "output_type": "stream",
     "text": [
      "(422000, 5)\n",
      "Processing Participant 2670 116/191\n"
     ]
    },
    {
     "name": "stderr",
     "output_type": "stream",
     "text": [
      "C:\\Users\\sambit\\AppData\\Local\\Temp\\ipykernel_8812\\2134189346.py:7: FutureWarning: \n",
      "        Use pd.to_datetime instead.\n",
      "\n",
      "  actigraph_data = pd.read_csv(data_path, usecols=['Actigraph Time', 'Actigraph Second Fraction', 'Actigraph X', 'Actigraph Y', 'Actigraph Z', 'Actigraph Magnitude'], parse_dates=[[0,1]], date_parser=parser_apple).dropna()\n"
     ]
    },
    {
     "name": "stdout",
     "output_type": "stream",
     "text": [
      "(383000, 5)\n",
      "Processing Participant 2671 117/191\n"
     ]
    },
    {
     "name": "stderr",
     "output_type": "stream",
     "text": [
      "C:\\Users\\sambit\\AppData\\Local\\Temp\\ipykernel_8812\\2134189346.py:7: FutureWarning: \n",
      "        Use pd.to_datetime instead.\n",
      "\n",
      "  actigraph_data = pd.read_csv(data_path, usecols=['Actigraph Time', 'Actigraph Second Fraction', 'Actigraph X', 'Actigraph Y', 'Actigraph Z', 'Actigraph Magnitude'], parse_dates=[[0,1]], date_parser=parser_apple).dropna()\n"
     ]
    },
    {
     "name": "stdout",
     "output_type": "stream",
     "text": [
      "(401300, 5)\n",
      "Processing Participant 2672 118/191\n"
     ]
    },
    {
     "name": "stderr",
     "output_type": "stream",
     "text": [
      "C:\\Users\\sambit\\AppData\\Local\\Temp\\ipykernel_8812\\2134189346.py:7: FutureWarning: \n",
      "        Use pd.to_datetime instead.\n",
      "\n",
      "  actigraph_data = pd.read_csv(data_path, usecols=['Actigraph Time', 'Actigraph Second Fraction', 'Actigraph X', 'Actigraph Y', 'Actigraph Z', 'Actigraph Magnitude'], parse_dates=[[0,1]], date_parser=parser_apple).dropna()\n"
     ]
    },
    {
     "name": "stdout",
     "output_type": "stream",
     "text": [
      "(462000, 5)\n",
      "Processing Participant 2673 119/191\n"
     ]
    },
    {
     "name": "stderr",
     "output_type": "stream",
     "text": [
      "C:\\Users\\sambit\\AppData\\Local\\Temp\\ipykernel_8812\\2134189346.py:7: FutureWarning: \n",
      "        Use pd.to_datetime instead.\n",
      "\n",
      "  actigraph_data = pd.read_csv(data_path, usecols=['Actigraph Time', 'Actigraph Second Fraction', 'Actigraph X', 'Actigraph Y', 'Actigraph Z', 'Actigraph Magnitude'], parse_dates=[[0,1]], date_parser=parser_apple).dropna()\n"
     ]
    },
    {
     "name": "stdout",
     "output_type": "stream",
     "text": [
      "(424800, 5)\n",
      "Processing Participant 2674 120/191\n"
     ]
    },
    {
     "name": "stderr",
     "output_type": "stream",
     "text": [
      "C:\\Users\\sambit\\AppData\\Local\\Temp\\ipykernel_8812\\2134189346.py:7: FutureWarning: \n",
      "        Use pd.to_datetime instead.\n",
      "\n",
      "  actigraph_data = pd.read_csv(data_path, usecols=['Actigraph Time', 'Actigraph Second Fraction', 'Actigraph X', 'Actigraph Y', 'Actigraph Z', 'Actigraph Magnitude'], parse_dates=[[0,1]], date_parser=parser_apple).dropna()\n"
     ]
    },
    {
     "name": "stdout",
     "output_type": "stream",
     "text": [
      "(424800, 5)\n",
      "Processing Participant 2675 121/191\n"
     ]
    },
    {
     "name": "stderr",
     "output_type": "stream",
     "text": [
      "C:\\Users\\sambit\\AppData\\Local\\Temp\\ipykernel_8812\\2134189346.py:7: FutureWarning: \n",
      "        Use pd.to_datetime instead.\n",
      "\n",
      "  actigraph_data = pd.read_csv(data_path, usecols=['Actigraph Time', 'Actigraph Second Fraction', 'Actigraph X', 'Actigraph Y', 'Actigraph Z', 'Actigraph Magnitude'], parse_dates=[[0,1]], date_parser=parser_apple).dropna()\n"
     ]
    },
    {
     "name": "stdout",
     "output_type": "stream",
     "text": [
      "(422500, 5)\n",
      "Processing Participant 2676 122/191\n"
     ]
    },
    {
     "name": "stderr",
     "output_type": "stream",
     "text": [
      "C:\\Users\\sambit\\AppData\\Local\\Temp\\ipykernel_8812\\2134189346.py:7: FutureWarning: \n",
      "        Use pd.to_datetime instead.\n",
      "\n",
      "  actigraph_data = pd.read_csv(data_path, usecols=['Actigraph Time', 'Actigraph Second Fraction', 'Actigraph X', 'Actigraph Y', 'Actigraph Z', 'Actigraph Magnitude'], parse_dates=[[0,1]], date_parser=parser_apple).dropna()\n"
     ]
    },
    {
     "name": "stdout",
     "output_type": "stream",
     "text": [
      "(362600, 5)\n",
      "Processing Participant 2679 123/191\n"
     ]
    },
    {
     "name": "stderr",
     "output_type": "stream",
     "text": [
      "C:\\Users\\sambit\\AppData\\Local\\Temp\\ipykernel_8812\\2134189346.py:7: FutureWarning: \n",
      "        Use pd.to_datetime instead.\n",
      "\n",
      "  actigraph_data = pd.read_csv(data_path, usecols=['Actigraph Time', 'Actigraph Second Fraction', 'Actigraph X', 'Actigraph Y', 'Actigraph Z', 'Actigraph Magnitude'], parse_dates=[[0,1]], date_parser=parser_apple).dropna()\n"
     ]
    },
    {
     "name": "stdout",
     "output_type": "stream",
     "text": [
      "(420200, 5)\n",
      "Processing Participant 2680 124/191\n"
     ]
    },
    {
     "name": "stderr",
     "output_type": "stream",
     "text": [
      "C:\\Users\\sambit\\AppData\\Local\\Temp\\ipykernel_8812\\2134189346.py:7: FutureWarning: \n",
      "        Use pd.to_datetime instead.\n",
      "\n",
      "  actigraph_data = pd.read_csv(data_path, usecols=['Actigraph Time', 'Actigraph Second Fraction', 'Actigraph X', 'Actigraph Y', 'Actigraph Z', 'Actigraph Magnitude'], parse_dates=[[0,1]], date_parser=parser_apple).dropna()\n"
     ]
    },
    {
     "name": "stdout",
     "output_type": "stream",
     "text": [
      "(374200, 5)\n",
      "Processing Participant 2681 125/191\n"
     ]
    },
    {
     "name": "stderr",
     "output_type": "stream",
     "text": [
      "C:\\Users\\sambit\\AppData\\Local\\Temp\\ipykernel_8812\\2134189346.py:7: FutureWarning: \n",
      "        Use pd.to_datetime instead.\n",
      "\n",
      "  actigraph_data = pd.read_csv(data_path, usecols=['Actigraph Time', 'Actigraph Second Fraction', 'Actigraph X', 'Actigraph Y', 'Actigraph Z', 'Actigraph Magnitude'], parse_dates=[[0,1]], date_parser=parser_apple).dropna()\n"
     ]
    },
    {
     "name": "stdout",
     "output_type": "stream",
     "text": [
      "(348600, 5)\n",
      "Processing Participant 2683 126/191\n"
     ]
    },
    {
     "name": "stderr",
     "output_type": "stream",
     "text": [
      "C:\\Users\\sambit\\AppData\\Local\\Temp\\ipykernel_8812\\2134189346.py:7: FutureWarning: \n",
      "        Use pd.to_datetime instead.\n",
      "\n",
      "  actigraph_data = pd.read_csv(data_path, usecols=['Actigraph Time', 'Actigraph Second Fraction', 'Actigraph X', 'Actigraph Y', 'Actigraph Z', 'Actigraph Magnitude'], parse_dates=[[0,1]], date_parser=parser_apple).dropna()\n"
     ]
    },
    {
     "name": "stdout",
     "output_type": "stream",
     "text": [
      "(376600, 5)\n",
      "Processing Participant 2684 127/191\n"
     ]
    },
    {
     "name": "stderr",
     "output_type": "stream",
     "text": [
      "C:\\Users\\sambit\\AppData\\Local\\Temp\\ipykernel_8812\\2134189346.py:7: FutureWarning: \n",
      "        Use pd.to_datetime instead.\n",
      "\n",
      "  actigraph_data = pd.read_csv(data_path, usecols=['Actigraph Time', 'Actigraph Second Fraction', 'Actigraph X', 'Actigraph Y', 'Actigraph Z', 'Actigraph Magnitude'], parse_dates=[[0,1]], date_parser=parser_apple).dropna()\n"
     ]
    },
    {
     "name": "stdout",
     "output_type": "stream",
     "text": [
      "(449500, 5)\n",
      "Processing Participant 2685 128/191\n"
     ]
    },
    {
     "name": "stderr",
     "output_type": "stream",
     "text": [
      "C:\\Users\\sambit\\AppData\\Local\\Temp\\ipykernel_8812\\2134189346.py:7: FutureWarning: \n",
      "        Use pd.to_datetime instead.\n",
      "\n",
      "  actigraph_data = pd.read_csv(data_path, usecols=['Actigraph Time', 'Actigraph Second Fraction', 'Actigraph X', 'Actigraph Y', 'Actigraph Z', 'Actigraph Magnitude'], parse_dates=[[0,1]], date_parser=parser_apple).dropna()\n"
     ]
    },
    {
     "name": "stdout",
     "output_type": "stream",
     "text": [
      "(411700, 5)\n",
      "Processing Participant 2686 129/191\n"
     ]
    },
    {
     "name": "stderr",
     "output_type": "stream",
     "text": [
      "C:\\Users\\sambit\\AppData\\Local\\Temp\\ipykernel_8812\\2134189346.py:7: FutureWarning: \n",
      "        Use pd.to_datetime instead.\n",
      "\n",
      "  actigraph_data = pd.read_csv(data_path, usecols=['Actigraph Time', 'Actigraph Second Fraction', 'Actigraph X', 'Actigraph Y', 'Actigraph Z', 'Actigraph Magnitude'], parse_dates=[[0,1]], date_parser=parser_apple).dropna()\n"
     ]
    },
    {
     "name": "stdout",
     "output_type": "stream",
     "text": [
      "(477800, 5)\n",
      "Processing Participant 2687 130/191\n"
     ]
    },
    {
     "name": "stderr",
     "output_type": "stream",
     "text": [
      "C:\\Users\\sambit\\AppData\\Local\\Temp\\ipykernel_8812\\2134189346.py:7: FutureWarning: \n",
      "        Use pd.to_datetime instead.\n",
      "\n",
      "  actigraph_data = pd.read_csv(data_path, usecols=['Actigraph Time', 'Actigraph Second Fraction', 'Actigraph X', 'Actigraph Y', 'Actigraph Z', 'Actigraph Magnitude'], parse_dates=[[0,1]], date_parser=parser_apple).dropna()\n"
     ]
    },
    {
     "name": "stdout",
     "output_type": "stream",
     "text": [
      "(506500, 5)\n",
      "Processing Participant 2688 131/191\n"
     ]
    },
    {
     "name": "stderr",
     "output_type": "stream",
     "text": [
      "C:\\Users\\sambit\\AppData\\Local\\Temp\\ipykernel_8812\\2134189346.py:7: FutureWarning: \n",
      "        Use pd.to_datetime instead.\n",
      "\n",
      "  actigraph_data = pd.read_csv(data_path, usecols=['Actigraph Time', 'Actigraph Second Fraction', 'Actigraph X', 'Actigraph Y', 'Actigraph Z', 'Actigraph Magnitude'], parse_dates=[[0,1]], date_parser=parser_apple).dropna()\n"
     ]
    },
    {
     "name": "stdout",
     "output_type": "stream",
     "text": [
      "(386500, 5)\n",
      "Processing Participant 2689 132/191\n"
     ]
    },
    {
     "name": "stderr",
     "output_type": "stream",
     "text": [
      "C:\\Users\\sambit\\AppData\\Local\\Temp\\ipykernel_8812\\2134189346.py:7: FutureWarning: \n",
      "        Use pd.to_datetime instead.\n",
      "\n",
      "  actigraph_data = pd.read_csv(data_path, usecols=['Actigraph Time', 'Actigraph Second Fraction', 'Actigraph X', 'Actigraph Y', 'Actigraph Z', 'Actigraph Magnitude'], parse_dates=[[0,1]], date_parser=parser_apple).dropna()\n"
     ]
    },
    {
     "name": "stdout",
     "output_type": "stream",
     "text": [
      "(389800, 5)\n",
      "Processing Participant 2690 133/191\n"
     ]
    },
    {
     "name": "stderr",
     "output_type": "stream",
     "text": [
      "C:\\Users\\sambit\\AppData\\Local\\Temp\\ipykernel_8812\\2134189346.py:7: FutureWarning: \n",
      "        Use pd.to_datetime instead.\n",
      "\n",
      "  actigraph_data = pd.read_csv(data_path, usecols=['Actigraph Time', 'Actigraph Second Fraction', 'Actigraph X', 'Actigraph Y', 'Actigraph Z', 'Actigraph Magnitude'], parse_dates=[[0,1]], date_parser=parser_apple).dropna()\n"
     ]
    },
    {
     "name": "stdout",
     "output_type": "stream",
     "text": [
      "(401600, 5)\n",
      "Processing Participant 2691 134/191\n"
     ]
    },
    {
     "name": "stderr",
     "output_type": "stream",
     "text": [
      "C:\\Users\\sambit\\AppData\\Local\\Temp\\ipykernel_8812\\2134189346.py:7: FutureWarning: \n",
      "        Use pd.to_datetime instead.\n",
      "\n",
      "  actigraph_data = pd.read_csv(data_path, usecols=['Actigraph Time', 'Actigraph Second Fraction', 'Actigraph X', 'Actigraph Y', 'Actigraph Z', 'Actigraph Magnitude'], parse_dates=[[0,1]], date_parser=parser_apple).dropna()\n"
     ]
    },
    {
     "name": "stdout",
     "output_type": "stream",
     "text": [
      "(453900, 5)\n",
      "Processing Participant 2692 135/191\n"
     ]
    },
    {
     "name": "stderr",
     "output_type": "stream",
     "text": [
      "C:\\Users\\sambit\\AppData\\Local\\Temp\\ipykernel_8812\\2134189346.py:7: FutureWarning: \n",
      "        Use pd.to_datetime instead.\n",
      "\n",
      "  actigraph_data = pd.read_csv(data_path, usecols=['Actigraph Time', 'Actigraph Second Fraction', 'Actigraph X', 'Actigraph Y', 'Actigraph Z', 'Actigraph Magnitude'], parse_dates=[[0,1]], date_parser=parser_apple).dropna()\n"
     ]
    },
    {
     "name": "stdout",
     "output_type": "stream",
     "text": [
      "(320600, 5)\n",
      "Processing Participant 2706 136/191\n"
     ]
    },
    {
     "name": "stderr",
     "output_type": "stream",
     "text": [
      "C:\\Users\\sambit\\AppData\\Local\\Temp\\ipykernel_8812\\2134189346.py:7: FutureWarning: \n",
      "        Use pd.to_datetime instead.\n",
      "\n",
      "  actigraph_data = pd.read_csv(data_path, usecols=['Actigraph Time', 'Actigraph Second Fraction', 'Actigraph X', 'Actigraph Y', 'Actigraph Z', 'Actigraph Magnitude'], parse_dates=[[0,1]], date_parser=parser_apple).dropna()\n"
     ]
    },
    {
     "name": "stdout",
     "output_type": "stream",
     "text": [
      "(375600, 5)\n",
      "Processing Participant 2709 137/191\n"
     ]
    },
    {
     "name": "stderr",
     "output_type": "stream",
     "text": [
      "C:\\Users\\sambit\\AppData\\Local\\Temp\\ipykernel_8812\\2134189346.py:7: FutureWarning: \n",
      "        Use pd.to_datetime instead.\n",
      "\n",
      "  actigraph_data = pd.read_csv(data_path, usecols=['Actigraph Time', 'Actigraph Second Fraction', 'Actigraph X', 'Actigraph Y', 'Actigraph Z', 'Actigraph Magnitude'], parse_dates=[[0,1]], date_parser=parser_apple).dropna()\n"
     ]
    },
    {
     "name": "stdout",
     "output_type": "stream",
     "text": [
      "(373000, 5)\n",
      "Processing Participant 2710 138/191\n"
     ]
    },
    {
     "name": "stderr",
     "output_type": "stream",
     "text": [
      "C:\\Users\\sambit\\AppData\\Local\\Temp\\ipykernel_8812\\2134189346.py:7: FutureWarning: \n",
      "        Use pd.to_datetime instead.\n",
      "\n",
      "  actigraph_data = pd.read_csv(data_path, usecols=['Actigraph Time', 'Actigraph Second Fraction', 'Actigraph X', 'Actigraph Y', 'Actigraph Z', 'Actigraph Magnitude'], parse_dates=[[0,1]], date_parser=parser_apple).dropna()\n"
     ]
    },
    {
     "name": "stdout",
     "output_type": "stream",
     "text": [
      "(489000, 5)\n",
      "Processing Participant 2711 139/191\n"
     ]
    },
    {
     "name": "stderr",
     "output_type": "stream",
     "text": [
      "C:\\Users\\sambit\\AppData\\Local\\Temp\\ipykernel_8812\\2134189346.py:7: FutureWarning: \n",
      "        Use pd.to_datetime instead.\n",
      "\n",
      "  actigraph_data = pd.read_csv(data_path, usecols=['Actigraph Time', 'Actigraph Second Fraction', 'Actigraph X', 'Actigraph Y', 'Actigraph Z', 'Actigraph Magnitude'], parse_dates=[[0,1]], date_parser=parser_apple).dropna()\n"
     ]
    },
    {
     "name": "stdout",
     "output_type": "stream",
     "text": [
      "(468300, 5)\n",
      "Processing Participant 2712 140/191\n"
     ]
    },
    {
     "name": "stderr",
     "output_type": "stream",
     "text": [
      "C:\\Users\\sambit\\AppData\\Local\\Temp\\ipykernel_8812\\2134189346.py:7: FutureWarning: \n",
      "        Use pd.to_datetime instead.\n",
      "\n",
      "  actigraph_data = pd.read_csv(data_path, usecols=['Actigraph Time', 'Actigraph Second Fraction', 'Actigraph X', 'Actigraph Y', 'Actigraph Z', 'Actigraph Magnitude'], parse_dates=[[0,1]], date_parser=parser_apple).dropna()\n"
     ]
    },
    {
     "name": "stdout",
     "output_type": "stream",
     "text": [
      "(478100, 5)\n",
      "Processing Participant 2753 141/191\n"
     ]
    },
    {
     "name": "stderr",
     "output_type": "stream",
     "text": [
      "C:\\Users\\sambit\\AppData\\Local\\Temp\\ipykernel_8812\\2134189346.py:7: FutureWarning: \n",
      "        Use pd.to_datetime instead.\n",
      "\n",
      "  actigraph_data = pd.read_csv(data_path, usecols=['Actigraph Time', 'Actigraph Second Fraction', 'Actigraph X', 'Actigraph Y', 'Actigraph Z', 'Actigraph Magnitude'], parse_dates=[[0,1]], date_parser=parser_apple).dropna()\n"
     ]
    },
    {
     "name": "stdout",
     "output_type": "stream",
     "text": [
      "(381500, 5)\n",
      "Processing Participant 2774 142/191\n"
     ]
    },
    {
     "name": "stderr",
     "output_type": "stream",
     "text": [
      "C:\\Users\\sambit\\AppData\\Local\\Temp\\ipykernel_8812\\2134189346.py:7: FutureWarning: \n",
      "        Use pd.to_datetime instead.\n",
      "\n",
      "  actigraph_data = pd.read_csv(data_path, usecols=['Actigraph Time', 'Actigraph Second Fraction', 'Actigraph X', 'Actigraph Y', 'Actigraph Z', 'Actigraph Magnitude'], parse_dates=[[0,1]], date_parser=parser_apple).dropna()\n"
     ]
    },
    {
     "name": "stdout",
     "output_type": "stream",
     "text": [
      "(385500, 5)\n",
      "Processing Participant 2775 143/191\n"
     ]
    },
    {
     "name": "stderr",
     "output_type": "stream",
     "text": [
      "C:\\Users\\sambit\\AppData\\Local\\Temp\\ipykernel_8812\\2134189346.py:7: FutureWarning: \n",
      "        Use pd.to_datetime instead.\n",
      "\n",
      "  actigraph_data = pd.read_csv(data_path, usecols=['Actigraph Time', 'Actigraph Second Fraction', 'Actigraph X', 'Actigraph Y', 'Actigraph Z', 'Actigraph Magnitude'], parse_dates=[[0,1]], date_parser=parser_apple).dropna()\n"
     ]
    },
    {
     "name": "stdout",
     "output_type": "stream",
     "text": [
      "(385500, 5)\n",
      "Processing Participant 2776 144/191\n"
     ]
    },
    {
     "name": "stderr",
     "output_type": "stream",
     "text": [
      "C:\\Users\\sambit\\AppData\\Local\\Temp\\ipykernel_8812\\2134189346.py:7: FutureWarning: \n",
      "        Use pd.to_datetime instead.\n",
      "\n",
      "  actigraph_data = pd.read_csv(data_path, usecols=['Actigraph Time', 'Actigraph Second Fraction', 'Actigraph X', 'Actigraph Y', 'Actigraph Z', 'Actigraph Magnitude'], parse_dates=[[0,1]], date_parser=parser_apple).dropna()\n"
     ]
    },
    {
     "name": "stdout",
     "output_type": "stream",
     "text": [
      "(383500, 5)\n",
      "Processing Participant 2778 145/191\n"
     ]
    },
    {
     "name": "stderr",
     "output_type": "stream",
     "text": [
      "C:\\Users\\sambit\\AppData\\Local\\Temp\\ipykernel_8812\\2134189346.py:7: FutureWarning: \n",
      "        Use pd.to_datetime instead.\n",
      "\n",
      "  actigraph_data = pd.read_csv(data_path, usecols=['Actigraph Time', 'Actigraph Second Fraction', 'Actigraph X', 'Actigraph Y', 'Actigraph Z', 'Actigraph Magnitude'], parse_dates=[[0,1]], date_parser=parser_apple).dropna()\n"
     ]
    },
    {
     "name": "stdout",
     "output_type": "stream",
     "text": [
      "(391300, 5)\n",
      "Processing Participant 2779 146/191\n"
     ]
    },
    {
     "name": "stderr",
     "output_type": "stream",
     "text": [
      "C:\\Users\\sambit\\AppData\\Local\\Temp\\ipykernel_8812\\2134189346.py:7: FutureWarning: \n",
      "        Use pd.to_datetime instead.\n",
      "\n",
      "  actigraph_data = pd.read_csv(data_path, usecols=['Actigraph Time', 'Actigraph Second Fraction', 'Actigraph X', 'Actigraph Y', 'Actigraph Z', 'Actigraph Magnitude'], parse_dates=[[0,1]], date_parser=parser_apple).dropna()\n"
     ]
    },
    {
     "name": "stdout",
     "output_type": "stream",
     "text": [
      "(488500, 5)\n",
      "Processing Participant 2780 147/191\n"
     ]
    },
    {
     "name": "stderr",
     "output_type": "stream",
     "text": [
      "C:\\Users\\sambit\\AppData\\Local\\Temp\\ipykernel_8812\\2134189346.py:7: FutureWarning: \n",
      "        Use pd.to_datetime instead.\n",
      "\n",
      "  actigraph_data = pd.read_csv(data_path, usecols=['Actigraph Time', 'Actigraph Second Fraction', 'Actigraph X', 'Actigraph Y', 'Actigraph Z', 'Actigraph Magnitude'], parse_dates=[[0,1]], date_parser=parser_apple).dropna()\n"
     ]
    },
    {
     "name": "stdout",
     "output_type": "stream",
     "text": [
      "(424300, 5)\n",
      "Processing Participant 2781 148/191\n"
     ]
    },
    {
     "name": "stderr",
     "output_type": "stream",
     "text": [
      "C:\\Users\\sambit\\AppData\\Local\\Temp\\ipykernel_8812\\2134189346.py:7: FutureWarning: \n",
      "        Use pd.to_datetime instead.\n",
      "\n",
      "  actigraph_data = pd.read_csv(data_path, usecols=['Actigraph Time', 'Actigraph Second Fraction', 'Actigraph X', 'Actigraph Y', 'Actigraph Z', 'Actigraph Magnitude'], parse_dates=[[0,1]], date_parser=parser_apple).dropna()\n"
     ]
    },
    {
     "name": "stdout",
     "output_type": "stream",
     "text": [
      "(425300, 5)\n",
      "Processing Participant 2782 149/191\n"
     ]
    },
    {
     "name": "stderr",
     "output_type": "stream",
     "text": [
      "C:\\Users\\sambit\\AppData\\Local\\Temp\\ipykernel_8812\\2134189346.py:7: FutureWarning: \n",
      "        Use pd.to_datetime instead.\n",
      "\n",
      "  actigraph_data = pd.read_csv(data_path, usecols=['Actigraph Time', 'Actigraph Second Fraction', 'Actigraph X', 'Actigraph Y', 'Actigraph Z', 'Actigraph Magnitude'], parse_dates=[[0,1]], date_parser=parser_apple).dropna()\n"
     ]
    },
    {
     "name": "stdout",
     "output_type": "stream",
     "text": [
      "(393800, 5)\n",
      "Processing Participant 2783 150/191\n"
     ]
    },
    {
     "name": "stderr",
     "output_type": "stream",
     "text": [
      "C:\\Users\\sambit\\AppData\\Local\\Temp\\ipykernel_8812\\2134189346.py:7: FutureWarning: \n",
      "        Use pd.to_datetime instead.\n",
      "\n",
      "  actigraph_data = pd.read_csv(data_path, usecols=['Actigraph Time', 'Actigraph Second Fraction', 'Actigraph X', 'Actigraph Y', 'Actigraph Z', 'Actigraph Magnitude'], parse_dates=[[0,1]], date_parser=parser_apple).dropna()\n"
     ]
    },
    {
     "name": "stdout",
     "output_type": "stream",
     "text": [
      "(388900, 5)\n",
      "Processing Participant 2788 151/191\n"
     ]
    },
    {
     "name": "stderr",
     "output_type": "stream",
     "text": [
      "C:\\Users\\sambit\\AppData\\Local\\Temp\\ipykernel_8812\\2134189346.py:7: FutureWarning: \n",
      "        Use pd.to_datetime instead.\n",
      "\n",
      "  actigraph_data = pd.read_csv(data_path, usecols=['Actigraph Time', 'Actigraph Second Fraction', 'Actigraph X', 'Actigraph Y', 'Actigraph Z', 'Actigraph Magnitude'], parse_dates=[[0,1]], date_parser=parser_apple).dropna()\n"
     ]
    },
    {
     "name": "stdout",
     "output_type": "stream",
     "text": [
      "(366300, 5)\n",
      "Processing Participant 2789 152/191\n"
     ]
    },
    {
     "name": "stderr",
     "output_type": "stream",
     "text": [
      "C:\\Users\\sambit\\AppData\\Local\\Temp\\ipykernel_8812\\2134189346.py:7: FutureWarning: \n",
      "        Use pd.to_datetime instead.\n",
      "\n",
      "  actigraph_data = pd.read_csv(data_path, usecols=['Actigraph Time', 'Actigraph Second Fraction', 'Actigraph X', 'Actigraph Y', 'Actigraph Z', 'Actigraph Magnitude'], parse_dates=[[0,1]], date_parser=parser_apple).dropna()\n"
     ]
    },
    {
     "name": "stdout",
     "output_type": "stream",
     "text": [
      "(366300, 5)\n",
      "Processing Participant 2790 153/191\n"
     ]
    },
    {
     "name": "stderr",
     "output_type": "stream",
     "text": [
      "C:\\Users\\sambit\\AppData\\Local\\Temp\\ipykernel_8812\\2134189346.py:7: FutureWarning: \n",
      "        Use pd.to_datetime instead.\n",
      "\n",
      "  actigraph_data = pd.read_csv(data_path, usecols=['Actigraph Time', 'Actigraph Second Fraction', 'Actigraph X', 'Actigraph Y', 'Actigraph Z', 'Actigraph Magnitude'], parse_dates=[[0,1]], date_parser=parser_apple).dropna()\n"
     ]
    },
    {
     "name": "stdout",
     "output_type": "stream",
     "text": [
      "(393800, 5)\n",
      "Processing Participant 2792 154/191\n"
     ]
    },
    {
     "name": "stderr",
     "output_type": "stream",
     "text": [
      "C:\\Users\\sambit\\AppData\\Local\\Temp\\ipykernel_8812\\2134189346.py:7: FutureWarning: \n",
      "        Use pd.to_datetime instead.\n",
      "\n",
      "  actigraph_data = pd.read_csv(data_path, usecols=['Actigraph Time', 'Actigraph Second Fraction', 'Actigraph X', 'Actigraph Y', 'Actigraph Z', 'Actigraph Magnitude'], parse_dates=[[0,1]], date_parser=parser_apple).dropna()\n"
     ]
    },
    {
     "name": "stdout",
     "output_type": "stream",
     "text": [
      "(368800, 5)\n",
      "Processing Participant 2793 155/191\n"
     ]
    },
    {
     "name": "stderr",
     "output_type": "stream",
     "text": [
      "C:\\Users\\sambit\\AppData\\Local\\Temp\\ipykernel_8812\\2134189346.py:7: FutureWarning: \n",
      "        Use pd.to_datetime instead.\n",
      "\n",
      "  actigraph_data = pd.read_csv(data_path, usecols=['Actigraph Time', 'Actigraph Second Fraction', 'Actigraph X', 'Actigraph Y', 'Actigraph Z', 'Actigraph Magnitude'], parse_dates=[[0,1]], date_parser=parser_apple).dropna()\n"
     ]
    },
    {
     "name": "stdout",
     "output_type": "stream",
     "text": [
      "(368800, 5)\n",
      "Processing Participant 2794 156/191\n"
     ]
    },
    {
     "name": "stderr",
     "output_type": "stream",
     "text": [
      "C:\\Users\\sambit\\AppData\\Local\\Temp\\ipykernel_8812\\2134189346.py:7: FutureWarning: \n",
      "        Use pd.to_datetime instead.\n",
      "\n",
      "  actigraph_data = pd.read_csv(data_path, usecols=['Actigraph Time', 'Actigraph Second Fraction', 'Actigraph X', 'Actigraph Y', 'Actigraph Z', 'Actigraph Magnitude'], parse_dates=[[0,1]], date_parser=parser_apple).dropna()\n"
     ]
    },
    {
     "name": "stdout",
     "output_type": "stream",
     "text": [
      "(448500, 5)\n",
      "Processing Participant 2795 157/191\n"
     ]
    },
    {
     "name": "stderr",
     "output_type": "stream",
     "text": [
      "C:\\Users\\sambit\\AppData\\Local\\Temp\\ipykernel_8812\\2134189346.py:7: FutureWarning: \n",
      "        Use pd.to_datetime instead.\n",
      "\n",
      "  actigraph_data = pd.read_csv(data_path, usecols=['Actigraph Time', 'Actigraph Second Fraction', 'Actigraph X', 'Actigraph Y', 'Actigraph Z', 'Actigraph Magnitude'], parse_dates=[[0,1]], date_parser=parser_apple).dropna()\n"
     ]
    },
    {
     "name": "stdout",
     "output_type": "stream",
     "text": [
      "(448500, 5)\n",
      "Processing Participant 2796 158/191\n"
     ]
    },
    {
     "name": "stderr",
     "output_type": "stream",
     "text": [
      "C:\\Users\\sambit\\AppData\\Local\\Temp\\ipykernel_8812\\2134189346.py:7: FutureWarning: \n",
      "        Use pd.to_datetime instead.\n",
      "\n",
      "  actigraph_data = pd.read_csv(data_path, usecols=['Actigraph Time', 'Actigraph Second Fraction', 'Actigraph X', 'Actigraph Y', 'Actigraph Z', 'Actigraph Magnitude'], parse_dates=[[0,1]], date_parser=parser_apple).dropna()\n"
     ]
    },
    {
     "name": "stdout",
     "output_type": "stream",
     "text": [
      "(422100, 5)\n",
      "Processing Participant 2797 159/191\n"
     ]
    },
    {
     "name": "stderr",
     "output_type": "stream",
     "text": [
      "C:\\Users\\sambit\\AppData\\Local\\Temp\\ipykernel_8812\\2134189346.py:7: FutureWarning: \n",
      "        Use pd.to_datetime instead.\n",
      "\n",
      "  actigraph_data = pd.read_csv(data_path, usecols=['Actigraph Time', 'Actigraph Second Fraction', 'Actigraph X', 'Actigraph Y', 'Actigraph Z', 'Actigraph Magnitude'], parse_dates=[[0,1]], date_parser=parser_apple).dropna()\n"
     ]
    },
    {
     "name": "stdout",
     "output_type": "stream",
     "text": [
      "(410900, 5)\n",
      "Processing Participant 2798 160/191\n"
     ]
    },
    {
     "name": "stderr",
     "output_type": "stream",
     "text": [
      "C:\\Users\\sambit\\AppData\\Local\\Temp\\ipykernel_8812\\2134189346.py:7: FutureWarning: \n",
      "        Use pd.to_datetime instead.\n",
      "\n",
      "  actigraph_data = pd.read_csv(data_path, usecols=['Actigraph Time', 'Actigraph Second Fraction', 'Actigraph X', 'Actigraph Y', 'Actigraph Z', 'Actigraph Magnitude'], parse_dates=[[0,1]], date_parser=parser_apple).dropna()\n"
     ]
    },
    {
     "name": "stdout",
     "output_type": "stream",
     "text": [
      "(410900, 5)\n",
      "Processing Participant 2801 161/191\n"
     ]
    },
    {
     "name": "stderr",
     "output_type": "stream",
     "text": [
      "C:\\Users\\sambit\\AppData\\Local\\Temp\\ipykernel_8812\\2134189346.py:7: FutureWarning: \n",
      "        Use pd.to_datetime instead.\n",
      "\n",
      "  actigraph_data = pd.read_csv(data_path, usecols=['Actigraph Time', 'Actigraph Second Fraction', 'Actigraph X', 'Actigraph Y', 'Actigraph Z', 'Actigraph Magnitude'], parse_dates=[[0,1]], date_parser=parser_apple).dropna()\n"
     ]
    },
    {
     "name": "stdout",
     "output_type": "stream",
     "text": [
      "(383200, 5)\n",
      "Processing Participant 2812 162/191\n"
     ]
    },
    {
     "name": "stderr",
     "output_type": "stream",
     "text": [
      "C:\\Users\\sambit\\AppData\\Local\\Temp\\ipykernel_8812\\2134189346.py:7: FutureWarning: \n",
      "        Use pd.to_datetime instead.\n",
      "\n",
      "  actigraph_data = pd.read_csv(data_path, usecols=['Actigraph Time', 'Actigraph Second Fraction', 'Actigraph X', 'Actigraph Y', 'Actigraph Z', 'Actigraph Magnitude'], parse_dates=[[0,1]], date_parser=parser_apple).dropna()\n"
     ]
    },
    {
     "name": "stdout",
     "output_type": "stream",
     "text": [
      "(410400, 5)\n",
      "Processing Participant 2813 163/191\n"
     ]
    },
    {
     "name": "stderr",
     "output_type": "stream",
     "text": [
      "C:\\Users\\sambit\\AppData\\Local\\Temp\\ipykernel_8812\\2134189346.py:7: FutureWarning: \n",
      "        Use pd.to_datetime instead.\n",
      "\n",
      "  actigraph_data = pd.read_csv(data_path, usecols=['Actigraph Time', 'Actigraph Second Fraction', 'Actigraph X', 'Actigraph Y', 'Actigraph Z', 'Actigraph Magnitude'], parse_dates=[[0,1]], date_parser=parser_apple).dropna()\n"
     ]
    },
    {
     "name": "stdout",
     "output_type": "stream",
     "text": [
      "(410400, 5)\n",
      "Processing Participant 2814 164/191\n"
     ]
    },
    {
     "name": "stderr",
     "output_type": "stream",
     "text": [
      "C:\\Users\\sambit\\AppData\\Local\\Temp\\ipykernel_8812\\2134189346.py:7: FutureWarning: \n",
      "        Use pd.to_datetime instead.\n",
      "\n",
      "  actigraph_data = pd.read_csv(data_path, usecols=['Actigraph Time', 'Actigraph Second Fraction', 'Actigraph X', 'Actigraph Y', 'Actigraph Z', 'Actigraph Magnitude'], parse_dates=[[0,1]], date_parser=parser_apple).dropna()\n"
     ]
    },
    {
     "name": "stdout",
     "output_type": "stream",
     "text": [
      "(373900, 5)\n",
      "Processing Participant 2815 165/191\n"
     ]
    },
    {
     "name": "stderr",
     "output_type": "stream",
     "text": [
      "C:\\Users\\sambit\\AppData\\Local\\Temp\\ipykernel_8812\\2134189346.py:7: FutureWarning: \n",
      "        Use pd.to_datetime instead.\n",
      "\n",
      "  actigraph_data = pd.read_csv(data_path, usecols=['Actigraph Time', 'Actigraph Second Fraction', 'Actigraph X', 'Actigraph Y', 'Actigraph Z', 'Actigraph Magnitude'], parse_dates=[[0,1]], date_parser=parser_apple).dropna()\n"
     ]
    },
    {
     "name": "stdout",
     "output_type": "stream",
     "text": [
      "(373900, 5)\n",
      "Processing Participant 2816 166/191\n"
     ]
    },
    {
     "name": "stderr",
     "output_type": "stream",
     "text": [
      "C:\\Users\\sambit\\AppData\\Local\\Temp\\ipykernel_8812\\2134189346.py:7: FutureWarning: \n",
      "        Use pd.to_datetime instead.\n",
      "\n",
      "  actigraph_data = pd.read_csv(data_path, usecols=['Actigraph Time', 'Actigraph Second Fraction', 'Actigraph X', 'Actigraph Y', 'Actigraph Z', 'Actigraph Magnitude'], parse_dates=[[0,1]], date_parser=parser_apple).dropna()\n"
     ]
    },
    {
     "name": "stdout",
     "output_type": "stream",
     "text": [
      "(418600, 5)\n",
      "Processing Participant 2817 167/191\n"
     ]
    },
    {
     "name": "stderr",
     "output_type": "stream",
     "text": [
      "C:\\Users\\sambit\\AppData\\Local\\Temp\\ipykernel_8812\\2134189346.py:7: FutureWarning: \n",
      "        Use pd.to_datetime instead.\n",
      "\n",
      "  actigraph_data = pd.read_csv(data_path, usecols=['Actigraph Time', 'Actigraph Second Fraction', 'Actigraph X', 'Actigraph Y', 'Actigraph Z', 'Actigraph Magnitude'], parse_dates=[[0,1]], date_parser=parser_apple).dropna()\n"
     ]
    },
    {
     "name": "stdout",
     "output_type": "stream",
     "text": [
      "(374300, 5)\n",
      "Processing Participant 2818 168/191\n"
     ]
    },
    {
     "name": "stderr",
     "output_type": "stream",
     "text": [
      "C:\\Users\\sambit\\AppData\\Local\\Temp\\ipykernel_8812\\2134189346.py:7: FutureWarning: \n",
      "        Use pd.to_datetime instead.\n",
      "\n",
      "  actigraph_data = pd.read_csv(data_path, usecols=['Actigraph Time', 'Actigraph Second Fraction', 'Actigraph X', 'Actigraph Y', 'Actigraph Z', 'Actigraph Magnitude'], parse_dates=[[0,1]], date_parser=parser_apple).dropna()\n"
     ]
    },
    {
     "name": "stdout",
     "output_type": "stream",
     "text": [
      "(423100, 5)\n",
      "Processing Participant 2819 169/191\n"
     ]
    },
    {
     "name": "stderr",
     "output_type": "stream",
     "text": [
      "C:\\Users\\sambit\\AppData\\Local\\Temp\\ipykernel_8812\\2134189346.py:7: FutureWarning: \n",
      "        Use pd.to_datetime instead.\n",
      "\n",
      "  actigraph_data = pd.read_csv(data_path, usecols=['Actigraph Time', 'Actigraph Second Fraction', 'Actigraph X', 'Actigraph Y', 'Actigraph Z', 'Actigraph Magnitude'], parse_dates=[[0,1]], date_parser=parser_apple).dropna()\n"
     ]
    },
    {
     "name": "stdout",
     "output_type": "stream",
     "text": [
      "(411000, 5)\n",
      "Processing Participant 2820 170/191\n"
     ]
    },
    {
     "name": "stderr",
     "output_type": "stream",
     "text": [
      "C:\\Users\\sambit\\AppData\\Local\\Temp\\ipykernel_8812\\2134189346.py:7: FutureWarning: \n",
      "        Use pd.to_datetime instead.\n",
      "\n",
      "  actigraph_data = pd.read_csv(data_path, usecols=['Actigraph Time', 'Actigraph Second Fraction', 'Actigraph X', 'Actigraph Y', 'Actigraph Z', 'Actigraph Magnitude'], parse_dates=[[0,1]], date_parser=parser_apple).dropna()\n"
     ]
    },
    {
     "name": "stdout",
     "output_type": "stream",
     "text": [
      "(411300, 5)\n",
      "Processing Participant 2821 171/191\n"
     ]
    },
    {
     "name": "stderr",
     "output_type": "stream",
     "text": [
      "C:\\Users\\sambit\\AppData\\Local\\Temp\\ipykernel_8812\\2134189346.py:7: FutureWarning: \n",
      "        Use pd.to_datetime instead.\n",
      "\n",
      "  actigraph_data = pd.read_csv(data_path, usecols=['Actigraph Time', 'Actigraph Second Fraction', 'Actigraph X', 'Actigraph Y', 'Actigraph Z', 'Actigraph Magnitude'], parse_dates=[[0,1]], date_parser=parser_apple).dropna()\n"
     ]
    },
    {
     "name": "stdout",
     "output_type": "stream",
     "text": [
      "(411300, 5)\n",
      "Processing Participant 2822 172/191\n"
     ]
    },
    {
     "name": "stderr",
     "output_type": "stream",
     "text": [
      "C:\\Users\\sambit\\AppData\\Local\\Temp\\ipykernel_8812\\2134189346.py:7: FutureWarning: \n",
      "        Use pd.to_datetime instead.\n",
      "\n",
      "  actigraph_data = pd.read_csv(data_path, usecols=['Actigraph Time', 'Actigraph Second Fraction', 'Actigraph X', 'Actigraph Y', 'Actigraph Z', 'Actigraph Magnitude'], parse_dates=[[0,1]], date_parser=parser_apple).dropna()\n"
     ]
    },
    {
     "name": "stdout",
     "output_type": "stream",
     "text": [
      "(475900, 5)\n",
      "Processing Participant 2823 173/191\n"
     ]
    },
    {
     "name": "stderr",
     "output_type": "stream",
     "text": [
      "C:\\Users\\sambit\\AppData\\Local\\Temp\\ipykernel_8812\\2134189346.py:7: FutureWarning: \n",
      "        Use pd.to_datetime instead.\n",
      "\n",
      "  actigraph_data = pd.read_csv(data_path, usecols=['Actigraph Time', 'Actigraph Second Fraction', 'Actigraph X', 'Actigraph Y', 'Actigraph Z', 'Actigraph Magnitude'], parse_dates=[[0,1]], date_parser=parser_apple).dropna()\n"
     ]
    },
    {
     "name": "stdout",
     "output_type": "stream",
     "text": [
      "(475900, 5)\n",
      "Processing Participant 2824 174/191\n"
     ]
    },
    {
     "name": "stderr",
     "output_type": "stream",
     "text": [
      "C:\\Users\\sambit\\AppData\\Local\\Temp\\ipykernel_8812\\2134189346.py:7: FutureWarning: \n",
      "        Use pd.to_datetime instead.\n",
      "\n",
      "  actigraph_data = pd.read_csv(data_path, usecols=['Actigraph Time', 'Actigraph Second Fraction', 'Actigraph X', 'Actigraph Y', 'Actigraph Z', 'Actigraph Magnitude'], parse_dates=[[0,1]], date_parser=parser_apple).dropna()\n"
     ]
    },
    {
     "name": "stdout",
     "output_type": "stream",
     "text": [
      "(469000, 5)\n",
      "Processing Participant 2987 175/191\n"
     ]
    },
    {
     "name": "stderr",
     "output_type": "stream",
     "text": [
      "C:\\Users\\sambit\\AppData\\Local\\Temp\\ipykernel_8812\\2134189346.py:7: FutureWarning: \n",
      "        Use pd.to_datetime instead.\n",
      "\n",
      "  actigraph_data = pd.read_csv(data_path, usecols=['Actigraph Time', 'Actigraph Second Fraction', 'Actigraph X', 'Actigraph Y', 'Actigraph Z', 'Actigraph Magnitude'], parse_dates=[[0,1]], date_parser=parser_apple).dropna()\n"
     ]
    },
    {
     "name": "stdout",
     "output_type": "stream",
     "text": [
      "(381800, 5)\n",
      "Processing Participant 2988 176/191\n"
     ]
    },
    {
     "name": "stderr",
     "output_type": "stream",
     "text": [
      "C:\\Users\\sambit\\AppData\\Local\\Temp\\ipykernel_8812\\2134189346.py:7: FutureWarning: \n",
      "        Use pd.to_datetime instead.\n",
      "\n",
      "  actigraph_data = pd.read_csv(data_path, usecols=['Actigraph Time', 'Actigraph Second Fraction', 'Actigraph X', 'Actigraph Y', 'Actigraph Z', 'Actigraph Magnitude'], parse_dates=[[0,1]], date_parser=parser_apple).dropna()\n"
     ]
    },
    {
     "name": "stdout",
     "output_type": "stream",
     "text": [
      "(365700, 5)\n",
      "Processing Participant 2989 177/191\n"
     ]
    },
    {
     "name": "stderr",
     "output_type": "stream",
     "text": [
      "C:\\Users\\sambit\\AppData\\Local\\Temp\\ipykernel_8812\\2134189346.py:7: FutureWarning: \n",
      "        Use pd.to_datetime instead.\n",
      "\n",
      "  actigraph_data = pd.read_csv(data_path, usecols=['Actigraph Time', 'Actigraph Second Fraction', 'Actigraph X', 'Actigraph Y', 'Actigraph Z', 'Actigraph Magnitude'], parse_dates=[[0,1]], date_parser=parser_apple).dropna()\n"
     ]
    },
    {
     "name": "stdout",
     "output_type": "stream",
     "text": [
      "(353900, 5)\n",
      "Processing Participant 2990 178/191\n"
     ]
    },
    {
     "name": "stderr",
     "output_type": "stream",
     "text": [
      "C:\\Users\\sambit\\AppData\\Local\\Temp\\ipykernel_8812\\2134189346.py:7: FutureWarning: \n",
      "        Use pd.to_datetime instead.\n",
      "\n",
      "  actigraph_data = pd.read_csv(data_path, usecols=['Actigraph Time', 'Actigraph Second Fraction', 'Actigraph X', 'Actigraph Y', 'Actigraph Z', 'Actigraph Magnitude'], parse_dates=[[0,1]], date_parser=parser_apple).dropna()\n"
     ]
    },
    {
     "name": "stdout",
     "output_type": "stream",
     "text": [
      "(396600, 5)\n",
      "Processing Participant 2991 179/191\n"
     ]
    },
    {
     "name": "stderr",
     "output_type": "stream",
     "text": [
      "C:\\Users\\sambit\\AppData\\Local\\Temp\\ipykernel_8812\\2134189346.py:7: FutureWarning: \n",
      "        Use pd.to_datetime instead.\n",
      "\n",
      "  actigraph_data = pd.read_csv(data_path, usecols=['Actigraph Time', 'Actigraph Second Fraction', 'Actigraph X', 'Actigraph Y', 'Actigraph Z', 'Actigraph Magnitude'], parse_dates=[[0,1]], date_parser=parser_apple).dropna()\n"
     ]
    },
    {
     "name": "stdout",
     "output_type": "stream",
     "text": [
      "(398500, 5)\n",
      "Processing Participant 2993 180/191\n"
     ]
    },
    {
     "name": "stderr",
     "output_type": "stream",
     "text": [
      "C:\\Users\\sambit\\AppData\\Local\\Temp\\ipykernel_8812\\2134189346.py:7: FutureWarning: \n",
      "        Use pd.to_datetime instead.\n",
      "\n",
      "  actigraph_data = pd.read_csv(data_path, usecols=['Actigraph Time', 'Actigraph Second Fraction', 'Actigraph X', 'Actigraph Y', 'Actigraph Z', 'Actigraph Magnitude'], parse_dates=[[0,1]], date_parser=parser_apple).dropna()\n"
     ]
    },
    {
     "name": "stdout",
     "output_type": "stream",
     "text": [
      "(332300, 5)\n",
      "Processing Participant 2995 181/191\n"
     ]
    },
    {
     "name": "stderr",
     "output_type": "stream",
     "text": [
      "C:\\Users\\sambit\\AppData\\Local\\Temp\\ipykernel_8812\\2134189346.py:7: FutureWarning: \n",
      "        Use pd.to_datetime instead.\n",
      "\n",
      "  actigraph_data = pd.read_csv(data_path, usecols=['Actigraph Time', 'Actigraph Second Fraction', 'Actigraph X', 'Actigraph Y', 'Actigraph Z', 'Actigraph Magnitude'], parse_dates=[[0,1]], date_parser=parser_apple).dropna()\n"
     ]
    },
    {
     "name": "stdout",
     "output_type": "stream",
     "text": [
      "(405400, 5)\n",
      "Processing Participant 2996 182/191\n"
     ]
    },
    {
     "name": "stderr",
     "output_type": "stream",
     "text": [
      "C:\\Users\\sambit\\AppData\\Local\\Temp\\ipykernel_8812\\2134189346.py:7: FutureWarning: \n",
      "        Use pd.to_datetime instead.\n",
      "\n",
      "  actigraph_data = pd.read_csv(data_path, usecols=['Actigraph Time', 'Actigraph Second Fraction', 'Actigraph X', 'Actigraph Y', 'Actigraph Z', 'Actigraph Magnitude'], parse_dates=[[0,1]], date_parser=parser_apple).dropna()\n"
     ]
    },
    {
     "name": "stdout",
     "output_type": "stream",
     "text": [
      "(359800, 5)\n",
      "Processing Participant 2999 183/191\n"
     ]
    },
    {
     "name": "stderr",
     "output_type": "stream",
     "text": [
      "C:\\Users\\sambit\\AppData\\Local\\Temp\\ipykernel_8812\\2134189346.py:7: FutureWarning: \n",
      "        Use pd.to_datetime instead.\n",
      "\n",
      "  actigraph_data = pd.read_csv(data_path, usecols=['Actigraph Time', 'Actigraph Second Fraction', 'Actigraph X', 'Actigraph Y', 'Actigraph Z', 'Actigraph Magnitude'], parse_dates=[[0,1]], date_parser=parser_apple).dropna()\n"
     ]
    },
    {
     "name": "stdout",
     "output_type": "stream",
     "text": [
      "(355000, 5)\n",
      "Processing Participant 3057 184/191\n"
     ]
    },
    {
     "name": "stderr",
     "output_type": "stream",
     "text": [
      "C:\\Users\\sambit\\AppData\\Local\\Temp\\ipykernel_8812\\2134189346.py:7: FutureWarning: \n",
      "        Use pd.to_datetime instead.\n",
      "\n",
      "  actigraph_data = pd.read_csv(data_path, usecols=['Actigraph Time', 'Actigraph Second Fraction', 'Actigraph X', 'Actigraph Y', 'Actigraph Z', 'Actigraph Magnitude'], parse_dates=[[0,1]], date_parser=parser_apple).dropna()\n"
     ]
    },
    {
     "name": "stdout",
     "output_type": "stream",
     "text": [
      "(409100, 5)\n",
      "Processing Participant 3058 185/191\n"
     ]
    },
    {
     "name": "stderr",
     "output_type": "stream",
     "text": [
      "C:\\Users\\sambit\\AppData\\Local\\Temp\\ipykernel_8812\\2134189346.py:7: FutureWarning: \n",
      "        Use pd.to_datetime instead.\n",
      "\n",
      "  actigraph_data = pd.read_csv(data_path, usecols=['Actigraph Time', 'Actigraph Second Fraction', 'Actigraph X', 'Actigraph Y', 'Actigraph Z', 'Actigraph Magnitude'], parse_dates=[[0,1]], date_parser=parser_apple).dropna()\n"
     ]
    },
    {
     "name": "stdout",
     "output_type": "stream",
     "text": [
      "(409100, 5)\n",
      "Processing Participant 3059 186/191\n"
     ]
    },
    {
     "name": "stderr",
     "output_type": "stream",
     "text": [
      "C:\\Users\\sambit\\AppData\\Local\\Temp\\ipykernel_8812\\2134189346.py:7: FutureWarning: \n",
      "        Use pd.to_datetime instead.\n",
      "\n",
      "  actigraph_data = pd.read_csv(data_path, usecols=['Actigraph Time', 'Actigraph Second Fraction', 'Actigraph X', 'Actigraph Y', 'Actigraph Z', 'Actigraph Magnitude'], parse_dates=[[0,1]], date_parser=parser_apple).dropna()\n"
     ]
    },
    {
     "name": "stdout",
     "output_type": "stream",
     "text": [
      "(342300, 5)\n",
      "Processing Participant 3060 187/191\n"
     ]
    },
    {
     "name": "stderr",
     "output_type": "stream",
     "text": [
      "C:\\Users\\sambit\\AppData\\Local\\Temp\\ipykernel_8812\\2134189346.py:7: FutureWarning: \n",
      "        Use pd.to_datetime instead.\n",
      "\n",
      "  actigraph_data = pd.read_csv(data_path, usecols=['Actigraph Time', 'Actigraph Second Fraction', 'Actigraph X', 'Actigraph Y', 'Actigraph Z', 'Actigraph Magnitude'], parse_dates=[[0,1]], date_parser=parser_apple).dropna()\n"
     ]
    },
    {
     "name": "stdout",
     "output_type": "stream",
     "text": [
      "(380700, 5)\n",
      "Processing Participant 3063 188/191\n"
     ]
    },
    {
     "name": "stderr",
     "output_type": "stream",
     "text": [
      "C:\\Users\\sambit\\AppData\\Local\\Temp\\ipykernel_8812\\2134189346.py:7: FutureWarning: \n",
      "        Use pd.to_datetime instead.\n",
      "\n",
      "  actigraph_data = pd.read_csv(data_path, usecols=['Actigraph Time', 'Actigraph Second Fraction', 'Actigraph X', 'Actigraph Y', 'Actigraph Z', 'Actigraph Magnitude'], parse_dates=[[0,1]], date_parser=parser_apple).dropna()\n"
     ]
    },
    {
     "name": "stdout",
     "output_type": "stream",
     "text": [
      "(344400, 5)\n",
      "Processing Participant 3160 189/191\n"
     ]
    },
    {
     "name": "stderr",
     "output_type": "stream",
     "text": [
      "C:\\Users\\sambit\\AppData\\Local\\Temp\\ipykernel_8812\\2134189346.py:7: FutureWarning: \n",
      "        Use pd.to_datetime instead.\n",
      "\n",
      "  actigraph_data = pd.read_csv(data_path, usecols=['Actigraph Time', 'Actigraph Second Fraction', 'Actigraph X', 'Actigraph Y', 'Actigraph Z', 'Actigraph Magnitude'], parse_dates=[[0,1]], date_parser=parser_apple).dropna()\n"
     ]
    },
    {
     "name": "stdout",
     "output_type": "stream",
     "text": [
      "(372000, 5)\n",
      "Processing Participant 3200 190/191\n"
     ]
    },
    {
     "name": "stderr",
     "output_type": "stream",
     "text": [
      "C:\\Users\\sambit\\AppData\\Local\\Temp\\ipykernel_8812\\2134189346.py:7: FutureWarning: \n",
      "        Use pd.to_datetime instead.\n",
      "\n",
      "  actigraph_data = pd.read_csv(data_path, usecols=['Actigraph Time', 'Actigraph Second Fraction', 'Actigraph X', 'Actigraph Y', 'Actigraph Z', 'Actigraph Magnitude'], parse_dates=[[0,1]], date_parser=parser_apple).dropna()\n"
     ]
    },
    {
     "name": "stdout",
     "output_type": "stream",
     "text": [
      "(392000, 5)\n",
      "Processing Participant 3201 191/191\n"
     ]
    },
    {
     "name": "stderr",
     "output_type": "stream",
     "text": [
      "C:\\Users\\sambit\\AppData\\Local\\Temp\\ipykernel_8812\\2134189346.py:7: FutureWarning: \n",
      "        Use pd.to_datetime instead.\n",
      "\n",
      "  actigraph_data = pd.read_csv(data_path, usecols=['Actigraph Time', 'Actigraph Second Fraction', 'Actigraph X', 'Actigraph Y', 'Actigraph Z', 'Actigraph Magnitude'], parse_dates=[[0,1]], date_parser=parser_apple).dropna()\n"
     ]
    },
    {
     "name": "stdout",
     "output_type": "stream",
     "text": [
      "(392000, 5)\n"
     ]
    }
   ],
   "source": [
    "pa_dir = \"V:/ACOI/R01 - W4K/3_PA protocol/1_Participants/\"\n",
    "out_dir = \"C:/Users/sambit/Desktop/Actigraph/20_seconds_Magnitude/\"\n",
    "\n",
    "participant_paths = glob(pa_dir + f\"[0-9][0-9][0-9][0-9]/*_aligned.csv\")\n",
    "total_participant = len(participant_paths)\n",
    "curr_participant = 1\n",
    "timewindow=20\n",
    "for participant in participant_paths:\n",
    "    participant_id = participant[len(pa_dir):len(pa_dir)+4]\n",
    "    print(f\"Processing Participant {participant_id} {curr_participant}/{total_participant}\")\n",
    "    # Read in data\n",
    "    \n",
    "    actigraph_accel, start = read_actigraph(participant)\n",
    "    if actigraph_accel is not None:\n",
    "        # Define output path for metrics\n",
    "        out_path = out_dir + participant_id + \"_accel_metrics.csv\"\n",
    "        # Calculate Metrics and write to file\n",
    "        print(actigraph_accel.shape)\n",
    "        accel_metrics(actigraph_accel, start, out_path,timewindow)\n",
    "\n",
    "    else:\n",
    "        print(f\"No Actigraph Data for {participant_id}\")\n",
    "    \n",
    "    curr_participant += 1"
   ]
  },
  {
   "cell_type": "markdown",
   "id": "9c611acf",
   "metadata": {},
   "source": [
    "### Combine Agg and Actigraph Data"
   ]
  },
  {
   "cell_type": "code",
   "execution_count": 3,
   "id": "54df94dd",
   "metadata": {},
   "outputs": [
    {
     "data": {
      "text/plain": [
       "'0118'"
      ]
     },
     "execution_count": 3,
     "metadata": {},
     "output_type": "execute_result"
    }
   ],
   "source": [
    "agg_dir=\"C:/Users/sambit/Desktop/Actigraph/Agg_Metrics/\"\n",
    "combined_dir = \"C:/Users/sambit/Desktop/Actigraph/30_seconds_Magnitude/\"\n",
    "out_dir=\"C:/Users/sambit/Desktop/Actigraph/\"\n",
    "participant_paths = glob(agg_dir + \"[0-9][0-9][0-9][0-9]_agg_metrics.csv\")\n",
    "total_participant = len(participant_paths)\n",
    "curr_participant = 1\n",
    "\n",
    "for participant in participant_paths:\n",
    "    participant_id = participant[-20:-16]\n",
    "    print(f\"Processing Participant {participant_id} {curr_participant}/{total_participant}\")\n",
    "    agg_path=agg_dir+f\"{participant_id}_agg_metrics.csv\"\n",
    "    \n",
    "    combined_path=combined_dir+f\"{participant_id}_accel_metrics.csv\"\n",
    "    if os.path.isfile(agg_file) and os.path.isfile(combined_file):\n",
    "        try:\n",
    "            agg_df = pd.read_csv(agg_path, parse_dates=['Time'], infer_datetime_format=True)\n",
    "        except:\n",
    "            agg_df = pd.read_csv(agg_path, parse_dates=['time'], infer_datetime_format=True)\n",
    "            \n",
    "        try:\n",
    "            # Update column name in hr_df to 'Time'\n",
    "            agg_df.rename(columns={'time': 'Time'}, inplace=True)\n",
    "        except:pass\n",
    "        \n",
    "        \n",
    "        \n",
    "        out_path=out_dir +f\"Combined_Actiheart_Metrics_With_Agg_30_seconds/{participant_id}_combined_metrics.csv\"\n",
    "        try:\n",
    "            agg_df.merge(hr_df, left_on='Time', right_on='Time', how='left').to_csv(out_path, index=False)\n",
    "        \n",
    "        \n",
    "            \n",
    "    curr_participant += 1"
   ]
  },
  {
   "cell_type": "code",
   "execution_count": 2,
   "id": "041c0ce9",
   "metadata": {},
   "outputs": [
    {
     "name": "stdout",
     "output_type": "stream",
     "text": [
      "Agg file 0118 1/192\n",
      "Agg file 0231 2/192\n",
      "Agg file 0444 3/192\n",
      "Agg file 0601 4/192\n",
      "Agg file 0618 5/192\n",
      "Agg file 0632 6/192\n",
      "Agg file 0695 7/192\n",
      "Agg file 0819 8/192\n",
      "Agg file 0967 9/192\n",
      "Agg file 1333 10/192\n",
      "Agg file 1760 11/192\n",
      "Agg file 1772 12/192\n",
      "Agg file 1779 13/192\n",
      "Agg file 1799 14/192\n",
      "Agg file 1854 15/192\n",
      "Agg file 1974 16/192\n",
      "Agg file 1991 17/192\n",
      "Agg file 2007 18/192\n",
      "Agg file 2031 19/192\n",
      "Agg file 2069 20/192\n",
      "Agg file 2113 21/192\n",
      "Agg file 2186 22/192\n",
      "Agg file 2187 23/192\n",
      "Agg file 2271 24/192\n",
      "Agg file 2272 25/192\n",
      "Agg file 2321 26/192\n",
      "Agg file 2355 27/192\n",
      "Agg file 2433 28/192\n",
      "Agg file 2453 29/192\n",
      "Agg file 2454 30/192\n",
      "Agg file 2455 31/192\n",
      "Agg file 2456 32/192\n",
      "Agg file 2457 33/192\n",
      "Agg file 2458 34/192\n",
      "Agg file 2470 35/192\n",
      "Agg file 2471 36/192\n",
      "Agg file 2473 37/192\n",
      "Agg file 2474 38/192\n",
      "Agg file 2475 39/192\n",
      "Agg file 2476 40/192\n",
      "Agg file 2479 41/192\n",
      "Agg file 2480 42/192\n",
      "Agg file 2495 43/192\n",
      "Agg file 2496 44/192\n",
      "Agg file 2497 45/192\n",
      "Agg file 2498 46/192\n",
      "Agg file 2499 47/192\n",
      "Agg file 2500 48/192\n",
      "Agg file 2501 49/192\n",
      "Agg file 2502 50/192\n",
      "Agg file 2503 51/192\n",
      "Agg file 2504 52/192\n",
      "Agg file 2505 53/192\n",
      "Agg file 2506 54/192\n",
      "Agg file 2507 55/192\n",
      "Agg file 2508 56/192\n",
      "Agg file 2517 57/192\n",
      "Agg file 2525 58/192\n",
      "Agg file 2531 59/192\n",
      "Agg file 2532 60/192\n",
      "Agg file 2533 61/192\n",
      "Agg file 2540 62/192\n",
      "Agg file 2541 63/192\n",
      "Agg file 2542 64/192\n",
      "Agg file 2543 65/192\n",
      "Agg file 2544 66/192\n",
      "Agg file 2545 67/192\n",
      "Agg file 2546 68/192\n",
      "Agg file 2557 69/192\n",
      "Agg file 2558 70/192\n",
      "Agg file 2559 71/192\n",
      "Agg file 2560 72/192\n",
      "Agg file 2566 73/192\n",
      "Agg file 2576 74/192\n",
      "Agg file 2584 75/192\n",
      "Agg file 2588 76/192\n",
      "Agg file 2589 77/192\n",
      "Agg file 2596 78/192\n",
      "Agg file 2601 79/192\n",
      "Agg file 2604 80/192\n",
      "Agg file 2605 81/192\n",
      "Agg file 2608 82/192\n",
      "Agg file 2611 83/192\n",
      "Agg file 2612 84/192\n",
      "Agg file 2613 85/192\n",
      "Agg file 2628 86/192\n",
      "Agg file 2629 87/192\n",
      "Agg file 2630 88/192\n",
      "Agg file 2631 89/192\n",
      "Agg file 2635 90/192\n",
      "Agg file 2637 91/192\n",
      "Agg file 2639 92/192\n",
      "Agg file 2640 93/192\n",
      "Agg file 2641 94/192\n",
      "Agg file 2642 95/192\n",
      "Agg file 2643 96/192\n",
      "Agg file 2644 97/192\n",
      "Agg file 2645 98/192\n",
      "Agg file 2646 99/192\n",
      "Agg file 2647 100/192\n",
      "Agg file 2648 101/192\n",
      "Agg file 2649 102/192\n",
      "Agg file 2650 103/192\n",
      "Agg file 2651 104/192\n",
      "Agg file 2653 105/192\n",
      "Agg file 2657 106/192\n",
      "Agg file 2661 107/192\n",
      "Agg file 2662 108/192\n",
      "Agg file 2663 109/192\n",
      "Agg file 2664 110/192\n",
      "Agg file 2665 111/192\n",
      "Agg file 2666 112/192\n",
      "Agg file 2667 113/192\n",
      "Agg file 2668 114/192\n",
      "Agg file 2669 115/192\n",
      "Agg file 2670 116/192\n",
      "Agg file 2671 117/192\n",
      "Agg file 2672 118/192\n",
      "Agg file 2673 119/192\n",
      "Agg file 2674 120/192\n",
      "Agg file 2675 121/192\n",
      "Agg file 2676 122/192\n"
     ]
    },
    {
     "name": "stderr",
     "output_type": "stream",
     "text": [
      "C:\\Users\\sambit\\AppData\\Local\\Temp\\ipykernel_9024\\3759735326.py:16: DtypeWarning: Columns (0) have mixed types. Specify dtype option on import or set low_memory=False.\n",
      "  agg_file=pd.read_csv(agg_file)\n"
     ]
    },
    {
     "name": "stdout",
     "output_type": "stream",
     "text": [
      "Agg file 2678 123/192\n",
      "Agg file 2679 124/192\n",
      "Agg file 2680 125/192\n",
      "Agg file 2681 126/192\n",
      "Agg file 2683 127/192\n",
      "Agg file 2684 128/192\n",
      "Agg file 2685 129/192\n",
      "Agg file 2686 130/192\n"
     ]
    },
    {
     "name": "stderr",
     "output_type": "stream",
     "text": [
      "C:\\Users\\sambit\\AppData\\Local\\Temp\\ipykernel_9024\\3759735326.py:16: DtypeWarning: Columns (0,1) have mixed types. Specify dtype option on import or set low_memory=False.\n",
      "  agg_file=pd.read_csv(agg_file)\n"
     ]
    },
    {
     "name": "stdout",
     "output_type": "stream",
     "text": [
      "Agg file 2687 131/192\n",
      "Agg file 2688 132/192\n",
      "Agg file 2689 133/192\n",
      "Agg file 2690 134/192\n",
      "Agg file 2691 135/192\n",
      "Agg file 2692 136/192\n",
      "Agg file 2706 137/192\n",
      "Agg file 2709 138/192\n",
      "Agg file 2710 139/192\n",
      "Agg file 2711 140/192\n",
      "Agg file 2712 141/192\n",
      "Agg file 2753 142/192\n",
      "Agg file 2774 143/192\n",
      "Agg file 2775 144/192\n",
      "Agg file 2776 145/192\n",
      "Agg file 2778 146/192\n",
      "Agg file 2779 147/192\n",
      "Agg file 2780 148/192\n",
      "Agg file 2781 149/192\n",
      "Agg file 2782 150/192\n",
      "Agg file 2783 151/192\n",
      "Agg file 2788 152/192\n",
      "Agg file 2789 153/192\n",
      "Agg file 2790 154/192\n",
      "Agg file 2792 155/192\n",
      "Agg file 2793 156/192\n",
      "Agg file 2794 157/192\n",
      "Agg file 2795 158/192\n",
      "Agg file 2796 159/192\n",
      "Agg file 2797 160/192\n",
      "Agg file 2798 161/192\n",
      "Agg file 2801 162/192\n",
      "Agg file 2812 163/192\n",
      "Agg file 2813 164/192\n",
      "Agg file 2814 165/192\n"
     ]
    },
    {
     "name": "stderr",
     "output_type": "stream",
     "text": [
      "C:\\Users\\sambit\\AppData\\Local\\Temp\\ipykernel_9024\\3759735326.py:16: DtypeWarning: Columns (0,1) have mixed types. Specify dtype option on import or set low_memory=False.\n",
      "  agg_file=pd.read_csv(agg_file)\n"
     ]
    },
    {
     "name": "stdout",
     "output_type": "stream",
     "text": [
      "Agg file 2815 166/192\n",
      "Agg file 2816 167/192\n",
      "Agg file 2817 168/192\n",
      "Agg file 2818 169/192\n",
      "Agg file 2819 170/192\n",
      "Agg file 2820 171/192\n",
      "Agg file 2821 172/192\n",
      "Agg file 2822 173/192\n",
      "Agg file 2823 174/192\n",
      "Agg file 2824 175/192\n"
     ]
    },
    {
     "name": "stderr",
     "output_type": "stream",
     "text": [
      "C:\\Users\\sambit\\AppData\\Local\\Temp\\ipykernel_9024\\3759735326.py:16: DtypeWarning: Columns (0,1) have mixed types. Specify dtype option on import or set low_memory=False.\n",
      "  agg_file=pd.read_csv(agg_file)\n"
     ]
    },
    {
     "name": "stdout",
     "output_type": "stream",
     "text": [
      "Agg file 2987 176/192\n",
      "Agg file 2988 177/192\n",
      "Agg file 2989 178/192\n",
      "Agg file 2990 179/192\n",
      "Agg file 2991 180/192\n",
      "Agg file 2993 181/192\n",
      "Agg file 2995 182/192\n",
      "Agg file 2996 183/192\n",
      "Agg file 2999 184/192\n",
      "Agg file 3057 185/192\n",
      "Agg file 3058 186/192\n",
      "Agg file 3059 187/192\n",
      "Agg file 3060 188/192\n"
     ]
    },
    {
     "name": "stderr",
     "output_type": "stream",
     "text": [
      "C:\\Users\\sambit\\AppData\\Local\\Temp\\ipykernel_9024\\3759735326.py:16: DtypeWarning: Columns (0) have mixed types. Specify dtype option on import or set low_memory=False.\n",
      "  agg_file=pd.read_csv(agg_file)\n"
     ]
    },
    {
     "name": "stdout",
     "output_type": "stream",
     "text": [
      "Agg file 3063 189/192\n",
      "Agg file 3160 190/192\n",
      "Agg file 3200 191/192\n",
      "Agg file 3201 192/192\n"
     ]
    }
   ],
   "source": [
    "agg_dir=\"V:/ACOI/R01 - W4K/3_PA protocol/1_Participants/\"\n",
    "out_dir = \"C:/Users/sambit/Desktop/Actigraph/Agg_Metrics/\"\n",
    "\n",
    "ds_begin = datetime(year=2022, month=3, day=13)\n",
    "ds_end = datetime(year=2023, month=7, day=6)\n",
    "participant_paths = glob(agg_dir + \"[0-9][0-9][0-9][0-9]/\")\n",
    "total_participant = len(participant_paths)\n",
    "curr_participant = 1\n",
    "column_values=[]\n",
    "\n",
    "for participant in participant_paths:\n",
    "    p_id=participant[-5:-1]\n",
    "    print(f\"Agg file {p_id} {curr_participant}/{total_participant}\")\n",
    "    try:\n",
    "        agg_file=participant+f\"{p_id}_agg.csv\"\n",
    "        agg_file=pd.read_csv(agg_file)\n",
    "    except:pass\n",
    "    try:\n",
    "        agg_file = agg_file.iloc[:, [0, 1, 2, 7,8,8,10,11,12,13,14,15,16,17,18,19,54, 55, 56, 57, 58, 59, 60, 61, 62, 63, 64,65,66]]\n",
    "        agg_file.to_csv(out_dir+f\"{p_id}_agg_metrics.csv\")\n",
    "    except:\n",
    "        pass\n",
    "    \n",
    "    curr_participant+=1"
   ]
  },
  {
   "cell_type": "code",
   "execution_count": null,
   "id": "c1060a4e",
   "metadata": {},
   "outputs": [],
   "source": []
  }
 ],
 "metadata": {
  "kernelspec": {
   "display_name": "Python 3 (ipykernel)",
   "language": "python",
   "name": "python3"
  },
  "language_info": {
   "codemirror_mode": {
    "name": "ipython",
    "version": 3
   },
   "file_extension": ".py",
   "mimetype": "text/x-python",
   "name": "python",
   "nbconvert_exporter": "python",
   "pygments_lexer": "ipython3",
   "version": "3.10.9"
  }
 },
 "nbformat": 4,
 "nbformat_minor": 5
}
